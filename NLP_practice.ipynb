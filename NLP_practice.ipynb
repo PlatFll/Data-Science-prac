{
  "nbformat": 4,
  "nbformat_minor": 0,
  "metadata": {
    "colab": {
      "provenance": [],
      "collapsed_sections": []
    },
    "kernelspec": {
      "name": "python3",
      "display_name": "Python 3"
    },
    "language_info": {
      "name": "python"
    }
  },
  "cells": [
    {
      "cell_type": "code",
      "source": [
        "from google.colab import drive\n",
        "drive.mount('/content/drive')"
      ],
      "metadata": {
        "colab": {
          "base_uri": "https://localhost:8080/"
        },
        "id": "kpWIr1HHoXfS",
        "outputId": "22317e94-bc19-492b-94d7-5d2bccbf7fa6"
      },
      "execution_count": null,
      "outputs": [
        {
          "output_type": "stream",
          "name": "stdout",
          "text": [
            "Mounted at /content/drive\n"
          ]
        }
      ]
    },
    {
      "cell_type": "code",
      "source": [
        "import os\n",
        "import nltk\n",
        "import nltk.corpus"
      ],
      "metadata": {
        "id": "tgDRsMDXoZPb"
      },
      "execution_count": null,
      "outputs": []
    },
    {
      "cell_type": "code",
      "source": [
        "nltk.download('all')"
      ],
      "metadata": {
        "id": "w79O5zWfpKjZ"
      },
      "execution_count": null,
      "outputs": []
    },
    {
      "cell_type": "code",
      "source": [
        "from nltk.corpus import brown\n",
        "brown.words()"
      ],
      "metadata": {
        "colab": {
          "base_uri": "https://localhost:8080/"
        },
        "id": "9r72Yz-9o4mC",
        "outputId": "db97f342-1762-4510-891f-f1d9c19c29c1"
      },
      "execution_count": null,
      "outputs": [
        {
          "output_type": "execute_result",
          "data": {
            "text/plain": [
              "['The', 'Fulton', 'County', 'Grand', 'Jury', 'said', ...]"
            ]
          },
          "metadata": {},
          "execution_count": 4
        }
      ]
    },
    {
      "cell_type": "code",
      "source": [
        "nltk.corpus.gutenberg.fileids()"
      ],
      "metadata": {
        "id": "uHQJ7sJPpU2R"
      },
      "execution_count": null,
      "outputs": []
    },
    {
      "cell_type": "code",
      "source": [
        "hamlet = nltk.corpus.gutenberg.words('shakespeare-hamlet.txt')"
      ],
      "metadata": {
        "id": "GMVZxYR1qAgh"
      },
      "execution_count": null,
      "outputs": []
    },
    {
      "cell_type": "code",
      "source": [
        "hamlet"
      ],
      "metadata": {
        "colab": {
          "base_uri": "https://localhost:8080/"
        },
        "id": "l-RQcegcqPWC",
        "outputId": "ad7d2903-a7b7-44be-edd4-10c58ce9032b"
      },
      "execution_count": null,
      "outputs": [
        {
          "output_type": "execute_result",
          "data": {
            "text/plain": [
              "['[', 'The', 'Tragedie', 'of', 'Hamlet', 'by', ...]"
            ]
          },
          "metadata": {},
          "execution_count": 16
        }
      ]
    },
    {
      "cell_type": "code",
      "source": [
        "for word in hamlet[:500]:\n",
        "  print(word, sep = ' ', end = ' ')"
      ],
      "metadata": {
        "id": "JKI1KtQnqSqS"
      },
      "execution_count": null,
      "outputs": []
    },
    {
      "cell_type": "code",
      "source": [
        "string =  \"\"\" 345 Unfortunately, 1234 unintended consequences like these are not limited to amusing failures in outdated video games.[0]\n",
        "              Amazon used an AI to screen resumés, thinking this would increase the fairness and efficiency of their hiring process. \n",
        "              Instead, they discovered the AI was biased against women. \n",
        "              \n",
        "              It penalised resumés containing words like \"women's\" and \"netball,\"\n",
        "              while favouring language more frequently used by men, such as \"executed\" and \"captured.\" This was not intended, \n",
        "              but that may be of little comfort to the women whose applications were rejected because of their gender.\n",
        "              Ensuring AI is used to benefit everyone is already a challenge, and it's critical we get it right. \n",
        "              As AI becomes more powerful, so does its scope for affecting our economy, politics, and culture. \n",
        "              This has the potential to be either extremely good, or extremely bad. \n",
        "              \n",
        "              On the one hand, AI could help us make advances in science and technology that allow us to tackle\n",
        "              the world's most important problems. On the other hand, powerful, but out-of-control AI systems \n",
        "              (or \"misaligned AI\") could result in disaster for humanity. Given the stakes, working towards \n",
        "              beneficial AI is a high-priority cause that we recommend supporting, especially if you care about \n",
        "              safeguarding the long-term future.\"\"\""
      ],
      "metadata": {
        "id": "aq-3o-IYqkOC"
      },
      "execution_count": null,
      "outputs": []
    },
    {
      "cell_type": "code",
      "source": [
        "from nltk.tokenize import word_tokenize"
      ],
      "metadata": {
        "id": "cy83pAv7sI4t"
      },
      "execution_count": null,
      "outputs": []
    },
    {
      "cell_type": "code",
      "source": [
        "string_tokens = word_tokenize(string)\n",
        "string_tokens"
      ],
      "metadata": {
        "id": "cQozutRvsRR6"
      },
      "execution_count": null,
      "outputs": []
    },
    {
      "cell_type": "code",
      "source": [
        "from nltk.probability import FreqDist\n",
        "fdist = FreqDist()"
      ],
      "metadata": {
        "id": "BsLXN20ksd5i"
      },
      "execution_count": null,
      "outputs": []
    },
    {
      "cell_type": "code",
      "source": [
        "for word in string_tokens:\n",
        "  fdist[word.lower()]+=1\n",
        "fdist"
      ],
      "metadata": {
        "colab": {
          "base_uri": "https://localhost:8080/"
        },
        "id": "oP8y4J1SsxMj",
        "outputId": "2f236223-6b0e-48ba-b577-2a22699bc30d"
      },
      "execution_count": null,
      "outputs": [
        {
          "output_type": "execute_result",
          "data": {
            "text/plain": [
              "FreqDist({',': 16, '.': 11, 'the': 9, 'ai': 8, 'to': 6, 'and': 6, '``': 5, \"''\": 5, 'in': 3, 'used': 3, ...})"
            ]
          },
          "metadata": {},
          "execution_count": 9
        }
      ]
    },
    {
      "cell_type": "code",
      "source": [
        "fdist['ai']"
      ],
      "metadata": {
        "id": "tKduCR2LtXFi"
      },
      "execution_count": null,
      "outputs": []
    },
    {
      "cell_type": "code",
      "source": [
        "len(fdist)"
      ],
      "metadata": {
        "id": "iqG7qw1OuB-b"
      },
      "execution_count": null,
      "outputs": []
    },
    {
      "cell_type": "code",
      "source": [
        "fdist_top10 = fdist.most_common(10)\n",
        "fdist_top10"
      ],
      "metadata": {
        "id": "NF89Rtq6uLMb"
      },
      "execution_count": null,
      "outputs": []
    },
    {
      "cell_type": "code",
      "source": [
        "from nltk.tokenize import blankline_tokenize\n",
        "string_blank = blankline_tokenize(string)\n",
        "len(string_blank)"
      ],
      "metadata": {
        "id": "MkqMJNYhuaKD"
      },
      "execution_count": null,
      "outputs": []
    },
    {
      "cell_type": "code",
      "source": [
        "string_blank[0]"
      ],
      "metadata": {
        "id": "poqByzIku0QU"
      },
      "execution_count": null,
      "outputs": []
    },
    {
      "cell_type": "code",
      "source": [
        "from nltk.util import bigrams , trigrams, ngrams"
      ],
      "metadata": {
        "id": "FWQLUfIevDnL"
      },
      "execution_count": null,
      "outputs": []
    },
    {
      "cell_type": "code",
      "source": [
        "string2 = \"The best and most beautiful things in the world cannot be seen or even touched, they must be felt with the heart\"\n",
        "quotes_tokens = nltk.word_tokenize(string2)\n",
        "quotes_tokens"
      ],
      "metadata": {
        "id": "cxKvb8ZyvT_l"
      },
      "execution_count": null,
      "outputs": []
    },
    {
      "cell_type": "code",
      "source": [
        "quotes_bigram = list(nltk.bigrams(quotes_tokens))\n",
        "quotes_bigram"
      ],
      "metadata": {
        "id": "c_AWhIJ3vqQz"
      },
      "execution_count": null,
      "outputs": []
    },
    {
      "cell_type": "code",
      "source": [
        "from nltk.stem import PorterStemmer\n",
        "pst = PorterStemmer()"
      ],
      "metadata": {
        "id": "A9VK4tBHixPM"
      },
      "execution_count": null,
      "outputs": []
    },
    {
      "cell_type": "code",
      "source": [
        "pst.stem(\"having\")"
      ],
      "metadata": {
        "colab": {
          "base_uri": "https://localhost:8080/",
          "height": 35
        },
        "id": "cSeBd8Sxjis1",
        "outputId": "2768089d-7462-4ae2-ea4b-133233a7b9ab"
      },
      "execution_count": null,
      "outputs": [
        {
          "output_type": "execute_result",
          "data": {
            "text/plain": [
              "'have'"
            ],
            "application/vnd.google.colaboratory.intrinsic+json": {
              "type": "string"
            }
          },
          "metadata": {},
          "execution_count": 16
        }
      ]
    },
    {
      "cell_type": "code",
      "source": [
        "from nltk.stem import LancasterStemmer\n",
        "lst = LancasterStemmer()\n",
        "words_to_stem = ['give', 'giving', 'given', 'gave']\n",
        "for words in words_to_stem:\n",
        "  print(words+ \":\" +lst.stem(words))"
      ],
      "metadata": {
        "id": "JoBMG7HhjmQl"
      },
      "execution_count": null,
      "outputs": []
    },
    {
      "cell_type": "code",
      "source": [
        "from nltk.stem import wordnet \n",
        "from nltk.stem import WordNetLemmatizer\n",
        "word_lem = WordNetLemmatizer()"
      ],
      "metadata": {
        "id": "vHVASTNIkqqH"
      },
      "execution_count": null,
      "outputs": []
    },
    {
      "cell_type": "code",
      "source": [
        "for words in words_to_stem:\n",
        "  print(words+\":\"+word_lem.lemmatize(words))"
      ],
      "metadata": {
        "id": "i_Etd6V3k42Q"
      },
      "execution_count": null,
      "outputs": []
    },
    {
      "cell_type": "code",
      "source": [
        "from nltk.corpus import stopwords"
      ],
      "metadata": {
        "id": "AzCAWTR8laXe"
      },
      "execution_count": null,
      "outputs": []
    },
    {
      "cell_type": "code",
      "source": [
        "\n",
        "import re \n",
        "punctuation = re.compile(r'[-.?!''`,:;()|0-9]')"
      ],
      "metadata": {
        "id": "O8Wb8kgJleci"
      },
      "execution_count": null,
      "outputs": []
    },
    {
      "cell_type": "code",
      "source": [
        "post_punctuation = []\n",
        "for words in string_tokens:\n",
        "  word = punctuation.sub(\"\",words)\n",
        "  if len(word) > 0:\n",
        "    post_punctuation.append(word)"
      ],
      "metadata": {
        "id": "RXHbmDIil7ve"
      },
      "execution_count": null,
      "outputs": []
    },
    {
      "cell_type": "code",
      "source": [
        "post_punctuation"
      ],
      "metadata": {
        "id": "l8I8bG38mQGv"
      },
      "execution_count": null,
      "outputs": []
    },
    {
      "cell_type": "code",
      "source": [],
      "metadata": {
        "id": "Igrz_XXkmvgn"
      },
      "execution_count": null,
      "outputs": []
    }
  ]
}