{
  "nbformat": 4,
  "nbformat_minor": 0,
  "metadata": {
    "colab": {
      "provenance": [],
      "collapsed_sections": []
    },
    "kernelspec": {
      "name": "python3",
      "display_name": "Python 3"
    },
    "language_info": {
      "name": "python"
    }
  },
  "cells": [
    {
      "cell_type": "code",
      "source": [
        "from google.colab import drive\n",
        "drive.mount('/content/drive')"
      ],
      "metadata": {
        "colab": {
          "base_uri": "https://localhost:8080/"
        },
        "id": "d1aECFs-DNjt",
        "outputId": "4923b6f5-9999-4f64-9358-c740c68259ae"
      },
      "execution_count": null,
      "outputs": [
        {
          "output_type": "stream",
          "name": "stdout",
          "text": [
            "Mounted at /content/drive\n"
          ]
        }
      ]
    },
    {
      "cell_type": "code",
      "execution_count": null,
      "metadata": {
        "id": "NuvCZsyECNtz",
        "colab": {
          "resources": {
            "http://localhost:8080/nbextensions/google.colab/files.js": {
              "data": "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",
              "ok": true,
              "headers": [
                [
                  "content-type",
                  "application/javascript"
                ]
              ],
              "status": 200,
              "status_text": ""
            }
          },
          "base_uri": "https://localhost:8080/",
          "height": 73
        },
        "outputId": "dbd14ef7-f9b8-4040-f967-35688f7ed451"
      },
      "outputs": [
        {
          "output_type": "display_data",
          "data": {
            "text/plain": [
              "<IPython.core.display.HTML object>"
            ],
            "text/html": [
              "\n",
              "     <input type=\"file\" id=\"files-3570ff04-5660-4eaf-97c5-f7cf3863f780\" name=\"files[]\" multiple disabled\n",
              "        style=\"border:none\" />\n",
              "     <output id=\"result-3570ff04-5660-4eaf-97c5-f7cf3863f780\">\n",
              "      Upload widget is only available when the cell has been executed in the\n",
              "      current browser session. Please rerun this cell to enable.\n",
              "      </output>\n",
              "      <script src=\"/nbextensions/google.colab/files.js\"></script> "
            ]
          },
          "metadata": {}
        },
        {
          "output_type": "stream",
          "name": "stdout",
          "text": [
            "Saving vaccinations.csv to vaccinations.csv\n"
          ]
        }
      ],
      "source": [
        "import numpy as np\n",
        "import matplotlib.pyplot as plt\n",
        "from google.colab import files\n",
        "import io\n",
        "import pandas as pd\n",
        "from skimage import io\n",
        "from PIL import Image\n",
        "import cv2 as cv\n",
        "from google.colab.patches import cv2_imshow\n",
        "from google.colab import files\n",
        "from IPython.display import Image\n",
        "from sklearn import preprocessing\n",
        "from sklearn.preprocessing import MinMaxScaler\n",
        "from sklearn.linear_model import LinearRegression\n",
        "\n",
        "\n",
        "data = files.upload()"
      ]
    },
    {
      "cell_type": "code",
      "source": [
        "import seaborn as sns"
      ],
      "metadata": {
        "id": "dZcUWztHNdbP"
      },
      "execution_count": null,
      "outputs": []
    },
    {
      "cell_type": "code",
      "source": [
        "df = pd.read_csv('vaccinations.csv')\n",
        "\n",
        "df"
      ],
      "metadata": {
        "id": "Ox32cyUWFgyZ",
        "colab": {
          "base_uri": "https://localhost:8080/",
          "height": 661
        },
        "outputId": "f8c07f59-d6c9-4233-8053-35d20c53610b"
      },
      "execution_count": null,
      "outputs": [
        {
          "output_type": "execute_result",
          "data": {
            "text/plain": [
              "           location iso_code        date  total_vaccinations  \\\n",
              "0       Afghanistan      AFG  2021-02-22                 0.0   \n",
              "1       Afghanistan      AFG  2021-02-23                 NaN   \n",
              "2       Afghanistan      AFG  2021-02-24                 NaN   \n",
              "3       Afghanistan      AFG  2021-02-25                 NaN   \n",
              "4       Afghanistan      AFG  2021-02-26                 NaN   \n",
              "...             ...      ...         ...                 ...   \n",
              "121080     Zimbabwe      ZWE  2022-07-27          12168972.0   \n",
              "121081     Zimbabwe      ZWE  2022-07-28          12173026.0   \n",
              "121082     Zimbabwe      ZWE  2022-07-29          12175457.0   \n",
              "121083     Zimbabwe      ZWE  2022-07-30          12180877.0   \n",
              "121084     Zimbabwe      ZWE  2022-07-31          12182698.0   \n",
              "\n",
              "        people_vaccinated  people_fully_vaccinated  total_boosters  \\\n",
              "0                     0.0                      NaN             NaN   \n",
              "1                     NaN                      NaN             NaN   \n",
              "2                     NaN                      NaN             NaN   \n",
              "3                     NaN                      NaN             NaN   \n",
              "4                     NaN                      NaN             NaN   \n",
              "...                   ...                      ...             ...   \n",
              "121080          6370434.0                4688789.0       1109749.0   \n",
              "121081          6371959.0                4690254.0       1110813.0   \n",
              "121082          6372686.0                4691111.0       1111660.0   \n",
              "121083          6375973.0                4691667.0       1113237.0   \n",
              "121084          6376117.0                4692440.0       1114141.0   \n",
              "\n",
              "        daily_vaccinations_raw  daily_vaccinations  \\\n",
              "0                          NaN                 NaN   \n",
              "1                          NaN              1367.0   \n",
              "2                          NaN              1367.0   \n",
              "3                          NaN              1367.0   \n",
              "4                          NaN              1367.0   \n",
              "...                        ...                 ...   \n",
              "121080                 11550.0              9567.0   \n",
              "121081                  4054.0              7150.0   \n",
              "121082                  2431.0              5261.0   \n",
              "121083                  5420.0              5603.0   \n",
              "121084                  1821.0              4958.0   \n",
              "\n",
              "        total_vaccinations_per_hundred  people_vaccinated_per_hundred  \\\n",
              "0                                 0.00                           0.00   \n",
              "1                                  NaN                            NaN   \n",
              "2                                  NaN                            NaN   \n",
              "3                                  NaN                            NaN   \n",
              "4                                  NaN                            NaN   \n",
              "...                                ...                            ...   \n",
              "121080                           76.09                          39.83   \n",
              "121081                           76.11                          39.84   \n",
              "121082                           76.13                          39.85   \n",
              "121083                           76.16                          39.87   \n",
              "121084                           76.17                          39.87   \n",
              "\n",
              "        people_fully_vaccinated_per_hundred  total_boosters_per_hundred  \\\n",
              "0                                       NaN                         NaN   \n",
              "1                                       NaN                         NaN   \n",
              "2                                       NaN                         NaN   \n",
              "3                                       NaN                         NaN   \n",
              "4                                       NaN                         NaN   \n",
              "...                                     ...                         ...   \n",
              "121080                                29.32                        6.94   \n",
              "121081                                29.33                        6.95   \n",
              "121082                                29.33                        6.95   \n",
              "121083                                29.33                        6.96   \n",
              "121084                                29.34                        6.97   \n",
              "\n",
              "        daily_vaccinations_per_million  daily_people_vaccinated  \\\n",
              "0                                  NaN                      NaN   \n",
              "1                                 34.0                   1367.0   \n",
              "2                                 34.0                   1367.0   \n",
              "3                                 34.0                   1367.0   \n",
              "4                                 34.0                   1367.0   \n",
              "...                                ...                      ...   \n",
              "121080                           598.0                   2711.0   \n",
              "121081                           447.0                   2122.0   \n",
              "121082                           329.0                   1950.0   \n",
              "121083                           350.0                   2130.0   \n",
              "121084                           310.0                   1954.0   \n",
              "\n",
              "        daily_people_vaccinated_per_hundred  \n",
              "0                                       NaN  \n",
              "1                                     0.003  \n",
              "2                                     0.003  \n",
              "3                                     0.003  \n",
              "4                                     0.003  \n",
              "...                                     ...  \n",
              "121080                                0.017  \n",
              "121081                                0.013  \n",
              "121082                                0.012  \n",
              "121083                                0.013  \n",
              "121084                                0.012  \n",
              "\n",
              "[121085 rows x 16 columns]"
            ],
            "text/html": [
              "\n",
              "  <div id=\"df-90089801-5a93-44f9-b848-52948eb122f2\">\n",
              "    <div class=\"colab-df-container\">\n",
              "      <div>\n",
              "<style scoped>\n",
              "    .dataframe tbody tr th:only-of-type {\n",
              "        vertical-align: middle;\n",
              "    }\n",
              "\n",
              "    .dataframe tbody tr th {\n",
              "        vertical-align: top;\n",
              "    }\n",
              "\n",
              "    .dataframe thead th {\n",
              "        text-align: right;\n",
              "    }\n",
              "</style>\n",
              "<table border=\"1\" class=\"dataframe\">\n",
              "  <thead>\n",
              "    <tr style=\"text-align: right;\">\n",
              "      <th></th>\n",
              "      <th>location</th>\n",
              "      <th>iso_code</th>\n",
              "      <th>date</th>\n",
              "      <th>total_vaccinations</th>\n",
              "      <th>people_vaccinated</th>\n",
              "      <th>people_fully_vaccinated</th>\n",
              "      <th>total_boosters</th>\n",
              "      <th>daily_vaccinations_raw</th>\n",
              "      <th>daily_vaccinations</th>\n",
              "      <th>total_vaccinations_per_hundred</th>\n",
              "      <th>people_vaccinated_per_hundred</th>\n",
              "      <th>people_fully_vaccinated_per_hundred</th>\n",
              "      <th>total_boosters_per_hundred</th>\n",
              "      <th>daily_vaccinations_per_million</th>\n",
              "      <th>daily_people_vaccinated</th>\n",
              "      <th>daily_people_vaccinated_per_hundred</th>\n",
              "    </tr>\n",
              "  </thead>\n",
              "  <tbody>\n",
              "    <tr>\n",
              "      <th>0</th>\n",
              "      <td>Afghanistan</td>\n",
              "      <td>AFG</td>\n",
              "      <td>2021-02-22</td>\n",
              "      <td>0.0</td>\n",
              "      <td>0.0</td>\n",
              "      <td>NaN</td>\n",
              "      <td>NaN</td>\n",
              "      <td>NaN</td>\n",
              "      <td>NaN</td>\n",
              "      <td>0.00</td>\n",
              "      <td>0.00</td>\n",
              "      <td>NaN</td>\n",
              "      <td>NaN</td>\n",
              "      <td>NaN</td>\n",
              "      <td>NaN</td>\n",
              "      <td>NaN</td>\n",
              "    </tr>\n",
              "    <tr>\n",
              "      <th>1</th>\n",
              "      <td>Afghanistan</td>\n",
              "      <td>AFG</td>\n",
              "      <td>2021-02-23</td>\n",
              "      <td>NaN</td>\n",
              "      <td>NaN</td>\n",
              "      <td>NaN</td>\n",
              "      <td>NaN</td>\n",
              "      <td>NaN</td>\n",
              "      <td>1367.0</td>\n",
              "      <td>NaN</td>\n",
              "      <td>NaN</td>\n",
              "      <td>NaN</td>\n",
              "      <td>NaN</td>\n",
              "      <td>34.0</td>\n",
              "      <td>1367.0</td>\n",
              "      <td>0.003</td>\n",
              "    </tr>\n",
              "    <tr>\n",
              "      <th>2</th>\n",
              "      <td>Afghanistan</td>\n",
              "      <td>AFG</td>\n",
              "      <td>2021-02-24</td>\n",
              "      <td>NaN</td>\n",
              "      <td>NaN</td>\n",
              "      <td>NaN</td>\n",
              "      <td>NaN</td>\n",
              "      <td>NaN</td>\n",
              "      <td>1367.0</td>\n",
              "      <td>NaN</td>\n",
              "      <td>NaN</td>\n",
              "      <td>NaN</td>\n",
              "      <td>NaN</td>\n",
              "      <td>34.0</td>\n",
              "      <td>1367.0</td>\n",
              "      <td>0.003</td>\n",
              "    </tr>\n",
              "    <tr>\n",
              "      <th>3</th>\n",
              "      <td>Afghanistan</td>\n",
              "      <td>AFG</td>\n",
              "      <td>2021-02-25</td>\n",
              "      <td>NaN</td>\n",
              "      <td>NaN</td>\n",
              "      <td>NaN</td>\n",
              "      <td>NaN</td>\n",
              "      <td>NaN</td>\n",
              "      <td>1367.0</td>\n",
              "      <td>NaN</td>\n",
              "      <td>NaN</td>\n",
              "      <td>NaN</td>\n",
              "      <td>NaN</td>\n",
              "      <td>34.0</td>\n",
              "      <td>1367.0</td>\n",
              "      <td>0.003</td>\n",
              "    </tr>\n",
              "    <tr>\n",
              "      <th>4</th>\n",
              "      <td>Afghanistan</td>\n",
              "      <td>AFG</td>\n",
              "      <td>2021-02-26</td>\n",
              "      <td>NaN</td>\n",
              "      <td>NaN</td>\n",
              "      <td>NaN</td>\n",
              "      <td>NaN</td>\n",
              "      <td>NaN</td>\n",
              "      <td>1367.0</td>\n",
              "      <td>NaN</td>\n",
              "      <td>NaN</td>\n",
              "      <td>NaN</td>\n",
              "      <td>NaN</td>\n",
              "      <td>34.0</td>\n",
              "      <td>1367.0</td>\n",
              "      <td>0.003</td>\n",
              "    </tr>\n",
              "    <tr>\n",
              "      <th>...</th>\n",
              "      <td>...</td>\n",
              "      <td>...</td>\n",
              "      <td>...</td>\n",
              "      <td>...</td>\n",
              "      <td>...</td>\n",
              "      <td>...</td>\n",
              "      <td>...</td>\n",
              "      <td>...</td>\n",
              "      <td>...</td>\n",
              "      <td>...</td>\n",
              "      <td>...</td>\n",
              "      <td>...</td>\n",
              "      <td>...</td>\n",
              "      <td>...</td>\n",
              "      <td>...</td>\n",
              "      <td>...</td>\n",
              "    </tr>\n",
              "    <tr>\n",
              "      <th>121080</th>\n",
              "      <td>Zimbabwe</td>\n",
              "      <td>ZWE</td>\n",
              "      <td>2022-07-27</td>\n",
              "      <td>12168972.0</td>\n",
              "      <td>6370434.0</td>\n",
              "      <td>4688789.0</td>\n",
              "      <td>1109749.0</td>\n",
              "      <td>11550.0</td>\n",
              "      <td>9567.0</td>\n",
              "      <td>76.09</td>\n",
              "      <td>39.83</td>\n",
              "      <td>29.32</td>\n",
              "      <td>6.94</td>\n",
              "      <td>598.0</td>\n",
              "      <td>2711.0</td>\n",
              "      <td>0.017</td>\n",
              "    </tr>\n",
              "    <tr>\n",
              "      <th>121081</th>\n",
              "      <td>Zimbabwe</td>\n",
              "      <td>ZWE</td>\n",
              "      <td>2022-07-28</td>\n",
              "      <td>12173026.0</td>\n",
              "      <td>6371959.0</td>\n",
              "      <td>4690254.0</td>\n",
              "      <td>1110813.0</td>\n",
              "      <td>4054.0</td>\n",
              "      <td>7150.0</td>\n",
              "      <td>76.11</td>\n",
              "      <td>39.84</td>\n",
              "      <td>29.33</td>\n",
              "      <td>6.95</td>\n",
              "      <td>447.0</td>\n",
              "      <td>2122.0</td>\n",
              "      <td>0.013</td>\n",
              "    </tr>\n",
              "    <tr>\n",
              "      <th>121082</th>\n",
              "      <td>Zimbabwe</td>\n",
              "      <td>ZWE</td>\n",
              "      <td>2022-07-29</td>\n",
              "      <td>12175457.0</td>\n",
              "      <td>6372686.0</td>\n",
              "      <td>4691111.0</td>\n",
              "      <td>1111660.0</td>\n",
              "      <td>2431.0</td>\n",
              "      <td>5261.0</td>\n",
              "      <td>76.13</td>\n",
              "      <td>39.85</td>\n",
              "      <td>29.33</td>\n",
              "      <td>6.95</td>\n",
              "      <td>329.0</td>\n",
              "      <td>1950.0</td>\n",
              "      <td>0.012</td>\n",
              "    </tr>\n",
              "    <tr>\n",
              "      <th>121083</th>\n",
              "      <td>Zimbabwe</td>\n",
              "      <td>ZWE</td>\n",
              "      <td>2022-07-30</td>\n",
              "      <td>12180877.0</td>\n",
              "      <td>6375973.0</td>\n",
              "      <td>4691667.0</td>\n",
              "      <td>1113237.0</td>\n",
              "      <td>5420.0</td>\n",
              "      <td>5603.0</td>\n",
              "      <td>76.16</td>\n",
              "      <td>39.87</td>\n",
              "      <td>29.33</td>\n",
              "      <td>6.96</td>\n",
              "      <td>350.0</td>\n",
              "      <td>2130.0</td>\n",
              "      <td>0.013</td>\n",
              "    </tr>\n",
              "    <tr>\n",
              "      <th>121084</th>\n",
              "      <td>Zimbabwe</td>\n",
              "      <td>ZWE</td>\n",
              "      <td>2022-07-31</td>\n",
              "      <td>12182698.0</td>\n",
              "      <td>6376117.0</td>\n",
              "      <td>4692440.0</td>\n",
              "      <td>1114141.0</td>\n",
              "      <td>1821.0</td>\n",
              "      <td>4958.0</td>\n",
              "      <td>76.17</td>\n",
              "      <td>39.87</td>\n",
              "      <td>29.34</td>\n",
              "      <td>6.97</td>\n",
              "      <td>310.0</td>\n",
              "      <td>1954.0</td>\n",
              "      <td>0.012</td>\n",
              "    </tr>\n",
              "  </tbody>\n",
              "</table>\n",
              "<p>121085 rows × 16 columns</p>\n",
              "</div>\n",
              "      <button class=\"colab-df-convert\" onclick=\"convertToInteractive('df-90089801-5a93-44f9-b848-52948eb122f2')\"\n",
              "              title=\"Convert this dataframe to an interactive table.\"\n",
              "              style=\"display:none;\">\n",
              "        \n",
              "  <svg xmlns=\"http://www.w3.org/2000/svg\" height=\"24px\"viewBox=\"0 0 24 24\"\n",
              "       width=\"24px\">\n",
              "    <path d=\"M0 0h24v24H0V0z\" fill=\"none\"/>\n",
              "    <path d=\"M18.56 5.44l.94 2.06.94-2.06 2.06-.94-2.06-.94-.94-2.06-.94 2.06-2.06.94zm-11 1L8.5 8.5l.94-2.06 2.06-.94-2.06-.94L8.5 2.5l-.94 2.06-2.06.94zm10 10l.94 2.06.94-2.06 2.06-.94-2.06-.94-.94-2.06-.94 2.06-2.06.94z\"/><path d=\"M17.41 7.96l-1.37-1.37c-.4-.4-.92-.59-1.43-.59-.52 0-1.04.2-1.43.59L10.3 9.45l-7.72 7.72c-.78.78-.78 2.05 0 2.83L4 21.41c.39.39.9.59 1.41.59.51 0 1.02-.2 1.41-.59l7.78-7.78 2.81-2.81c.8-.78.8-2.07 0-2.86zM5.41 20L4 18.59l7.72-7.72 1.47 1.35L5.41 20z\"/>\n",
              "  </svg>\n",
              "      </button>\n",
              "      \n",
              "  <style>\n",
              "    .colab-df-container {\n",
              "      display:flex;\n",
              "      flex-wrap:wrap;\n",
              "      gap: 12px;\n",
              "    }\n",
              "\n",
              "    .colab-df-convert {\n",
              "      background-color: #E8F0FE;\n",
              "      border: none;\n",
              "      border-radius: 50%;\n",
              "      cursor: pointer;\n",
              "      display: none;\n",
              "      fill: #1967D2;\n",
              "      height: 32px;\n",
              "      padding: 0 0 0 0;\n",
              "      width: 32px;\n",
              "    }\n",
              "\n",
              "    .colab-df-convert:hover {\n",
              "      background-color: #E2EBFA;\n",
              "      box-shadow: 0px 1px 2px rgba(60, 64, 67, 0.3), 0px 1px 3px 1px rgba(60, 64, 67, 0.15);\n",
              "      fill: #174EA6;\n",
              "    }\n",
              "\n",
              "    [theme=dark] .colab-df-convert {\n",
              "      background-color: #3B4455;\n",
              "      fill: #D2E3FC;\n",
              "    }\n",
              "\n",
              "    [theme=dark] .colab-df-convert:hover {\n",
              "      background-color: #434B5C;\n",
              "      box-shadow: 0px 1px 3px 1px rgba(0, 0, 0, 0.15);\n",
              "      filter: drop-shadow(0px 1px 2px rgba(0, 0, 0, 0.3));\n",
              "      fill: #FFFFFF;\n",
              "    }\n",
              "  </style>\n",
              "\n",
              "      <script>\n",
              "        const buttonEl =\n",
              "          document.querySelector('#df-90089801-5a93-44f9-b848-52948eb122f2 button.colab-df-convert');\n",
              "        buttonEl.style.display =\n",
              "          google.colab.kernel.accessAllowed ? 'block' : 'none';\n",
              "\n",
              "        async function convertToInteractive(key) {\n",
              "          const element = document.querySelector('#df-90089801-5a93-44f9-b848-52948eb122f2');\n",
              "          const dataTable =\n",
              "            await google.colab.kernel.invokeFunction('convertToInteractive',\n",
              "                                                     [key], {});\n",
              "          if (!dataTable) return;\n",
              "\n",
              "          const docLinkHtml = 'Like what you see? Visit the ' +\n",
              "            '<a target=\"_blank\" href=https://colab.research.google.com/notebooks/data_table.ipynb>data table notebook</a>'\n",
              "            + ' to learn more about interactive tables.';\n",
              "          element.innerHTML = '';\n",
              "          dataTable['output_type'] = 'display_data';\n",
              "          await google.colab.output.renderOutput(dataTable, element);\n",
              "          const docLink = document.createElement('div');\n",
              "          docLink.innerHTML = docLinkHtml;\n",
              "          element.appendChild(docLink);\n",
              "        }\n",
              "      </script>\n",
              "    </div>\n",
              "  </div>\n",
              "  "
            ]
          },
          "metadata": {},
          "execution_count": 6
        }
      ]
    },
    {
      "cell_type": "code",
      "source": [
        "print(df.columns)"
      ],
      "metadata": {
        "id": "MG9ZbYKiHjDI",
        "colab": {
          "base_uri": "https://localhost:8080/"
        },
        "outputId": "4cf826f3-2a23-4664-f3ca-c5bf5bd5ee51"
      },
      "execution_count": null,
      "outputs": [
        {
          "output_type": "stream",
          "name": "stdout",
          "text": [
            "Index(['location', 'iso_code', 'date', 'total_vaccinations',\n",
            "       'people_vaccinated', 'people_fully_vaccinated', 'total_boosters',\n",
            "       'daily_vaccinations_raw', 'daily_vaccinations',\n",
            "       'total_vaccinations_per_hundred', 'people_vaccinated_per_hundred',\n",
            "       'people_fully_vaccinated_per_hundred', 'total_boosters_per_hundred',\n",
            "       'daily_vaccinations_per_million', 'daily_people_vaccinated',\n",
            "       'daily_people_vaccinated_per_hundred'],\n",
            "      dtype='object')\n"
          ]
        }
      ]
    },
    {
      "cell_type": "code",
      "source": [
        "## print(df['iso_code'][0:200])\n",
        "print(df['location'])"
      ],
      "metadata": {
        "id": "ZtTOlDKRHrM3",
        "colab": {
          "base_uri": "https://localhost:8080/"
        },
        "outputId": "9dae5ff1-c67f-4d0b-85a4-ba00a25f15a8"
      },
      "execution_count": null,
      "outputs": [
        {
          "output_type": "stream",
          "name": "stdout",
          "text": [
            "0         Afghanistan\n",
            "1         Afghanistan\n",
            "2         Afghanistan\n",
            "3         Afghanistan\n",
            "4         Afghanistan\n",
            "             ...     \n",
            "121080       Zimbabwe\n",
            "121081       Zimbabwe\n",
            "121082       Zimbabwe\n",
            "121083       Zimbabwe\n",
            "121084       Zimbabwe\n",
            "Name: location, Length: 121085, dtype: object\n"
          ]
        }
      ]
    },
    {
      "cell_type": "code",
      "source": [
        "df2 = pd.read_csv('vaccinations.csv', parse_dates=['date'])\n"
      ],
      "metadata": {
        "id": "mVEenIk6yl-d"
      },
      "execution_count": null,
      "outputs": []
    },
    {
      "cell_type": "code",
      "source": [
        "df2"
      ],
      "metadata": {
        "id": "0fDl8B6kzZxo",
        "colab": {
          "base_uri": "https://localhost:8080/",
          "height": 661
        },
        "outputId": "067fbfce-175d-4f21-d83d-aee78bc97a01"
      },
      "execution_count": null,
      "outputs": [
        {
          "output_type": "execute_result",
          "data": {
            "text/plain": [
              "           location iso_code       date  total_vaccinations  \\\n",
              "0       Afghanistan      AFG 2021-02-22                 0.0   \n",
              "1       Afghanistan      AFG 2021-02-23                 NaN   \n",
              "2       Afghanistan      AFG 2021-02-24                 NaN   \n",
              "3       Afghanistan      AFG 2021-02-25                 NaN   \n",
              "4       Afghanistan      AFG 2021-02-26                 NaN   \n",
              "...             ...      ...        ...                 ...   \n",
              "121080     Zimbabwe      ZWE 2022-07-27          12168972.0   \n",
              "121081     Zimbabwe      ZWE 2022-07-28          12173026.0   \n",
              "121082     Zimbabwe      ZWE 2022-07-29          12175457.0   \n",
              "121083     Zimbabwe      ZWE 2022-07-30          12180877.0   \n",
              "121084     Zimbabwe      ZWE 2022-07-31          12182698.0   \n",
              "\n",
              "        people_vaccinated  people_fully_vaccinated  total_boosters  \\\n",
              "0                     0.0                      NaN             NaN   \n",
              "1                     NaN                      NaN             NaN   \n",
              "2                     NaN                      NaN             NaN   \n",
              "3                     NaN                      NaN             NaN   \n",
              "4                     NaN                      NaN             NaN   \n",
              "...                   ...                      ...             ...   \n",
              "121080          6370434.0                4688789.0       1109749.0   \n",
              "121081          6371959.0                4690254.0       1110813.0   \n",
              "121082          6372686.0                4691111.0       1111660.0   \n",
              "121083          6375973.0                4691667.0       1113237.0   \n",
              "121084          6376117.0                4692440.0       1114141.0   \n",
              "\n",
              "        daily_vaccinations_raw  daily_vaccinations  \\\n",
              "0                          NaN                 NaN   \n",
              "1                          NaN              1367.0   \n",
              "2                          NaN              1367.0   \n",
              "3                          NaN              1367.0   \n",
              "4                          NaN              1367.0   \n",
              "...                        ...                 ...   \n",
              "121080                 11550.0              9567.0   \n",
              "121081                  4054.0              7150.0   \n",
              "121082                  2431.0              5261.0   \n",
              "121083                  5420.0              5603.0   \n",
              "121084                  1821.0              4958.0   \n",
              "\n",
              "        total_vaccinations_per_hundred  people_vaccinated_per_hundred  \\\n",
              "0                                 0.00                           0.00   \n",
              "1                                  NaN                            NaN   \n",
              "2                                  NaN                            NaN   \n",
              "3                                  NaN                            NaN   \n",
              "4                                  NaN                            NaN   \n",
              "...                                ...                            ...   \n",
              "121080                           76.09                          39.83   \n",
              "121081                           76.11                          39.84   \n",
              "121082                           76.13                          39.85   \n",
              "121083                           76.16                          39.87   \n",
              "121084                           76.17                          39.87   \n",
              "\n",
              "        people_fully_vaccinated_per_hundred  total_boosters_per_hundred  \\\n",
              "0                                       NaN                         NaN   \n",
              "1                                       NaN                         NaN   \n",
              "2                                       NaN                         NaN   \n",
              "3                                       NaN                         NaN   \n",
              "4                                       NaN                         NaN   \n",
              "...                                     ...                         ...   \n",
              "121080                                29.32                        6.94   \n",
              "121081                                29.33                        6.95   \n",
              "121082                                29.33                        6.95   \n",
              "121083                                29.33                        6.96   \n",
              "121084                                29.34                        6.97   \n",
              "\n",
              "        daily_vaccinations_per_million  daily_people_vaccinated  \\\n",
              "0                                  NaN                      NaN   \n",
              "1                                 34.0                   1367.0   \n",
              "2                                 34.0                   1367.0   \n",
              "3                                 34.0                   1367.0   \n",
              "4                                 34.0                   1367.0   \n",
              "...                                ...                      ...   \n",
              "121080                           598.0                   2711.0   \n",
              "121081                           447.0                   2122.0   \n",
              "121082                           329.0                   1950.0   \n",
              "121083                           350.0                   2130.0   \n",
              "121084                           310.0                   1954.0   \n",
              "\n",
              "        daily_people_vaccinated_per_hundred  \n",
              "0                                       NaN  \n",
              "1                                     0.003  \n",
              "2                                     0.003  \n",
              "3                                     0.003  \n",
              "4                                     0.003  \n",
              "...                                     ...  \n",
              "121080                                0.017  \n",
              "121081                                0.013  \n",
              "121082                                0.012  \n",
              "121083                                0.013  \n",
              "121084                                0.012  \n",
              "\n",
              "[121085 rows x 16 columns]"
            ],
            "text/html": [
              "\n",
              "  <div id=\"df-5c887f20-49c6-4bd8-91db-8beccf2bcee5\">\n",
              "    <div class=\"colab-df-container\">\n",
              "      <div>\n",
              "<style scoped>\n",
              "    .dataframe tbody tr th:only-of-type {\n",
              "        vertical-align: middle;\n",
              "    }\n",
              "\n",
              "    .dataframe tbody tr th {\n",
              "        vertical-align: top;\n",
              "    }\n",
              "\n",
              "    .dataframe thead th {\n",
              "        text-align: right;\n",
              "    }\n",
              "</style>\n",
              "<table border=\"1\" class=\"dataframe\">\n",
              "  <thead>\n",
              "    <tr style=\"text-align: right;\">\n",
              "      <th></th>\n",
              "      <th>location</th>\n",
              "      <th>iso_code</th>\n",
              "      <th>date</th>\n",
              "      <th>total_vaccinations</th>\n",
              "      <th>people_vaccinated</th>\n",
              "      <th>people_fully_vaccinated</th>\n",
              "      <th>total_boosters</th>\n",
              "      <th>daily_vaccinations_raw</th>\n",
              "      <th>daily_vaccinations</th>\n",
              "      <th>total_vaccinations_per_hundred</th>\n",
              "      <th>people_vaccinated_per_hundred</th>\n",
              "      <th>people_fully_vaccinated_per_hundred</th>\n",
              "      <th>total_boosters_per_hundred</th>\n",
              "      <th>daily_vaccinations_per_million</th>\n",
              "      <th>daily_people_vaccinated</th>\n",
              "      <th>daily_people_vaccinated_per_hundred</th>\n",
              "    </tr>\n",
              "  </thead>\n",
              "  <tbody>\n",
              "    <tr>\n",
              "      <th>0</th>\n",
              "      <td>Afghanistan</td>\n",
              "      <td>AFG</td>\n",
              "      <td>2021-02-22</td>\n",
              "      <td>0.0</td>\n",
              "      <td>0.0</td>\n",
              "      <td>NaN</td>\n",
              "      <td>NaN</td>\n",
              "      <td>NaN</td>\n",
              "      <td>NaN</td>\n",
              "      <td>0.00</td>\n",
              "      <td>0.00</td>\n",
              "      <td>NaN</td>\n",
              "      <td>NaN</td>\n",
              "      <td>NaN</td>\n",
              "      <td>NaN</td>\n",
              "      <td>NaN</td>\n",
              "    </tr>\n",
              "    <tr>\n",
              "      <th>1</th>\n",
              "      <td>Afghanistan</td>\n",
              "      <td>AFG</td>\n",
              "      <td>2021-02-23</td>\n",
              "      <td>NaN</td>\n",
              "      <td>NaN</td>\n",
              "      <td>NaN</td>\n",
              "      <td>NaN</td>\n",
              "      <td>NaN</td>\n",
              "      <td>1367.0</td>\n",
              "      <td>NaN</td>\n",
              "      <td>NaN</td>\n",
              "      <td>NaN</td>\n",
              "      <td>NaN</td>\n",
              "      <td>34.0</td>\n",
              "      <td>1367.0</td>\n",
              "      <td>0.003</td>\n",
              "    </tr>\n",
              "    <tr>\n",
              "      <th>2</th>\n",
              "      <td>Afghanistan</td>\n",
              "      <td>AFG</td>\n",
              "      <td>2021-02-24</td>\n",
              "      <td>NaN</td>\n",
              "      <td>NaN</td>\n",
              "      <td>NaN</td>\n",
              "      <td>NaN</td>\n",
              "      <td>NaN</td>\n",
              "      <td>1367.0</td>\n",
              "      <td>NaN</td>\n",
              "      <td>NaN</td>\n",
              "      <td>NaN</td>\n",
              "      <td>NaN</td>\n",
              "      <td>34.0</td>\n",
              "      <td>1367.0</td>\n",
              "      <td>0.003</td>\n",
              "    </tr>\n",
              "    <tr>\n",
              "      <th>3</th>\n",
              "      <td>Afghanistan</td>\n",
              "      <td>AFG</td>\n",
              "      <td>2021-02-25</td>\n",
              "      <td>NaN</td>\n",
              "      <td>NaN</td>\n",
              "      <td>NaN</td>\n",
              "      <td>NaN</td>\n",
              "      <td>NaN</td>\n",
              "      <td>1367.0</td>\n",
              "      <td>NaN</td>\n",
              "      <td>NaN</td>\n",
              "      <td>NaN</td>\n",
              "      <td>NaN</td>\n",
              "      <td>34.0</td>\n",
              "      <td>1367.0</td>\n",
              "      <td>0.003</td>\n",
              "    </tr>\n",
              "    <tr>\n",
              "      <th>4</th>\n",
              "      <td>Afghanistan</td>\n",
              "      <td>AFG</td>\n",
              "      <td>2021-02-26</td>\n",
              "      <td>NaN</td>\n",
              "      <td>NaN</td>\n",
              "      <td>NaN</td>\n",
              "      <td>NaN</td>\n",
              "      <td>NaN</td>\n",
              "      <td>1367.0</td>\n",
              "      <td>NaN</td>\n",
              "      <td>NaN</td>\n",
              "      <td>NaN</td>\n",
              "      <td>NaN</td>\n",
              "      <td>34.0</td>\n",
              "      <td>1367.0</td>\n",
              "      <td>0.003</td>\n",
              "    </tr>\n",
              "    <tr>\n",
              "      <th>...</th>\n",
              "      <td>...</td>\n",
              "      <td>...</td>\n",
              "      <td>...</td>\n",
              "      <td>...</td>\n",
              "      <td>...</td>\n",
              "      <td>...</td>\n",
              "      <td>...</td>\n",
              "      <td>...</td>\n",
              "      <td>...</td>\n",
              "      <td>...</td>\n",
              "      <td>...</td>\n",
              "      <td>...</td>\n",
              "      <td>...</td>\n",
              "      <td>...</td>\n",
              "      <td>...</td>\n",
              "      <td>...</td>\n",
              "    </tr>\n",
              "    <tr>\n",
              "      <th>121080</th>\n",
              "      <td>Zimbabwe</td>\n",
              "      <td>ZWE</td>\n",
              "      <td>2022-07-27</td>\n",
              "      <td>12168972.0</td>\n",
              "      <td>6370434.0</td>\n",
              "      <td>4688789.0</td>\n",
              "      <td>1109749.0</td>\n",
              "      <td>11550.0</td>\n",
              "      <td>9567.0</td>\n",
              "      <td>76.09</td>\n",
              "      <td>39.83</td>\n",
              "      <td>29.32</td>\n",
              "      <td>6.94</td>\n",
              "      <td>598.0</td>\n",
              "      <td>2711.0</td>\n",
              "      <td>0.017</td>\n",
              "    </tr>\n",
              "    <tr>\n",
              "      <th>121081</th>\n",
              "      <td>Zimbabwe</td>\n",
              "      <td>ZWE</td>\n",
              "      <td>2022-07-28</td>\n",
              "      <td>12173026.0</td>\n",
              "      <td>6371959.0</td>\n",
              "      <td>4690254.0</td>\n",
              "      <td>1110813.0</td>\n",
              "      <td>4054.0</td>\n",
              "      <td>7150.0</td>\n",
              "      <td>76.11</td>\n",
              "      <td>39.84</td>\n",
              "      <td>29.33</td>\n",
              "      <td>6.95</td>\n",
              "      <td>447.0</td>\n",
              "      <td>2122.0</td>\n",
              "      <td>0.013</td>\n",
              "    </tr>\n",
              "    <tr>\n",
              "      <th>121082</th>\n",
              "      <td>Zimbabwe</td>\n",
              "      <td>ZWE</td>\n",
              "      <td>2022-07-29</td>\n",
              "      <td>12175457.0</td>\n",
              "      <td>6372686.0</td>\n",
              "      <td>4691111.0</td>\n",
              "      <td>1111660.0</td>\n",
              "      <td>2431.0</td>\n",
              "      <td>5261.0</td>\n",
              "      <td>76.13</td>\n",
              "      <td>39.85</td>\n",
              "      <td>29.33</td>\n",
              "      <td>6.95</td>\n",
              "      <td>329.0</td>\n",
              "      <td>1950.0</td>\n",
              "      <td>0.012</td>\n",
              "    </tr>\n",
              "    <tr>\n",
              "      <th>121083</th>\n",
              "      <td>Zimbabwe</td>\n",
              "      <td>ZWE</td>\n",
              "      <td>2022-07-30</td>\n",
              "      <td>12180877.0</td>\n",
              "      <td>6375973.0</td>\n",
              "      <td>4691667.0</td>\n",
              "      <td>1113237.0</td>\n",
              "      <td>5420.0</td>\n",
              "      <td>5603.0</td>\n",
              "      <td>76.16</td>\n",
              "      <td>39.87</td>\n",
              "      <td>29.33</td>\n",
              "      <td>6.96</td>\n",
              "      <td>350.0</td>\n",
              "      <td>2130.0</td>\n",
              "      <td>0.013</td>\n",
              "    </tr>\n",
              "    <tr>\n",
              "      <th>121084</th>\n",
              "      <td>Zimbabwe</td>\n",
              "      <td>ZWE</td>\n",
              "      <td>2022-07-31</td>\n",
              "      <td>12182698.0</td>\n",
              "      <td>6376117.0</td>\n",
              "      <td>4692440.0</td>\n",
              "      <td>1114141.0</td>\n",
              "      <td>1821.0</td>\n",
              "      <td>4958.0</td>\n",
              "      <td>76.17</td>\n",
              "      <td>39.87</td>\n",
              "      <td>29.34</td>\n",
              "      <td>6.97</td>\n",
              "      <td>310.0</td>\n",
              "      <td>1954.0</td>\n",
              "      <td>0.012</td>\n",
              "    </tr>\n",
              "  </tbody>\n",
              "</table>\n",
              "<p>121085 rows × 16 columns</p>\n",
              "</div>\n",
              "      <button class=\"colab-df-convert\" onclick=\"convertToInteractive('df-5c887f20-49c6-4bd8-91db-8beccf2bcee5')\"\n",
              "              title=\"Convert this dataframe to an interactive table.\"\n",
              "              style=\"display:none;\">\n",
              "        \n",
              "  <svg xmlns=\"http://www.w3.org/2000/svg\" height=\"24px\"viewBox=\"0 0 24 24\"\n",
              "       width=\"24px\">\n",
              "    <path d=\"M0 0h24v24H0V0z\" fill=\"none\"/>\n",
              "    <path d=\"M18.56 5.44l.94 2.06.94-2.06 2.06-.94-2.06-.94-.94-2.06-.94 2.06-2.06.94zm-11 1L8.5 8.5l.94-2.06 2.06-.94-2.06-.94L8.5 2.5l-.94 2.06-2.06.94zm10 10l.94 2.06.94-2.06 2.06-.94-2.06-.94-.94-2.06-.94 2.06-2.06.94z\"/><path d=\"M17.41 7.96l-1.37-1.37c-.4-.4-.92-.59-1.43-.59-.52 0-1.04.2-1.43.59L10.3 9.45l-7.72 7.72c-.78.78-.78 2.05 0 2.83L4 21.41c.39.39.9.59 1.41.59.51 0 1.02-.2 1.41-.59l7.78-7.78 2.81-2.81c.8-.78.8-2.07 0-2.86zM5.41 20L4 18.59l7.72-7.72 1.47 1.35L5.41 20z\"/>\n",
              "  </svg>\n",
              "      </button>\n",
              "      \n",
              "  <style>\n",
              "    .colab-df-container {\n",
              "      display:flex;\n",
              "      flex-wrap:wrap;\n",
              "      gap: 12px;\n",
              "    }\n",
              "\n",
              "    .colab-df-convert {\n",
              "      background-color: #E8F0FE;\n",
              "      border: none;\n",
              "      border-radius: 50%;\n",
              "      cursor: pointer;\n",
              "      display: none;\n",
              "      fill: #1967D2;\n",
              "      height: 32px;\n",
              "      padding: 0 0 0 0;\n",
              "      width: 32px;\n",
              "    }\n",
              "\n",
              "    .colab-df-convert:hover {\n",
              "      background-color: #E2EBFA;\n",
              "      box-shadow: 0px 1px 2px rgba(60, 64, 67, 0.3), 0px 1px 3px 1px rgba(60, 64, 67, 0.15);\n",
              "      fill: #174EA6;\n",
              "    }\n",
              "\n",
              "    [theme=dark] .colab-df-convert {\n",
              "      background-color: #3B4455;\n",
              "      fill: #D2E3FC;\n",
              "    }\n",
              "\n",
              "    [theme=dark] .colab-df-convert:hover {\n",
              "      background-color: #434B5C;\n",
              "      box-shadow: 0px 1px 3px 1px rgba(0, 0, 0, 0.15);\n",
              "      filter: drop-shadow(0px 1px 2px rgba(0, 0, 0, 0.3));\n",
              "      fill: #FFFFFF;\n",
              "    }\n",
              "  </style>\n",
              "\n",
              "      <script>\n",
              "        const buttonEl =\n",
              "          document.querySelector('#df-5c887f20-49c6-4bd8-91db-8beccf2bcee5 button.colab-df-convert');\n",
              "        buttonEl.style.display =\n",
              "          google.colab.kernel.accessAllowed ? 'block' : 'none';\n",
              "\n",
              "        async function convertToInteractive(key) {\n",
              "          const element = document.querySelector('#df-5c887f20-49c6-4bd8-91db-8beccf2bcee5');\n",
              "          const dataTable =\n",
              "            await google.colab.kernel.invokeFunction('convertToInteractive',\n",
              "                                                     [key], {});\n",
              "          if (!dataTable) return;\n",
              "\n",
              "          const docLinkHtml = 'Like what you see? Visit the ' +\n",
              "            '<a target=\"_blank\" href=https://colab.research.google.com/notebooks/data_table.ipynb>data table notebook</a>'\n",
              "            + ' to learn more about interactive tables.';\n",
              "          element.innerHTML = '';\n",
              "          dataTable['output_type'] = 'display_data';\n",
              "          await google.colab.output.renderOutput(dataTable, element);\n",
              "          const docLink = document.createElement('div');\n",
              "          docLink.innerHTML = docLinkHtml;\n",
              "          element.appendChild(docLink);\n",
              "        }\n",
              "      </script>\n",
              "    </div>\n",
              "  </div>\n",
              "  "
            ]
          },
          "metadata": {},
          "execution_count": 10
        }
      ]
    },
    {
      "cell_type": "code",
      "source": [
        "df2.dtypes"
      ],
      "metadata": {
        "id": "aRly9YhK0OWv",
        "colab": {
          "base_uri": "https://localhost:8080/"
        },
        "outputId": "1f2ed4a1-d9ce-4656-bff8-3ae4defdb992"
      },
      "execution_count": null,
      "outputs": [
        {
          "output_type": "execute_result",
          "data": {
            "text/plain": [
              "location                                       object\n",
              "iso_code                                       object\n",
              "date                                   datetime64[ns]\n",
              "total_vaccinations                            float64\n",
              "people_vaccinated                             float64\n",
              "people_fully_vaccinated                       float64\n",
              "total_boosters                                float64\n",
              "daily_vaccinations_raw                        float64\n",
              "daily_vaccinations                            float64\n",
              "total_vaccinations_per_hundred                float64\n",
              "people_vaccinated_per_hundred                 float64\n",
              "people_fully_vaccinated_per_hundred           float64\n",
              "total_boosters_per_hundred                    float64\n",
              "daily_vaccinations_per_million                float64\n",
              "daily_people_vaccinated                       float64\n",
              "daily_people_vaccinated_per_hundred           float64\n",
              "dtype: object"
            ]
          },
          "metadata": {},
          "execution_count": 11
        }
      ]
    },
    {
      "cell_type": "code",
      "source": [
        "df2.axes"
      ],
      "metadata": {
        "id": "Y-zdQs_y0p2u"
      },
      "execution_count": null,
      "outputs": []
    },
    {
      "cell_type": "code",
      "source": [
        "df2.size"
      ],
      "metadata": {
        "colab": {
          "base_uri": "https://localhost:8080/"
        },
        "id": "rMpuOtpM1Lf2",
        "outputId": "11d616b6-19b7-45a1-f68f-6858bf204e95"
      },
      "execution_count": null,
      "outputs": [
        {
          "output_type": "execute_result",
          "data": {
            "text/plain": [
              "1937360"
            ]
          },
          "metadata": {},
          "execution_count": 35
        }
      ]
    },
    {
      "cell_type": "code",
      "source": [
        "df2.ndim"
      ],
      "metadata": {
        "colab": {
          "base_uri": "https://localhost:8080/"
        },
        "id": "Ovl6yPU61Ptt",
        "outputId": "7c88349d-3d7e-4ff1-e928-c5d3c00a637c"
      },
      "execution_count": null,
      "outputs": [
        {
          "output_type": "execute_result",
          "data": {
            "text/plain": [
              "2"
            ]
          },
          "metadata": {},
          "execution_count": 36
        }
      ]
    },
    {
      "cell_type": "code",
      "source": [
        "df2.shape"
      ],
      "metadata": {
        "colab": {
          "base_uri": "https://localhost:8080/"
        },
        "id": "JzY7g7aB1S_V",
        "outputId": "1f1716a8-868c-42cd-8eaa-f85cd070eb82"
      },
      "execution_count": null,
      "outputs": [
        {
          "output_type": "execute_result",
          "data": {
            "text/plain": [
              "(121085, 16)"
            ]
          },
          "metadata": {},
          "execution_count": 37
        }
      ]
    },
    {
      "cell_type": "code",
      "source": [
        "df2.axes[0]"
      ],
      "metadata": {
        "colab": {
          "base_uri": "https://localhost:8080/"
        },
        "id": "XJw4mAGfJB9v",
        "outputId": "cf6fd287-51d4-4b06-8c31-c04933418208"
      },
      "execution_count": null,
      "outputs": [
        {
          "output_type": "execute_result",
          "data": {
            "text/plain": [
              "RangeIndex(start=0, stop=121085, step=1)"
            ]
          },
          "metadata": {},
          "execution_count": 59
        }
      ]
    },
    {
      "cell_type": "code",
      "source": [
        "df2.shape[1]"
      ],
      "metadata": {
        "colab": {
          "base_uri": "https://localhost:8080/"
        },
        "id": "k-P9WD0c1Xjt",
        "outputId": "a8ce27eb-b4cd-40ea-a8dd-39245fb56c85"
      },
      "execution_count": null,
      "outputs": [
        {
          "output_type": "execute_result",
          "data": {
            "text/plain": [
              "16"
            ]
          },
          "metadata": {},
          "execution_count": 61
        }
      ]
    },
    {
      "cell_type": "code",
      "source": [
        "df2.values"
      ],
      "metadata": {
        "id": "_vyIMBNB1b-t",
        "colab": {
          "base_uri": "https://localhost:8080/"
        },
        "outputId": "b2c19570-190e-4f84-e2e8-6415297b48a6"
      },
      "execution_count": null,
      "outputs": [
        {
          "output_type": "execute_result",
          "data": {
            "text/plain": [
              "array([['Afghanistan', 'AFG', Timestamp('2021-02-22 00:00:00'), ..., nan,\n",
              "        nan, nan],\n",
              "       ['Afghanistan', 'AFG', Timestamp('2021-02-23 00:00:00'), ...,\n",
              "        34.0, 1367.0, 0.003],\n",
              "       ['Afghanistan', 'AFG', Timestamp('2021-02-24 00:00:00'), ...,\n",
              "        34.0, 1367.0, 0.003],\n",
              "       ...,\n",
              "       ['Zimbabwe', 'ZWE', Timestamp('2022-07-29 00:00:00'), ..., 329.0,\n",
              "        1950.0, 0.012],\n",
              "       ['Zimbabwe', 'ZWE', Timestamp('2022-07-30 00:00:00'), ..., 350.0,\n",
              "        2130.0, 0.013],\n",
              "       ['Zimbabwe', 'ZWE', Timestamp('2022-07-31 00:00:00'), ..., 310.0,\n",
              "        1954.0, 0.012]], dtype=object)"
            ]
          },
          "metadata": {},
          "execution_count": 19
        }
      ]
    },
    {
      "cell_type": "code",
      "source": [
        "df2.info()"
      ],
      "metadata": {
        "id": "nY3DcvkA1h1l",
        "colab": {
          "base_uri": "https://localhost:8080/"
        },
        "outputId": "87ed9f79-f83e-4e3c-b711-7d2933436d0c"
      },
      "execution_count": null,
      "outputs": [
        {
          "output_type": "stream",
          "name": "stdout",
          "text": [
            "<class 'pandas.core.frame.DataFrame'>\n",
            "RangeIndex: 121085 entries, 0 to 121084\n",
            "Data columns (total 16 columns):\n",
            " #   Column                               Non-Null Count   Dtype         \n",
            "---  ------                               --------------   -----         \n",
            " 0   location                             121085 non-null  object        \n",
            " 1   iso_code                             121085 non-null  object        \n",
            " 2   date                                 121085 non-null  datetime64[ns]\n",
            " 3   total_vaccinations                   60871 non-null   float64       \n",
            " 4   people_vaccinated                    58137 non-null   float64       \n",
            " 5   people_fully_vaccinated              55491 non-null   float64       \n",
            " 6   total_boosters                       31336 non-null   float64       \n",
            " 7   daily_vaccinations_raw               50470 non-null   float64       \n",
            " 8   daily_vaccinations                   120408 non-null  float64       \n",
            " 9   total_vaccinations_per_hundred       60871 non-null   float64       \n",
            " 10  people_vaccinated_per_hundred        58137 non-null   float64       \n",
            " 11  people_fully_vaccinated_per_hundred  55491 non-null   float64       \n",
            " 12  total_boosters_per_hundred           31336 non-null   float64       \n",
            " 13  daily_vaccinations_per_million       120408 non-null  float64       \n",
            " 14  daily_people_vaccinated              119635 non-null  float64       \n",
            " 15  daily_people_vaccinated_per_hundred  119635 non-null  float64       \n",
            "dtypes: datetime64[ns](1), float64(13), object(2)\n",
            "memory usage: 14.8+ MB\n"
          ]
        }
      ]
    },
    {
      "cell_type": "code",
      "source": [
        "df2.describe()"
      ],
      "metadata": {
        "id": "MPos6LR41qj9",
        "colab": {
          "base_uri": "https://localhost:8080/",
          "height": 364
        },
        "outputId": "63283972-6845-461a-b922-d92a81ea137a"
      },
      "execution_count": null,
      "outputs": [
        {
          "output_type": "execute_result",
          "data": {
            "text/plain": [
              "       total_vaccinations  people_vaccinated  people_fully_vaccinated  \\\n",
              "count        6.087100e+04       5.813700e+04             5.549100e+04   \n",
              "mean         2.525617e+08       1.188918e+08             1.015018e+08   \n",
              "std          1.071901e+09       5.037919e+08             4.444366e+08   \n",
              "min          0.000000e+00       0.000000e+00             1.000000e+00   \n",
              "25%          1.047602e+06       6.092450e+05             4.792520e+05   \n",
              "50%          7.823894e+06       4.311020e+06             3.800700e+06   \n",
              "75%          5.122179e+07       2.578873e+07             2.212869e+07   \n",
              "max          1.246811e+10       5.332048e+09             4.897675e+09   \n",
              "\n",
              "       total_boosters  daily_vaccinations_raw  daily_vaccinations  \\\n",
              "count    3.133600e+04            5.047000e+04        1.204080e+05   \n",
              "mean     4.853548e+07            9.634243e+05        4.214241e+05   \n",
              "std      2.042865e+08            3.727169e+06        2.419754e+06   \n",
              "min      1.000000e+00            0.000000e+00        0.000000e+00   \n",
              "25%      7.272300e+04            4.647000e+03        7.050000e+02   \n",
              "50%      1.904634e+06            3.346900e+04        7.041500e+03   \n",
              "75%      1.283417e+07            2.426295e+05        5.258625e+04   \n",
              "max      2.352135e+09            4.967049e+07        4.368776e+07   \n",
              "\n",
              "       total_vaccinations_per_hundred  people_vaccinated_per_hundred  \\\n",
              "count                    60871.000000                   58137.000000   \n",
              "mean                        97.011090                      45.962699   \n",
              "std                         76.655359                      30.045323   \n",
              "min                          0.000000                       0.000000   \n",
              "25%                         23.005000                      15.660000   \n",
              "50%                         90.180000                      50.830000   \n",
              "75%                        155.785000                      72.980000   \n",
              "max                        366.870000                     128.780000   \n",
              "\n",
              "       people_fully_vaccinated_per_hundred  total_boosters_per_hundred  \\\n",
              "count                         55491.000000                31336.000000   \n",
              "mean                             40.627587                   23.730825   \n",
              "std                              29.391225                   24.396024   \n",
              "min                               0.000000                    0.000000   \n",
              "25%                              10.160000                    0.730000   \n",
              "50%                              43.150000                   14.685000   \n",
              "75%                              67.020000                   43.432500   \n",
              "max                             126.790000                  135.710000   \n",
              "\n",
              "       daily_vaccinations_per_million  daily_people_vaccinated  \\\n",
              "count                   120408.000000             1.196350e+05   \n",
              "mean                      2716.549249             1.603516e+05   \n",
              "std                       3631.642667             9.908541e+05   \n",
              "min                          0.000000             0.000000e+00   \n",
              "25%                        394.000000             2.020000e+02   \n",
              "50%                       1454.000000             2.303000e+03   \n",
              "75%                       3806.250000             1.858800e+04   \n",
              "max                     117862.000000             2.106893e+07   \n",
              "\n",
              "       daily_people_vaccinated_per_hundred  \n",
              "count                        119635.000000  \n",
              "mean                              0.114464  \n",
              "std                               0.213880  \n",
              "min                               0.000000  \n",
              "25%                               0.010000  \n",
              "50%                               0.043000  \n",
              "75%                               0.136000  \n",
              "max                              11.786000  "
            ],
            "text/html": [
              "\n",
              "  <div id=\"df-a5381f55-dd8e-43a2-9b21-222c17eea5a6\">\n",
              "    <div class=\"colab-df-container\">\n",
              "      <div>\n",
              "<style scoped>\n",
              "    .dataframe tbody tr th:only-of-type {\n",
              "        vertical-align: middle;\n",
              "    }\n",
              "\n",
              "    .dataframe tbody tr th {\n",
              "        vertical-align: top;\n",
              "    }\n",
              "\n",
              "    .dataframe thead th {\n",
              "        text-align: right;\n",
              "    }\n",
              "</style>\n",
              "<table border=\"1\" class=\"dataframe\">\n",
              "  <thead>\n",
              "    <tr style=\"text-align: right;\">\n",
              "      <th></th>\n",
              "      <th>total_vaccinations</th>\n",
              "      <th>people_vaccinated</th>\n",
              "      <th>people_fully_vaccinated</th>\n",
              "      <th>total_boosters</th>\n",
              "      <th>daily_vaccinations_raw</th>\n",
              "      <th>daily_vaccinations</th>\n",
              "      <th>total_vaccinations_per_hundred</th>\n",
              "      <th>people_vaccinated_per_hundred</th>\n",
              "      <th>people_fully_vaccinated_per_hundred</th>\n",
              "      <th>total_boosters_per_hundred</th>\n",
              "      <th>daily_vaccinations_per_million</th>\n",
              "      <th>daily_people_vaccinated</th>\n",
              "      <th>daily_people_vaccinated_per_hundred</th>\n",
              "    </tr>\n",
              "  </thead>\n",
              "  <tbody>\n",
              "    <tr>\n",
              "      <th>count</th>\n",
              "      <td>6.087100e+04</td>\n",
              "      <td>5.813700e+04</td>\n",
              "      <td>5.549100e+04</td>\n",
              "      <td>3.133600e+04</td>\n",
              "      <td>5.047000e+04</td>\n",
              "      <td>1.204080e+05</td>\n",
              "      <td>60871.000000</td>\n",
              "      <td>58137.000000</td>\n",
              "      <td>55491.000000</td>\n",
              "      <td>31336.000000</td>\n",
              "      <td>120408.000000</td>\n",
              "      <td>1.196350e+05</td>\n",
              "      <td>119635.000000</td>\n",
              "    </tr>\n",
              "    <tr>\n",
              "      <th>mean</th>\n",
              "      <td>2.525617e+08</td>\n",
              "      <td>1.188918e+08</td>\n",
              "      <td>1.015018e+08</td>\n",
              "      <td>4.853548e+07</td>\n",
              "      <td>9.634243e+05</td>\n",
              "      <td>4.214241e+05</td>\n",
              "      <td>97.011090</td>\n",
              "      <td>45.962699</td>\n",
              "      <td>40.627587</td>\n",
              "      <td>23.730825</td>\n",
              "      <td>2716.549249</td>\n",
              "      <td>1.603516e+05</td>\n",
              "      <td>0.114464</td>\n",
              "    </tr>\n",
              "    <tr>\n",
              "      <th>std</th>\n",
              "      <td>1.071901e+09</td>\n",
              "      <td>5.037919e+08</td>\n",
              "      <td>4.444366e+08</td>\n",
              "      <td>2.042865e+08</td>\n",
              "      <td>3.727169e+06</td>\n",
              "      <td>2.419754e+06</td>\n",
              "      <td>76.655359</td>\n",
              "      <td>30.045323</td>\n",
              "      <td>29.391225</td>\n",
              "      <td>24.396024</td>\n",
              "      <td>3631.642667</td>\n",
              "      <td>9.908541e+05</td>\n",
              "      <td>0.213880</td>\n",
              "    </tr>\n",
              "    <tr>\n",
              "      <th>min</th>\n",
              "      <td>0.000000e+00</td>\n",
              "      <td>0.000000e+00</td>\n",
              "      <td>1.000000e+00</td>\n",
              "      <td>1.000000e+00</td>\n",
              "      <td>0.000000e+00</td>\n",
              "      <td>0.000000e+00</td>\n",
              "      <td>0.000000</td>\n",
              "      <td>0.000000</td>\n",
              "      <td>0.000000</td>\n",
              "      <td>0.000000</td>\n",
              "      <td>0.000000</td>\n",
              "      <td>0.000000e+00</td>\n",
              "      <td>0.000000</td>\n",
              "    </tr>\n",
              "    <tr>\n",
              "      <th>25%</th>\n",
              "      <td>1.047602e+06</td>\n",
              "      <td>6.092450e+05</td>\n",
              "      <td>4.792520e+05</td>\n",
              "      <td>7.272300e+04</td>\n",
              "      <td>4.647000e+03</td>\n",
              "      <td>7.050000e+02</td>\n",
              "      <td>23.005000</td>\n",
              "      <td>15.660000</td>\n",
              "      <td>10.160000</td>\n",
              "      <td>0.730000</td>\n",
              "      <td>394.000000</td>\n",
              "      <td>2.020000e+02</td>\n",
              "      <td>0.010000</td>\n",
              "    </tr>\n",
              "    <tr>\n",
              "      <th>50%</th>\n",
              "      <td>7.823894e+06</td>\n",
              "      <td>4.311020e+06</td>\n",
              "      <td>3.800700e+06</td>\n",
              "      <td>1.904634e+06</td>\n",
              "      <td>3.346900e+04</td>\n",
              "      <td>7.041500e+03</td>\n",
              "      <td>90.180000</td>\n",
              "      <td>50.830000</td>\n",
              "      <td>43.150000</td>\n",
              "      <td>14.685000</td>\n",
              "      <td>1454.000000</td>\n",
              "      <td>2.303000e+03</td>\n",
              "      <td>0.043000</td>\n",
              "    </tr>\n",
              "    <tr>\n",
              "      <th>75%</th>\n",
              "      <td>5.122179e+07</td>\n",
              "      <td>2.578873e+07</td>\n",
              "      <td>2.212869e+07</td>\n",
              "      <td>1.283417e+07</td>\n",
              "      <td>2.426295e+05</td>\n",
              "      <td>5.258625e+04</td>\n",
              "      <td>155.785000</td>\n",
              "      <td>72.980000</td>\n",
              "      <td>67.020000</td>\n",
              "      <td>43.432500</td>\n",
              "      <td>3806.250000</td>\n",
              "      <td>1.858800e+04</td>\n",
              "      <td>0.136000</td>\n",
              "    </tr>\n",
              "    <tr>\n",
              "      <th>max</th>\n",
              "      <td>1.246811e+10</td>\n",
              "      <td>5.332048e+09</td>\n",
              "      <td>4.897675e+09</td>\n",
              "      <td>2.352135e+09</td>\n",
              "      <td>4.967049e+07</td>\n",
              "      <td>4.368776e+07</td>\n",
              "      <td>366.870000</td>\n",
              "      <td>128.780000</td>\n",
              "      <td>126.790000</td>\n",
              "      <td>135.710000</td>\n",
              "      <td>117862.000000</td>\n",
              "      <td>2.106893e+07</td>\n",
              "      <td>11.786000</td>\n",
              "    </tr>\n",
              "  </tbody>\n",
              "</table>\n",
              "</div>\n",
              "      <button class=\"colab-df-convert\" onclick=\"convertToInteractive('df-a5381f55-dd8e-43a2-9b21-222c17eea5a6')\"\n",
              "              title=\"Convert this dataframe to an interactive table.\"\n",
              "              style=\"display:none;\">\n",
              "        \n",
              "  <svg xmlns=\"http://www.w3.org/2000/svg\" height=\"24px\"viewBox=\"0 0 24 24\"\n",
              "       width=\"24px\">\n",
              "    <path d=\"M0 0h24v24H0V0z\" fill=\"none\"/>\n",
              "    <path d=\"M18.56 5.44l.94 2.06.94-2.06 2.06-.94-2.06-.94-.94-2.06-.94 2.06-2.06.94zm-11 1L8.5 8.5l.94-2.06 2.06-.94-2.06-.94L8.5 2.5l-.94 2.06-2.06.94zm10 10l.94 2.06.94-2.06 2.06-.94-2.06-.94-.94-2.06-.94 2.06-2.06.94z\"/><path d=\"M17.41 7.96l-1.37-1.37c-.4-.4-.92-.59-1.43-.59-.52 0-1.04.2-1.43.59L10.3 9.45l-7.72 7.72c-.78.78-.78 2.05 0 2.83L4 21.41c.39.39.9.59 1.41.59.51 0 1.02-.2 1.41-.59l7.78-7.78 2.81-2.81c.8-.78.8-2.07 0-2.86zM5.41 20L4 18.59l7.72-7.72 1.47 1.35L5.41 20z\"/>\n",
              "  </svg>\n",
              "      </button>\n",
              "      \n",
              "  <style>\n",
              "    .colab-df-container {\n",
              "      display:flex;\n",
              "      flex-wrap:wrap;\n",
              "      gap: 12px;\n",
              "    }\n",
              "\n",
              "    .colab-df-convert {\n",
              "      background-color: #E8F0FE;\n",
              "      border: none;\n",
              "      border-radius: 50%;\n",
              "      cursor: pointer;\n",
              "      display: none;\n",
              "      fill: #1967D2;\n",
              "      height: 32px;\n",
              "      padding: 0 0 0 0;\n",
              "      width: 32px;\n",
              "    }\n",
              "\n",
              "    .colab-df-convert:hover {\n",
              "      background-color: #E2EBFA;\n",
              "      box-shadow: 0px 1px 2px rgba(60, 64, 67, 0.3), 0px 1px 3px 1px rgba(60, 64, 67, 0.15);\n",
              "      fill: #174EA6;\n",
              "    }\n",
              "\n",
              "    [theme=dark] .colab-df-convert {\n",
              "      background-color: #3B4455;\n",
              "      fill: #D2E3FC;\n",
              "    }\n",
              "\n",
              "    [theme=dark] .colab-df-convert:hover {\n",
              "      background-color: #434B5C;\n",
              "      box-shadow: 0px 1px 3px 1px rgba(0, 0, 0, 0.15);\n",
              "      filter: drop-shadow(0px 1px 2px rgba(0, 0, 0, 0.3));\n",
              "      fill: #FFFFFF;\n",
              "    }\n",
              "  </style>\n",
              "\n",
              "      <script>\n",
              "        const buttonEl =\n",
              "          document.querySelector('#df-a5381f55-dd8e-43a2-9b21-222c17eea5a6 button.colab-df-convert');\n",
              "        buttonEl.style.display =\n",
              "          google.colab.kernel.accessAllowed ? 'block' : 'none';\n",
              "\n",
              "        async function convertToInteractive(key) {\n",
              "          const element = document.querySelector('#df-a5381f55-dd8e-43a2-9b21-222c17eea5a6');\n",
              "          const dataTable =\n",
              "            await google.colab.kernel.invokeFunction('convertToInteractive',\n",
              "                                                     [key], {});\n",
              "          if (!dataTable) return;\n",
              "\n",
              "          const docLinkHtml = 'Like what you see? Visit the ' +\n",
              "            '<a target=\"_blank\" href=https://colab.research.google.com/notebooks/data_table.ipynb>data table notebook</a>'\n",
              "            + ' to learn more about interactive tables.';\n",
              "          element.innerHTML = '';\n",
              "          dataTable['output_type'] = 'display_data';\n",
              "          await google.colab.output.renderOutput(dataTable, element);\n",
              "          const docLink = document.createElement('div');\n",
              "          docLink.innerHTML = docLinkHtml;\n",
              "          element.appendChild(docLink);\n",
              "        }\n",
              "      </script>\n",
              "    </div>\n",
              "  </div>\n",
              "  "
            ]
          },
          "metadata": {},
          "execution_count": 14
        }
      ]
    },
    {
      "cell_type": "code",
      "source": [
        "df2['location'].describe()"
      ],
      "metadata": {
        "id": "9SnHRBag1xsk"
      },
      "execution_count": null,
      "outputs": []
    },
    {
      "cell_type": "code",
      "source": [
        "df2.max()"
      ],
      "metadata": {
        "id": "CKffzP8-17as"
      },
      "execution_count": null,
      "outputs": []
    },
    {
      "cell_type": "code",
      "source": [
        "df2.max(numeric_only = True)"
      ],
      "metadata": {
        "id": "XY2gbzAw2JmV"
      },
      "execution_count": null,
      "outputs": []
    },
    {
      "cell_type": "code",
      "source": [
        "df2.min()"
      ],
      "metadata": {
        "id": "R6kYnx7p2RrN"
      },
      "execution_count": null,
      "outputs": []
    },
    {
      "cell_type": "code",
      "source": [
        "df2.mean()"
      ],
      "metadata": {
        "id": "__5otPab2V3N"
      },
      "execution_count": null,
      "outputs": []
    },
    {
      "cell_type": "code",
      "source": [
        "df2.median()"
      ],
      "metadata": {
        "id": "7lkggOUm2lwW"
      },
      "execution_count": null,
      "outputs": []
    },
    {
      "cell_type": "code",
      "source": [
        "df2.std()"
      ],
      "metadata": {
        "id": "_eKbCiza2pVu"
      },
      "execution_count": null,
      "outputs": []
    },
    {
      "cell_type": "code",
      "source": [
        "df2.var()"
      ],
      "metadata": {
        "id": "rd5gcFDx2sw0"
      },
      "execution_count": null,
      "outputs": []
    },
    {
      "cell_type": "code",
      "source": [
        "df2.count()"
      ],
      "metadata": {
        "id": "TTgVi5mI2xAM"
      },
      "execution_count": null,
      "outputs": []
    },
    {
      "cell_type": "code",
      "source": [
        "df2.sum()"
      ],
      "metadata": {
        "id": "ziqDt1Ec26Gt"
      },
      "execution_count": null,
      "outputs": []
    },
    {
      "cell_type": "code",
      "source": [
        "df2.cumsum() ##This crashes the notebook using all the RAM"
      ],
      "metadata": {
        "id": "k8FI3caB3PSd"
      },
      "execution_count": null,
      "outputs": []
    },
    {
      "cell_type": "code",
      "source": [
        "df2.mode()"
      ],
      "metadata": {
        "id": "Kx83FY3P4GvG"
      },
      "execution_count": null,
      "outputs": []
    },
    {
      "cell_type": "code",
      "source": [
        "df2.mad()"
      ],
      "metadata": {
        "id": "EJOkMH3e4Vbd"
      },
      "execution_count": null,
      "outputs": []
    },
    {
      "cell_type": "code",
      "source": [
        "df2.sem()"
      ],
      "metadata": {
        "id": "xnU8GPI34YXO"
      },
      "execution_count": null,
      "outputs": []
    },
    {
      "cell_type": "code",
      "source": [
        "df2.agg(['min', 'max', 'mean'])"
      ],
      "metadata": {
        "id": "v3LR_Ukt4w0E"
      },
      "execution_count": null,
      "outputs": []
    },
    {
      "cell_type": "code",
      "source": [
        "df2['daily_people_vaccinated'].value_counts()"
      ],
      "metadata": {
        "id": "V6---qY65VHk"
      },
      "execution_count": null,
      "outputs": []
    },
    {
      "cell_type": "code",
      "source": [
        "df2['daily_people_vaccinated'].mean()"
      ],
      "metadata": {
        "id": "BJbg805_6CRD"
      },
      "execution_count": null,
      "outputs": []
    },
    {
      "cell_type": "code",
      "source": [
        "df_location = df2.groupby('location')\n",
        "df_location['daily_people_vaccinated'].mean()"
      ],
      "metadata": {
        "id": "6DHQ4Suv6IhF"
      },
      "execution_count": null,
      "outputs": []
    },
    {
      "cell_type": "code",
      "source": [
        "df_location = df2.groupby(['location', 'daily_people_vaccinated'])\n",
        "df_location['daily_people_vaccinated'].mean()"
      ],
      "metadata": {
        "id": "K9rzykTc6dj9"
      },
      "execution_count": null,
      "outputs": []
    },
    {
      "cell_type": "code",
      "source": [
        "df2.groupby(['location', 'daily_people_vaccinated']).mean()"
      ],
      "metadata": {
        "id": "InP3HiCJ6_Nr"
      },
      "execution_count": null,
      "outputs": []
    },
    {
      "cell_type": "code",
      "source": [
        "df_location = df2.groupby('location')\n",
        "df_location['people_vaccinated'].agg(['min', 'max', 'mean'])"
      ],
      "metadata": {
        "id": "rQRXY5xZ7Ni0"
      },
      "execution_count": null,
      "outputs": []
    },
    {
      "cell_type": "code",
      "source": [
        "df2[df2['location'] == 'Jordan']"
      ],
      "metadata": {
        "id": "i4-Ge63g8Mkt"
      },
      "execution_count": null,
      "outputs": []
    },
    {
      "cell_type": "code",
      "source": [
        "df2[df2['location'] == 'Jordan'].count()"
      ],
      "metadata": {
        "id": "XPYOw7478r1d",
        "colab": {
          "base_uri": "https://localhost:8080/"
        },
        "outputId": "3d313924-1c83-4ae4-f07e-4c93ba4ccc38"
      },
      "execution_count": null,
      "outputs": [
        {
          "output_type": "execute_result",
          "data": {
            "text/plain": [
              "location                               573\n",
              "iso_code                               573\n",
              "date                                   573\n",
              "total_vaccinations                     212\n",
              "people_vaccinated                      211\n",
              "people_fully_vaccinated                207\n",
              "total_boosters                          15\n",
              "daily_vaccinations_raw                 146\n",
              "daily_vaccinations                     572\n",
              "total_vaccinations_per_hundred         212\n",
              "people_vaccinated_per_hundred          211\n",
              "people_fully_vaccinated_per_hundred    207\n",
              "total_boosters_per_hundred              15\n",
              "daily_vaccinations_per_million         572\n",
              "daily_people_vaccinated                572\n",
              "daily_people_vaccinated_per_hundred    572\n",
              "dtype: int64"
            ]
          },
          "metadata": {},
          "execution_count": 15
        }
      ]
    },
    {
      "cell_type": "code",
      "source": [
        "df2[df2['location'] == 'Jordan'].shape[0]"
      ],
      "metadata": {
        "colab": {
          "base_uri": "https://localhost:8080/"
        },
        "id": "QlhOi6fs88jT",
        "outputId": "873b1605-3ffa-4454-ff00-423ecbf58233"
      },
      "execution_count": null,
      "outputs": [
        {
          "output_type": "execute_result",
          "data": {
            "text/plain": [
              "573"
            ]
          },
          "metadata": {},
          "execution_count": 25
        }
      ]
    },
    {
      "cell_type": "code",
      "source": [
        "df2.sample()"
      ],
      "metadata": {
        "id": "OBvHuNz08-98"
      },
      "execution_count": null,
      "outputs": []
    },
    {
      "cell_type": "code",
      "source": [
        "df3 = df2"
      ],
      "metadata": {
        "id": "vz1kbBK2yPMD"
      },
      "execution_count": null,
      "outputs": []
    },
    {
      "cell_type": "code",
      "source": [
        "df3.drop([0])"
      ],
      "metadata": {
        "id": "PJbMMvTazLhl"
      },
      "execution_count": null,
      "outputs": []
    },
    {
      "cell_type": "code",
      "source": [
        "rows_to_drop = [i for i in range(2,5)]\n",
        "df3.drop(rows_to_drop)"
      ],
      "metadata": {
        "id": "u7E62WuRzf5q"
      },
      "execution_count": null,
      "outputs": []
    },
    {
      "cell_type": "code",
      "source": [
        "df3 = df2.drop('location', axis=1)\n",
        "df3"
      ],
      "metadata": {
        "id": "XzC9U5KrzvOt"
      },
      "execution_count": null,
      "outputs": []
    },
    {
      "cell_type": "code",
      "source": [
        "col_names = ['location','iso_code']\n",
        "df3 = df2.drop(col_names, axis='columns')\n",
        "df3"
      ],
      "metadata": {
        "id": "dC9lxtjq0Awj"
      },
      "execution_count": null,
      "outputs": []
    },
    {
      "cell_type": "code",
      "source": [
        "df4 = df2.drop_duplicates()\n",
        "df4"
      ],
      "metadata": {
        "id": "BtkRV7in0fsr"
      },
      "execution_count": null,
      "outputs": []
    },
    {
      "cell_type": "code",
      "source": [
        "df2.isnull().sum()\n"
      ],
      "metadata": {
        "id": "JBms3ob30zdY",
        "colab": {
          "base_uri": "https://localhost:8080/"
        },
        "outputId": "d1fddf18-abb1-413a-f1a4-401f03e99e9a"
      },
      "execution_count": null,
      "outputs": [
        {
          "output_type": "execute_result",
          "data": {
            "text/plain": [
              "location                                   0\n",
              "iso_code                                   0\n",
              "date                                       0\n",
              "total_vaccinations                     60214\n",
              "people_vaccinated                      62948\n",
              "people_fully_vaccinated                65594\n",
              "total_boosters                         89749\n",
              "daily_vaccinations_raw                 70615\n",
              "daily_vaccinations                       677\n",
              "total_vaccinations_per_hundred         60214\n",
              "people_vaccinated_per_hundred          62948\n",
              "people_fully_vaccinated_per_hundred    65594\n",
              "total_boosters_per_hundred             89749\n",
              "daily_vaccinations_per_million           677\n",
              "daily_people_vaccinated                 1450\n",
              "daily_people_vaccinated_per_hundred     1450\n",
              "dtype: int64"
            ]
          },
          "metadata": {},
          "execution_count": 17
        }
      ]
    },
    {
      "cell_type": "code",
      "source": [
        "df2.isnull().sum().sum()"
      ],
      "metadata": {
        "colab": {
          "base_uri": "https://localhost:8080/"
        },
        "id": "tqeEuvSOB0ev",
        "outputId": "1e3058cb-293b-4e25-8697-3285e513949e"
      },
      "execution_count": null,
      "outputs": [
        {
          "output_type": "execute_result",
          "data": {
            "text/plain": [
              "631879"
            ]
          },
          "metadata": {},
          "execution_count": 18
        }
      ]
    },
    {
      "cell_type": "code",
      "source": [
        "df2.notnull()"
      ],
      "metadata": {
        "id": "EkGgNgYT1foi"
      },
      "execution_count": null,
      "outputs": []
    },
    {
      "cell_type": "code",
      "source": [
        "df5 = df2.dropna(how='all')\n",
        "df5.shape"
      ],
      "metadata": {
        "colab": {
          "base_uri": "https://localhost:8080/"
        },
        "id": "QTQYcZpH1jVD",
        "outputId": "635a9677-bd76-4316-b3b7-b26e7d53426e"
      },
      "execution_count": null,
      "outputs": [
        {
          "output_type": "execute_result",
          "data": {
            "text/plain": [
              "(121085, 16)"
            ]
          },
          "metadata": {},
          "execution_count": 20
        }
      ]
    },
    {
      "cell_type": "code",
      "source": [
        "df5 = df.fillna(0)\n",
        "df5"
      ],
      "metadata": {
        "id": "AdtqPjzl2Ag1"
      },
      "execution_count": null,
      "outputs": []
    },
    {
      "cell_type": "code",
      "source": [
        "df2_sorted = df2.sort_values(by='date')\n",
        "df2_sorted"
      ],
      "metadata": {
        "id": "LfbQ3RhS3qhJ"
      },
      "execution_count": null,
      "outputs": []
    },
    {
      "cell_type": "code",
      "source": [
        "df5.columns"
      ],
      "metadata": {
        "id": "vgyywV67DBFg"
      },
      "execution_count": null,
      "outputs": []
    },
    {
      "cell_type": "markdown",
      "source": [
        "-------------------------------------------------------------------------- PART1"
      ],
      "metadata": {
        "id": "OaF0nlen9Elk"
      }
    },
    {
      "cell_type": "code",
      "source": [
        "cols = ['location', 'total_vaccinations', 'iso_code', 'daily_vaccinations','daily_vaccinations_per_million']\n",
        "vaccines_per_million = df5[cols].groupby('location').max().sort_values('total_vaccinations', ascending=False).dropna(subset=['total_vaccinations'])\n",
        "vaccines_per_million.reset_index(level=0, inplace=True)\n",
        "vaccines_per_million = vaccines_per_million.sort_values('daily_vaccinations_per_million', ascending=False)\n",
        "vaccines_per_million = vaccines_per_million.iloc[0:10]\n",
        "vaccines_per_million.reset_index(level=0, inplace=True)\n",
        "\n",
        "plt.figure(figsize=(9, 12))\n",
        "sns.barplot(y=vaccines_per_million['location'], x=vaccines_per_million['daily_vaccinations_per_million'], orient='h')\n",
        "plt.title('Daily vaccine doses administered per 1,000,000 people - Top 10 Nations', fontdict = { 'fontsize': 12})\n",
        "plt.ylabel('Number of daily vaccinated people per million')\n",
        "plt.xlabel('Countries')"
      ],
      "metadata": {
        "id": "ZJIuAXUVELhg",
        "colab": {
          "base_uri": "https://localhost:8080/",
          "height": 747
        },
        "outputId": "3b3fa57e-01c2-47cb-c248-966a98d5b118"
      },
      "execution_count": null,
      "outputs": [
        {
          "output_type": "execute_result",
          "data": {
            "text/plain": [
              "Text(0.5, 0, 'Countries')"
            ]
          },
          "metadata": {},
          "execution_count": 22
        },
        {
          "output_type": "display_data",
          "data": {
            "text/plain": [
              "<Figure size 648x864 with 1 Axes>"
            ],
            "image/png": "[encoded data removed]"
          },
          "metadata": {
            "needs_background": "light"
          }
        }
      ]
    },
    {
      "cell_type": "code",
      "source": [
        "cols = ['location', 'total_vaccinations', 'iso_code', 'daily_vaccinations', 'people_vaccinated','people_fully_vaccinated']\n",
        "people_fully_vaccinated = df5[cols].groupby('location').max().sort_values('total_vaccinations', ascending=False).dropna(subset=['total_vaccinations'])\n",
        "people_fully_vaccinated.reset_index(level=0, inplace=True)\n",
        "drop_rows = ['World', 'High income', 'North America', 'South America', 'Europe', 'European Union', 'Asia', 'Africa', 'Upper middle income', 'Lower middle income','Low income']\n",
        "\n",
        "people_fully_vaccinated = people_fully_vaccinated[~people_fully_vaccinated['location'].isin(drop_rows)]\n",
        "\n",
        "\n",
        "people_fully_vaccinated = people_fully_vaccinated.sort_values('people_fully_vaccinated', ascending=False)\n",
        "people_fully_vaccinated = people_fully_vaccinated.iloc[0:10]\n",
        "people_fully_vaccinated.reset_index(level=0, inplace=True)\n",
        "\n",
        "plt.figure(figsize=(9, 12))\n",
        "sns.barplot(y=people_fully_vaccinated['location'], x=people_fully_vaccinated['people_fully_vaccinated'], orient='h')\n",
        "\n",
        "plt.title('Countries with the highest number of people fully vaccinated - Top 10 Nations', fontdict = { 'fontsize': 12})\n",
        "plt.ylabel('Number of people fully vaccinated')\n",
        "plt.xlabel('Countries')"
      ],
      "metadata": {
        "id": "evunH2NtScD3",
        "colab": {
          "base_uri": "https://localhost:8080/",
          "height": 747
        },
        "outputId": "b6c86e99-1a92-4e84-b735-fdeac3f63225"
      },
      "execution_count": null,
      "outputs": [
        {
          "output_type": "execute_result",
          "data": {
            "text/plain": [
              "Text(0.5, 0, 'Countries')"
            ]
          },
          "metadata": {},
          "execution_count": 23
        },
        {
          "output_type": "display_data",
          "data": {
            "text/plain": [
              "<Figure size 648x864 with 1 Axes>"
            ],
            "image/png": "[encoded data removed]"
          },
          "metadata": {
            "needs_background": "light"
          }
        }
      ]
    },
    {
      "cell_type": "code",
      "source": [
        "cols = ['location', 'total_vaccinations', 'iso_code', 'daily_vaccinations', 'people_vaccinated','people_fully_vaccinated']\n",
        "people_fully_vaccinated = df5[cols].groupby('location').min().sort_values('people_fully_vaccinated', ascending=False).dropna(subset=['people_fully_vaccinated'])\n",
        "people_fully_vaccinated.reset_index(level=0, inplace=True)\n",
        "drop_rows = ['World', 'High income', 'North America', 'South America', 'Europe', 'European Union', 'Asia', 'Africa', 'Upper middle income', 'Lower middle income','Low income', 'China']\n",
        "\n",
        "people_fully_vaccinated = people_fully_vaccinated[~people_fully_vaccinated['location'].isin(drop_rows)]\n",
        "\n",
        "\n",
        "people_fully_vaccinated = people_fully_vaccinated.sort_values('people_fully_vaccinated', ascending=False)\n",
        "people_fully_vaccinated = people_fully_vaccinated.iloc[0:3]\n",
        "people_fully_vaccinated.reset_index(level=0, inplace=True)\n",
        "people_fully_vaccinated.value_counts().plot(kind='pie', figsize=(5,5))\n"
      ],
      "metadata": {
        "id": "lFjeHUi7eZ0j",
        "colab": {
          "base_uri": "https://localhost:8080/",
          "height": 320
        },
        "outputId": "ad76ec58-81d9-4cff-efd3-97be1f6cc1c6"
      },
      "execution_count": null,
      "outputs": [
        {
          "output_type": "execute_result",
          "data": {
            "text/plain": [
              "<matplotlib.axes._subplots.AxesSubplot at 0x7f70d64768d0>"
            ]
          },
          "metadata": {},
          "execution_count": 24
        },
        {
          "output_type": "display_data",
          "data": {
            "text/plain": [
              "<Figure size 360x360 with 1 Axes>"
            ],
            "image/png": "[encoded data removed]"
          },
          "metadata": {}
        }
      ]
    },
    {
      "cell_type": "code",
      "source": [
        "\n",
        "\n",
        "Countries = ['Globally']\n",
        "people_vaccinated_new = df2['total_vaccinations'].count()\n",
        "people_fully_vaccinated_new = df2['total_boosters'].count()\n",
        "\n",
        "x_axis = np.arange(len(Countries))\n",
        "\n",
        "\n",
        "\n",
        "plt.bar(x_axis -0.2, people_vaccinated_new, width=0.2, label = 'Total Vaccinations')\n",
        "plt.bar(x_axis +0.2, people_fully_vaccinated_new, width=0.2, label = 'Total Boosters')\n",
        "\n",
        "\n",
        "\n",
        "plt.xticks(x_axis, Countries)\n",
        "\n",
        "\n",
        "\n",
        "plt.legend()\n",
        "\n",
        "\n",
        "\n",
        "plt.show()"
      ],
      "metadata": {
        "id": "v3FK8iaRYd7u",
        "colab": {
          "base_uri": "https://localhost:8080/",
          "height": 265
        },
        "outputId": "346be6b7-2402-4ed1-e3c3-685243797a44"
      },
      "execution_count": null,
      "outputs": [
        {
          "output_type": "display_data",
          "data": {
            "text/plain": [
              "<Figure size 432x288 with 1 Axes>"
            ],
            "image/png": "[encoded data removed]"
          },
          "metadata": {
            "needs_background": "light"
          }
        }
      ]
    },
    {
      "cell_type": "code",
      "source": [
        "from skimage import io\n",
        "from PIL import Image\n",
        "import cv2 as cv\n",
        "from google.colab.patches import cv2_imshow\n",
        "from google.colab import files\n",
        "from IPython.display import Image\n",
        "from sklearn import preprocessing"
      ],
      "metadata": {
        "id": "FiY9ULnIoC_l"
      },
      "execution_count": null,
      "outputs": []
    },
    {
      "cell_type": "code",
      "source": [
        "array = df5.to_numpy()\n",
        "array"
      ],
      "metadata": {
        "id": "ugVYqzMGtgC9",
        "colab": {
          "base_uri": "https://localhost:8080/"
        },
        "outputId": "9e827e41-42fb-4697-9f15-83b3f34fc802"
      },
      "execution_count": null,
      "outputs": [
        {
          "output_type": "execute_result",
          "data": {
            "text/plain": [
              "array([['Afghanistan', 'AFG', '2021-02-22', ..., 0.0, 0.0, 0.0],\n",
              "       ['Afghanistan', 'AFG', '2021-02-23', ..., 34.0, 1367.0, 0.003],\n",
              "       ['Afghanistan', 'AFG', '2021-02-24', ..., 34.0, 1367.0, 0.003],\n",
              "       ...,\n",
              "       ['Zimbabwe', 'ZWE', '2022-07-29', ..., 329.0, 1950.0, 0.012],\n",
              "       ['Zimbabwe', 'ZWE', '2022-07-30', ..., 350.0, 2130.0, 0.013],\n",
              "       ['Zimbabwe', 'ZWE', '2022-07-31', ..., 310.0, 1954.0, 0.012]],\n",
              "      dtype=object)"
            ]
          },
          "metadata": {},
          "execution_count": 26
        }
      ]
    },
    {
      "cell_type": "code",
      "source": [
        "labels = array[:, 4:5]\n",
        "labels"
      ],
      "metadata": {
        "id": "WV6HVN5YVjXs",
        "colab": {
          "base_uri": "https://localhost:8080/"
        },
        "outputId": "c971a080-e68c-4b6d-b6c0-e3f7998d0ba9"
      },
      "execution_count": null,
      "outputs": [
        {
          "output_type": "execute_result",
          "data": {
            "text/plain": [
              "array([[0.0],\n",
              "       [0.0],\n",
              "       [0.0],\n",
              "       ...,\n",
              "       [6372686.0],\n",
              "       [6375973.0],\n",
              "       [6376117.0]], dtype=object)"
            ]
          },
          "metadata": {},
          "execution_count": 27
        }
      ]
    },
    {
      "cell_type": "code",
      "source": [
        "dd2 = df5.iloc[: , :4].agg(['mean', 'std'])\n",
        "dd2"
      ],
      "metadata": {
        "id": "ic569MhTVtUn",
        "colab": {
          "base_uri": "https://localhost:8080/",
          "height": 112
        },
        "outputId": "5a01e5a0-16c8-472c-deed-83f9c706006a"
      },
      "execution_count": null,
      "outputs": [
        {
          "output_type": "execute_result",
          "data": {
            "text/plain": [
              "      total_vaccinations\n",
              "mean        1.269660e+08\n",
              "std         7.704185e+08"
            ],
            "text/html": [
              "\n",
              "  <div id=\"df-a9c35130-5981-4d1e-adff-05f328d75920\">\n",
              "    <div class=\"colab-df-container\">\n",
              "      <div>\n",
              "<style scoped>\n",
              "    .dataframe tbody tr th:only-of-type {\n",
              "        vertical-align: middle;\n",
              "    }\n",
              "\n",
              "    .dataframe tbody tr th {\n",
              "        vertical-align: top;\n",
              "    }\n",
              "\n",
              "    .dataframe thead th {\n",
              "        text-align: right;\n",
              "    }\n",
              "</style>\n",
              "<table border=\"1\" class=\"dataframe\">\n",
              "  <thead>\n",
              "    <tr style=\"text-align: right;\">\n",
              "      <th></th>\n",
              "      <th>total_vaccinations</th>\n",
              "    </tr>\n",
              "  </thead>\n",
              "  <tbody>\n",
              "    <tr>\n",
              "      <th>mean</th>\n",
              "      <td>1.269660e+08</td>\n",
              "    </tr>\n",
              "    <tr>\n",
              "      <th>std</th>\n",
              "      <td>7.704185e+08</td>\n",
              "    </tr>\n",
              "  </tbody>\n",
              "</table>\n",
              "</div>\n",
              "      <button class=\"colab-df-convert\" onclick=\"convertToInteractive('df-a9c35130-5981-4d1e-adff-05f328d75920')\"\n",
              "              title=\"Convert this dataframe to an interactive table.\"\n",
              "              style=\"display:none;\">\n",
              "        \n",
              "  <svg xmlns=\"http://www.w3.org/2000/svg\" height=\"24px\"viewBox=\"0 0 24 24\"\n",
              "       width=\"24px\">\n",
              "    <path d=\"M0 0h24v24H0V0z\" fill=\"none\"/>\n",
              "    <path d=\"M18.56 5.44l.94 2.06.94-2.06 2.06-.94-2.06-.94-.94-2.06-.94 2.06-2.06.94zm-11 1L8.5 8.5l.94-2.06 2.06-.94-2.06-.94L8.5 2.5l-.94 2.06-2.06.94zm10 10l.94 2.06.94-2.06 2.06-.94-2.06-.94-.94-2.06-.94 2.06-2.06.94z\"/><path d=\"M17.41 7.96l-1.37-1.37c-.4-.4-.92-.59-1.43-.59-.52 0-1.04.2-1.43.59L10.3 9.45l-7.72 7.72c-.78.78-.78 2.05 0 2.83L4 21.41c.39.39.9.59 1.41.59.51 0 1.02-.2 1.41-.59l7.78-7.78 2.81-2.81c.8-.78.8-2.07 0-2.86zM5.41 20L4 18.59l7.72-7.72 1.47 1.35L5.41 20z\"/>\n",
              "  </svg>\n",
              "      </button>\n",
              "      \n",
              "  <style>\n",
              "    .colab-df-container {\n",
              "      display:flex;\n",
              "      flex-wrap:wrap;\n",
              "      gap: 12px;\n",
              "    }\n",
              "\n",
              "    .colab-df-convert {\n",
              "      background-color: #E8F0FE;\n",
              "      border: none;\n",
              "      border-radius: 50%;\n",
              "      cursor: pointer;\n",
              "      display: none;\n",
              "      fill: #1967D2;\n",
              "      height: 32px;\n",
              "      padding: 0 0 0 0;\n",
              "      width: 32px;\n",
              "    }\n",
              "\n",
              "    .colab-df-convert:hover {\n",
              "      background-color: #E2EBFA;\n",
              "      box-shadow: 0px 1px 2px rgba(60, 64, 67, 0.3), 0px 1px 3px 1px rgba(60, 64, 67, 0.15);\n",
              "      fill: #174EA6;\n",
              "    }\n",
              "\n",
              "    [theme=dark] .colab-df-convert {\n",
              "      background-color: #3B4455;\n",
              "      fill: #D2E3FC;\n",
              "    }\n",
              "\n",
              "    [theme=dark] .colab-df-convert:hover {\n",
              "      background-color: #434B5C;\n",
              "      box-shadow: 0px 1px 3px 1px rgba(0, 0, 0, 0.15);\n",
              "      filter: drop-shadow(0px 1px 2px rgba(0, 0, 0, 0.3));\n",
              "      fill: #FFFFFF;\n",
              "    }\n",
              "  </style>\n",
              "\n",
              "      <script>\n",
              "        const buttonEl =\n",
              "          document.querySelector('#df-a9c35130-5981-4d1e-adff-05f328d75920 button.colab-df-convert');\n",
              "        buttonEl.style.display =\n",
              "          google.colab.kernel.accessAllowed ? 'block' : 'none';\n",
              "\n",
              "        async function convertToInteractive(key) {\n",
              "          const element = document.querySelector('#df-a9c35130-5981-4d1e-adff-05f328d75920');\n",
              "          const dataTable =\n",
              "            await google.colab.kernel.invokeFunction('convertToInteractive',\n",
              "                                                     [key], {});\n",
              "          if (!dataTable) return;\n",
              "\n",
              "          const docLinkHtml = 'Like what you see? Visit the ' +\n",
              "            '<a target=\"_blank\" href=https://colab.research.google.com/notebooks/data_table.ipynb>data table notebook</a>'\n",
              "            + ' to learn more about interactive tables.';\n",
              "          element.innerHTML = '';\n",
              "          dataTable['output_type'] = 'display_data';\n",
              "          await google.colab.output.renderOutput(dataTable, element);\n",
              "          const docLink = document.createElement('div');\n",
              "          docLink.innerHTML = docLinkHtml;\n",
              "          element.appendChild(docLink);\n",
              "        }\n",
              "      </script>\n",
              "    </div>\n",
              "  </div>\n",
              "  "
            ]
          },
          "metadata": {},
          "execution_count": 28
        }
      ]
    },
    {
      "cell_type": "code",
      "source": [
        "x = dd2.plot(kind='density', figsize=(10,5))"
      ],
      "metadata": {
        "id": "2mk5WvbFX4Uq",
        "colab": {
          "base_uri": "https://localhost:8080/",
          "height": 344
        },
        "outputId": "5a598caa-8296-4273-edfe-264b81b08d21"
      },
      "execution_count": null,
      "outputs": [
        {
          "output_type": "display_data",
          "data": {
            "text/plain": [
              "<Figure size 720x360 with 1 Axes>"
            ],
            "image/png": "[encoded data removed]"
          },
          "metadata": {
            "needs_background": "light"
          }
        }
      ]
    },
    {
      "cell_type": "code",
      "source": [
        "normalized=(df5-df5.mean())/df5.std()\n",
        "normalized_df = normalized.fillna(0)\n",
        "normalized_df"
      ],
      "metadata": {
        "id": "Kkmpw2_HYthp",
        "colab": {
          "base_uri": "https://localhost:8080/",
          "height": 522
        },
        "outputId": "334dee76-c46a-410f-9566-cc8f85d6a15c"
      },
      "execution_count": null,
      "outputs": [
        {
          "output_type": "stream",
          "name": "stderr",
          "text": [
            "/usr/local/lib/python3.7/dist-packages/ipykernel_launcher.py:1: FutureWarning: Dropping of nuisance columns in DataFrame reductions (with 'numeric_only=None') is deprecated; in a future version this will raise TypeError.  Select only valid columns before calling the reduction.\n",
            "  \"\"\"Entry point for launching an IPython kernel.\n"
          ]
        },
        {
          "output_type": "execute_result",
          "data": {
            "text/plain": [
              "        daily_people_vaccinated  daily_people_vaccinated_per_hundred  \\\n",
              "0                     -0.160835                            -0.531057   \n",
              "1                     -0.159447                            -0.516970   \n",
              "2                     -0.159447                            -0.516970   \n",
              "3                     -0.159447                            -0.516970   \n",
              "4                     -0.159447                            -0.516970   \n",
              "...                         ...                                  ...   \n",
              "121080                -0.158083                            -0.451230   \n",
              "121081                -0.158680                            -0.470013   \n",
              "121082                -0.158855                            -0.474708   \n",
              "121083                -0.158672                            -0.470013   \n",
              "121084                -0.158851                            -0.474708   \n",
              "\n",
              "        daily_vaccinations  daily_vaccinations_per_million  \\\n",
              "0                -0.173658                       -0.744764   \n",
              "1                -0.173091                       -0.735390   \n",
              "2                -0.173091                       -0.735390   \n",
              "3                -0.173091                       -0.735390   \n",
              "4                -0.173091                       -0.735390   \n",
              "...                    ...                             ...   \n",
              "121080           -0.169693                       -0.579896   \n",
              "121081           -0.170695                       -0.621526   \n",
              "121082           -0.171478                       -0.654059   \n",
              "121083           -0.171336                       -0.648269   \n",
              "121084           -0.171603                       -0.659297   \n",
              "\n",
              "        daily_vaccinations_raw  date  iso_code  location  \\\n",
              "0                    -0.163724     0         0         0   \n",
              "1                    -0.163724     0         0         0   \n",
              "2                    -0.163724     0         0         0   \n",
              "3                    -0.163724     0         0         0   \n",
              "4                    -0.163724     0         0         0   \n",
              "...                        ...   ...       ...       ...   \n",
              "121080               -0.159015     0         0         0   \n",
              "121081               -0.162071     0         0         0   \n",
              "121082               -0.162733     0         0         0   \n",
              "121083               -0.161514     0         0         0   \n",
              "121084               -0.162981     0         0         0   \n",
              "\n",
              "        people_fully_vaccinated  people_fully_vaccinated_per_hundred  \\\n",
              "0                     -0.152469                            -0.655960   \n",
              "1                     -0.152469                            -0.655960   \n",
              "2                     -0.152469                            -0.655960   \n",
              "3                     -0.152469                            -0.655960   \n",
              "4                     -0.152469                            -0.655960   \n",
              "...                         ...                                  ...   \n",
              "121080                -0.137100                             0.377011   \n",
              "121081                -0.137095                             0.377363   \n",
              "121082                -0.137093                             0.377363   \n",
              "121083                -0.137091                             0.377363   \n",
              "121084                -0.137088                             0.377715   \n",
              "\n",
              "        people_vaccinated  people_vaccinated_per_hundred  total_boosters  \\\n",
              "0               -0.161208                      -0.711977       -0.118413   \n",
              "1               -0.161208                      -0.711977       -0.118413   \n",
              "2               -0.161208                      -0.711977       -0.118413   \n",
              "3               -0.161208                      -0.711977       -0.118413   \n",
              "4               -0.161208                      -0.711977       -0.118413   \n",
              "...                   ...                            ...             ...   \n",
              "121080          -0.143217                       0.573039       -0.107951   \n",
              "121081          -0.143213                       0.573361       -0.107941   \n",
              "121082          -0.143211                       0.573684       -0.107933   \n",
              "121083          -0.143202                       0.574329       -0.107919   \n",
              "121084          -0.143201                       0.574329       -0.107910   \n",
              "\n",
              "        total_boosters_per_hundred  total_vaccinations  \\\n",
              "0                        -0.379383           -0.164801   \n",
              "1                        -0.379383           -0.164801   \n",
              "2                        -0.379383           -0.164801   \n",
              "3                        -0.379383           -0.164801   \n",
              "4                        -0.379383           -0.164801   \n",
              "...                            ...                 ...   \n",
              "121080                    0.049335           -0.149006   \n",
              "121081                    0.049952           -0.149001   \n",
              "121082                    0.049952           -0.148998   \n",
              "121083                    0.050570           -0.148991   \n",
              "121084                    0.051188           -0.148988   \n",
              "\n",
              "        total_vaccinations_per_hundred  \n",
              "0                            -0.669468  \n",
              "1                            -0.669468  \n",
              "2                            -0.669468  \n",
              "3                            -0.669468  \n",
              "4                            -0.669468  \n",
              "...                                ...  \n",
              "121080                        0.375050  \n",
              "121081                        0.375325  \n",
              "121082                        0.375599  \n",
              "121083                        0.376011  \n",
              "121084                        0.376148  \n",
              "\n",
              "[121085 rows x 16 columns]"
            ],
            "text/html": [
              "\n",
              "  <div id=\"df-28f68f81-c276-41d3-ad74-ed05f3920b6c\">\n",
              "    <div class=\"colab-df-container\">\n",
              "      <div>\n",
              "<style scoped>\n",
              "    .dataframe tbody tr th:only-of-type {\n",
              "        vertical-align: middle;\n",
              "    }\n",
              "\n",
              "    .dataframe tbody tr th {\n",
              "        vertical-align: top;\n",
              "    }\n",
              "\n",
              "    .dataframe thead th {\n",
              "        text-align: right;\n",
              "    }\n",
              "</style>\n",
              "<table border=\"1\" class=\"dataframe\">\n",
              "  <thead>\n",
              "    <tr style=\"text-align: right;\">\n",
              "      <th></th>\n",
              "      <th>daily_people_vaccinated</th>\n",
              "      <th>daily_people_vaccinated_per_hundred</th>\n",
              "      <th>daily_vaccinations</th>\n",
              "      <th>daily_vaccinations_per_million</th>\n",
              "      <th>daily_vaccinations_raw</th>\n",
              "      <th>date</th>\n",
              "      <th>iso_code</th>\n",
              "      <th>location</th>\n",
              "      <th>people_fully_vaccinated</th>\n",
              "      <th>people_fully_vaccinated_per_hundred</th>\n",
              "      <th>people_vaccinated</th>\n",
              "      <th>people_vaccinated_per_hundred</th>\n",
              "      <th>total_boosters</th>\n",
              "      <th>total_boosters_per_hundred</th>\n",
              "      <th>total_vaccinations</th>\n",
              "      <th>total_vaccinations_per_hundred</th>\n",
              "    </tr>\n",
              "  </thead>\n",
              "  <tbody>\n",
              "    <tr>\n",
              "      <th>0</th>\n",
              "      <td>-0.160835</td>\n",
              "      <td>-0.531057</td>\n",
              "      <td>-0.173658</td>\n",
              "      <td>-0.744764</td>\n",
              "      <td>-0.163724</td>\n",
              "      <td>0</td>\n",
              "      <td>0</td>\n",
              "      <td>0</td>\n",
              "      <td>-0.152469</td>\n",
              "      <td>-0.655960</td>\n",
              "      <td>-0.161208</td>\n",
              "      <td>-0.711977</td>\n",
              "      <td>-0.118413</td>\n",
              "      <td>-0.379383</td>\n",
              "      <td>-0.164801</td>\n",
              "      <td>-0.669468</td>\n",
              "    </tr>\n",
              "    <tr>\n",
              "      <th>1</th>\n",
              "      <td>-0.159447</td>\n",
              "      <td>-0.516970</td>\n",
              "      <td>-0.173091</td>\n",
              "      <td>-0.735390</td>\n",
              "      <td>-0.163724</td>\n",
              "      <td>0</td>\n",
              "      <td>0</td>\n",
              "      <td>0</td>\n",
              "      <td>-0.152469</td>\n",
              "      <td>-0.655960</td>\n",
              "      <td>-0.161208</td>\n",
              "      <td>-0.711977</td>\n",
              "      <td>-0.118413</td>\n",
              "      <td>-0.379383</td>\n",
              "      <td>-0.164801</td>\n",
              "      <td>-0.669468</td>\n",
              "    </tr>\n",
              "    <tr>\n",
              "      <th>2</th>\n",
              "      <td>-0.159447</td>\n",
              "      <td>-0.516970</td>\n",
              "      <td>-0.173091</td>\n",
              "      <td>-0.735390</td>\n",
              "      <td>-0.163724</td>\n",
              "      <td>0</td>\n",
              "      <td>0</td>\n",
              "      <td>0</td>\n",
              "      <td>-0.152469</td>\n",
              "      <td>-0.655960</td>\n",
              "      <td>-0.161208</td>\n",
              "      <td>-0.711977</td>\n",
              "      <td>-0.118413</td>\n",
              "      <td>-0.379383</td>\n",
              "      <td>-0.164801</td>\n",
              "      <td>-0.669468</td>\n",
              "    </tr>\n",
              "    <tr>\n",
              "      <th>3</th>\n",
              "      <td>-0.159447</td>\n",
              "      <td>-0.516970</td>\n",
              "      <td>-0.173091</td>\n",
              "      <td>-0.735390</td>\n",
              "      <td>-0.163724</td>\n",
              "      <td>0</td>\n",
              "      <td>0</td>\n",
              "      <td>0</td>\n",
              "      <td>-0.152469</td>\n",
              "      <td>-0.655960</td>\n",
              "      <td>-0.161208</td>\n",
              "      <td>-0.711977</td>\n",
              "      <td>-0.118413</td>\n",
              "      <td>-0.379383</td>\n",
              "      <td>-0.164801</td>\n",
              "      <td>-0.669468</td>\n",
              "    </tr>\n",
              "    <tr>\n",
              "      <th>4</th>\n",
              "      <td>-0.159447</td>\n",
              "      <td>-0.516970</td>\n",
              "      <td>-0.173091</td>\n",
              "      <td>-0.735390</td>\n",
              "      <td>-0.163724</td>\n",
              "      <td>0</td>\n",
              "      <td>0</td>\n",
              "      <td>0</td>\n",
              "      <td>-0.152469</td>\n",
              "      <td>-0.655960</td>\n",
              "      <td>-0.161208</td>\n",
              "      <td>-0.711977</td>\n",
              "      <td>-0.118413</td>\n",
              "      <td>-0.379383</td>\n",
              "      <td>-0.164801</td>\n",
              "      <td>-0.669468</td>\n",
              "    </tr>\n",
              "    <tr>\n",
              "      <th>...</th>\n",
              "      <td>...</td>\n",
              "      <td>...</td>\n",
              "      <td>...</td>\n",
              "      <td>...</td>\n",
              "      <td>...</td>\n",
              "      <td>...</td>\n",
              "      <td>...</td>\n",
              "      <td>...</td>\n",
              "      <td>...</td>\n",
              "      <td>...</td>\n",
              "      <td>...</td>\n",
              "      <td>...</td>\n",
              "      <td>...</td>\n",
              "      <td>...</td>\n",
              "      <td>...</td>\n",
              "      <td>...</td>\n",
              "    </tr>\n",
              "    <tr>\n",
              "      <th>121080</th>\n",
              "      <td>-0.158083</td>\n",
              "      <td>-0.451230</td>\n",
              "      <td>-0.169693</td>\n",
              "      <td>-0.579896</td>\n",
              "      <td>-0.159015</td>\n",
              "      <td>0</td>\n",
              "      <td>0</td>\n",
              "      <td>0</td>\n",
              "      <td>-0.137100</td>\n",
              "      <td>0.377011</td>\n",
              "      <td>-0.143217</td>\n",
              "      <td>0.573039</td>\n",
              "      <td>-0.107951</td>\n",
              "      <td>0.049335</td>\n",
              "      <td>-0.149006</td>\n",
              "      <td>0.375050</td>\n",
              "    </tr>\n",
              "    <tr>\n",
              "      <th>121081</th>\n",
              "      <td>-0.158680</td>\n",
              "      <td>-0.470013</td>\n",
              "      <td>-0.170695</td>\n",
              "      <td>-0.621526</td>\n",
              "      <td>-0.162071</td>\n",
              "      <td>0</td>\n",
              "      <td>0</td>\n",
              "      <td>0</td>\n",
              "      <td>-0.137095</td>\n",
              "      <td>0.377363</td>\n",
              "      <td>-0.143213</td>\n",
              "      <td>0.573361</td>\n",
              "      <td>-0.107941</td>\n",
              "      <td>0.049952</td>\n",
              "      <td>-0.149001</td>\n",
              "      <td>0.375325</td>\n",
              "    </tr>\n",
              "    <tr>\n",
              "      <th>121082</th>\n",
              "      <td>-0.158855</td>\n",
              "      <td>-0.474708</td>\n",
              "      <td>-0.171478</td>\n",
              "      <td>-0.654059</td>\n",
              "      <td>-0.162733</td>\n",
              "      <td>0</td>\n",
              "      <td>0</td>\n",
              "      <td>0</td>\n",
              "      <td>-0.137093</td>\n",
              "      <td>0.377363</td>\n",
              "      <td>-0.143211</td>\n",
              "      <td>0.573684</td>\n",
              "      <td>-0.107933</td>\n",
              "      <td>0.049952</td>\n",
              "      <td>-0.148998</td>\n",
              "      <td>0.375599</td>\n",
              "    </tr>\n",
              "    <tr>\n",
              "      <th>121083</th>\n",
              "      <td>-0.158672</td>\n",
              "      <td>-0.470013</td>\n",
              "      <td>-0.171336</td>\n",
              "      <td>-0.648269</td>\n",
              "      <td>-0.161514</td>\n",
              "      <td>0</td>\n",
              "      <td>0</td>\n",
              "      <td>0</td>\n",
              "      <td>-0.137091</td>\n",
              "      <td>0.377363</td>\n",
              "      <td>-0.143202</td>\n",
              "      <td>0.574329</td>\n",
              "      <td>-0.107919</td>\n",
              "      <td>0.050570</td>\n",
              "      <td>-0.148991</td>\n",
              "      <td>0.376011</td>\n",
              "    </tr>\n",
              "    <tr>\n",
              "      <th>121084</th>\n",
              "      <td>-0.158851</td>\n",
              "      <td>-0.474708</td>\n",
              "      <td>-0.171603</td>\n",
              "      <td>-0.659297</td>\n",
              "      <td>-0.162981</td>\n",
              "      <td>0</td>\n",
              "      <td>0</td>\n",
              "      <td>0</td>\n",
              "      <td>-0.137088</td>\n",
              "      <td>0.377715</td>\n",
              "      <td>-0.143201</td>\n",
              "      <td>0.574329</td>\n",
              "      <td>-0.107910</td>\n",
              "      <td>0.051188</td>\n",
              "      <td>-0.148988</td>\n",
              "      <td>0.376148</td>\n",
              "    </tr>\n",
              "  </tbody>\n",
              "</table>\n",
              "<p>121085 rows × 16 columns</p>\n",
              "</div>\n",
              "      <button class=\"colab-df-convert\" onclick=\"convertToInteractive('df-28f68f81-c276-41d3-ad74-ed05f3920b6c')\"\n",
              "              title=\"Convert this dataframe to an interactive table.\"\n",
              "              style=\"display:none;\">\n",
              "        \n",
              "  <svg xmlns=\"http://www.w3.org/2000/svg\" height=\"24px\"viewBox=\"0 0 24 24\"\n",
              "       width=\"24px\">\n",
              "    <path d=\"M0 0h24v24H0V0z\" fill=\"none\"/>\n",
              "    <path d=\"M18.56 5.44l.94 2.06.94-2.06 2.06-.94-2.06-.94-.94-2.06-.94 2.06-2.06.94zm-11 1L8.5 8.5l.94-2.06 2.06-.94-2.06-.94L8.5 2.5l-.94 2.06-2.06.94zm10 10l.94 2.06.94-2.06 2.06-.94-2.06-.94-.94-2.06-.94 2.06-2.06.94z\"/><path d=\"M17.41 7.96l-1.37-1.37c-.4-.4-.92-.59-1.43-.59-.52 0-1.04.2-1.43.59L10.3 9.45l-7.72 7.72c-.78.78-.78 2.05 0 2.83L4 21.41c.39.39.9.59 1.41.59.51 0 1.02-.2 1.41-.59l7.78-7.78 2.81-2.81c.8-.78.8-2.07 0-2.86zM5.41 20L4 18.59l7.72-7.72 1.47 1.35L5.41 20z\"/>\n",
              "  </svg>\n",
              "      </button>\n",
              "      \n",
              "  <style>\n",
              "    .colab-df-container {\n",
              "      display:flex;\n",
              "      flex-wrap:wrap;\n",
              "      gap: 12px;\n",
              "    }\n",
              "\n",
              "    .colab-df-convert {\n",
              "      background-color: #E8F0FE;\n",
              "      border: none;\n",
              "      border-radius: 50%;\n",
              "      cursor: pointer;\n",
              "      display: none;\n",
              "      fill: #1967D2;\n",
              "      height: 32px;\n",
              "      padding: 0 0 0 0;\n",
              "      width: 32px;\n",
              "    }\n",
              "\n",
              "    .colab-df-convert:hover {\n",
              "      background-color: #E2EBFA;\n",
              "      box-shadow: 0px 1px 2px rgba(60, 64, 67, 0.3), 0px 1px 3px 1px rgba(60, 64, 67, 0.15);\n",
              "      fill: #174EA6;\n",
              "    }\n",
              "\n",
              "    [theme=dark] .colab-df-convert {\n",
              "      background-color: #3B4455;\n",
              "      fill: #D2E3FC;\n",
              "    }\n",
              "\n",
              "    [theme=dark] .colab-df-convert:hover {\n",
              "      background-color: #434B5C;\n",
              "      box-shadow: 0px 1px 3px 1px rgba(0, 0, 0, 0.15);\n",
              "      filter: drop-shadow(0px 1px 2px rgba(0, 0, 0, 0.3));\n",
              "      fill: #FFFFFF;\n",
              "    }\n",
              "  </style>\n",
              "\n",
              "      <script>\n",
              "        const buttonEl =\n",
              "          document.querySelector('#df-28f68f81-c276-41d3-ad74-ed05f3920b6c button.colab-df-convert');\n",
              "        buttonEl.style.display =\n",
              "          google.colab.kernel.accessAllowed ? 'block' : 'none';\n",
              "\n",
              "        async function convertToInteractive(key) {\n",
              "          const element = document.querySelector('#df-28f68f81-c276-41d3-ad74-ed05f3920b6c');\n",
              "          const dataTable =\n",
              "            await google.colab.kernel.invokeFunction('convertToInteractive',\n",
              "                                                     [key], {});\n",
              "          if (!dataTable) return;\n",
              "\n",
              "          const docLinkHtml = 'Like what you see? Visit the ' +\n",
              "            '<a target=\"_blank\" href=https://colab.research.google.com/notebooks/data_table.ipynb>data table notebook</a>'\n",
              "            + ' to learn more about interactive tables.';\n",
              "          element.innerHTML = '';\n",
              "          dataTable['output_type'] = 'display_data';\n",
              "          await google.colab.output.renderOutput(dataTable, element);\n",
              "          const docLink = document.createElement('div');\n",
              "          docLink.innerHTML = docLinkHtml;\n",
              "          element.appendChild(docLink);\n",
              "        }\n",
              "      </script>\n",
              "    </div>\n",
              "  </div>\n",
              "  "
            ]
          },
          "metadata": {},
          "execution_count": 31
        }
      ]
    },
    {
      "cell_type": "code",
      "source": [
        "scaler = MinMaxScaler()"
      ],
      "metadata": {
        "id": "-K3eEJZkctTP"
      },
      "execution_count": null,
      "outputs": []
    },
    {
      "cell_type": "code",
      "source": [
        "final_df = pd.DataFrame(scaler.fit_transform(normalized_df), columns=normalized_df.columns, index=normalized_df.index) "
      ],
      "metadata": {
        "id": "POZwmyUscXOJ"
      },
      "execution_count": null,
      "outputs": []
    },
    {
      "cell_type": "code",
      "source": [
        "x = normalized.plot(kind='density', figsize=(20,10)) "
      ],
      "metadata": {
        "id": "ZVV1KnRNc3BP",
        "colab": {
          "base_uri": "https://localhost:8080/",
          "height": 844
        },
        "outputId": "04efc188-c82f-4cd5-a7bc-9f9c46d24dc2"
      },
      "execution_count": null,
      "outputs": [
        {
          "output_type": "stream",
          "name": "stderr",
          "text": [
            "/usr/local/lib/python3.7/dist-packages/pandas/plotting/_matplotlib/hist.py:147: RuntimeWarning: All-NaN slice encountered\n",
            "  sample_range = np.nanmax(y) - np.nanmin(y)\n",
            "/usr/local/lib/python3.7/dist-packages/pandas/plotting/_matplotlib/hist.py:149: RuntimeWarning: All-NaN slice encountered\n",
            "  np.nanmin(y) - 0.5 * sample_range,\n",
            "/usr/local/lib/python3.7/dist-packages/pandas/plotting/_matplotlib/hist.py:150: RuntimeWarning: All-NaN slice encountered\n",
            "  np.nanmax(y) + 0.5 * sample_range,\n"
          ]
        },
        {
          "output_type": "error",
          "ename": "ValueError",
          "evalue": "ignored",
          "traceback": [
            "\u001b[0;31m---------------------------------------------------------------------------\u001b[0m",
            "\u001b[0;31mValueError\u001b[0m                                Traceback (most recent call last)",
            "\u001b[0;32m<ipython-input-35-2c96ff192173>\u001b[0m in \u001b[0;36m<module>\u001b[0;34m\u001b[0m\n\u001b[0;32m----> 1\u001b[0;31m \u001b[0mx\u001b[0m \u001b[0;34m=\u001b[0m \u001b[0mnormalized\u001b[0m\u001b[0;34m.\u001b[0m\u001b[0mplot\u001b[0m\u001b[0;34m(\u001b[0m\u001b[0mkind\u001b[0m\u001b[0;34m=\u001b[0m\u001b[0;34m'density'\u001b[0m\u001b[0;34m,\u001b[0m \u001b[0mfigsize\u001b[0m\u001b[0;34m=\u001b[0m\u001b[0;34m(\u001b[0m\u001b[0;36m20\u001b[0m\u001b[0;34m,\u001b[0m\u001b[0;36m10\u001b[0m\u001b[0;34m)\u001b[0m\u001b[0;34m)\u001b[0m\u001b[0;34m\u001b[0m\u001b[0;34m\u001b[0m\u001b[0m\n\u001b[0m",
            "\u001b[0;32m/usr/local/lib/python3.7/dist-packages/pandas/plotting/_core.py\u001b[0m in \u001b[0;36m__call__\u001b[0;34m(self, *args, **kwargs)\u001b[0m\n\u001b[1;32m    970\u001b[0m                     \u001b[0mdata\u001b[0m\u001b[0;34m.\u001b[0m\u001b[0mcolumns\u001b[0m \u001b[0;34m=\u001b[0m \u001b[0mlabel_name\u001b[0m\u001b[0;34m\u001b[0m\u001b[0;34m\u001b[0m\u001b[0m\n\u001b[1;32m    971\u001b[0m \u001b[0;34m\u001b[0m\u001b[0m\n\u001b[0;32m--> 972\u001b[0;31m         \u001b[0;32mreturn\u001b[0m \u001b[0mplot_backend\u001b[0m\u001b[0;34m.\u001b[0m\u001b[0mplot\u001b[0m\u001b[0;34m(\u001b[0m\u001b[0mdata\u001b[0m\u001b[0;34m,\u001b[0m \u001b[0mkind\u001b[0m\u001b[0;34m=\u001b[0m\u001b[0mkind\u001b[0m\u001b[0;34m,\u001b[0m \u001b[0;34m**\u001b[0m\u001b[0mkwargs\u001b[0m\u001b[0;34m)\u001b[0m\u001b[0;34m\u001b[0m\u001b[0;34m\u001b[0m\u001b[0m\n\u001b[0m\u001b[1;32m    973\u001b[0m \u001b[0;34m\u001b[0m\u001b[0m\n\u001b[1;32m    974\u001b[0m     \u001b[0m__call__\u001b[0m\u001b[0;34m.\u001b[0m\u001b[0m__doc__\u001b[0m \u001b[0;34m=\u001b[0m \u001b[0m__doc__\u001b[0m\u001b[0;34m\u001b[0m\u001b[0;34m\u001b[0m\u001b[0m\n",
            "\u001b[0;32m/usr/local/lib/python3.7/dist-packages/pandas/plotting/_matplotlib/__init__.py\u001b[0m in \u001b[0;36mplot\u001b[0;34m(data, kind, **kwargs)\u001b[0m\n\u001b[1;32m     69\u001b[0m             \u001b[0mkwargs\u001b[0m\u001b[0;34m[\u001b[0m\u001b[0;34m\"ax\"\u001b[0m\u001b[0;34m]\u001b[0m \u001b[0;34m=\u001b[0m \u001b[0mgetattr\u001b[0m\u001b[0;34m(\u001b[0m\u001b[0max\u001b[0m\u001b[0;34m,\u001b[0m \u001b[0;34m\"left_ax\"\u001b[0m\u001b[0;34m,\u001b[0m \u001b[0max\u001b[0m\u001b[0;34m)\u001b[0m\u001b[0;34m\u001b[0m\u001b[0;34m\u001b[0m\u001b[0m\n\u001b[1;32m     70\u001b[0m     \u001b[0mplot_obj\u001b[0m \u001b[0;34m=\u001b[0m \u001b[0mPLOT_CLASSES\u001b[0m\u001b[0;34m[\u001b[0m\u001b[0mkind\u001b[0m\u001b[0;34m]\u001b[0m\u001b[0;34m(\u001b[0m\u001b[0mdata\u001b[0m\u001b[0;34m,\u001b[0m \u001b[0;34m**\u001b[0m\u001b[0mkwargs\u001b[0m\u001b[0;34m)\u001b[0m\u001b[0;34m\u001b[0m\u001b[0;34m\u001b[0m\u001b[0m\n\u001b[0;32m---> 71\u001b[0;31m     \u001b[0mplot_obj\u001b[0m\u001b[0;34m.\u001b[0m\u001b[0mgenerate\u001b[0m\u001b[0;34m(\u001b[0m\u001b[0;34m)\u001b[0m\u001b[0;34m\u001b[0m\u001b[0;34m\u001b[0m\u001b[0m\n\u001b[0m\u001b[1;32m     72\u001b[0m     \u001b[0mplot_obj\u001b[0m\u001b[0;34m.\u001b[0m\u001b[0mdraw\u001b[0m\u001b[0;34m(\u001b[0m\u001b[0;34m)\u001b[0m\u001b[0;34m\u001b[0m\u001b[0;34m\u001b[0m\u001b[0m\n\u001b[1;32m     73\u001b[0m     \u001b[0;32mreturn\u001b[0m \u001b[0mplot_obj\u001b[0m\u001b[0;34m.\u001b[0m\u001b[0mresult\u001b[0m\u001b[0;34m\u001b[0m\u001b[0;34m\u001b[0m\u001b[0m\n",
            "\u001b[0;32m/usr/local/lib/python3.7/dist-packages/pandas/plotting/_matplotlib/core.py\u001b[0m in \u001b[0;36mgenerate\u001b[0;34m(self)\u001b[0m\n\u001b[1;32m    286\u001b[0m         \u001b[0mself\u001b[0m\u001b[0;34m.\u001b[0m\u001b[0m_compute_plot_data\u001b[0m\u001b[0;34m(\u001b[0m\u001b[0;34m)\u001b[0m\u001b[0;34m\u001b[0m\u001b[0;34m\u001b[0m\u001b[0m\n\u001b[1;32m    287\u001b[0m         \u001b[0mself\u001b[0m\u001b[0;34m.\u001b[0m\u001b[0m_setup_subplots\u001b[0m\u001b[0;34m(\u001b[0m\u001b[0;34m)\u001b[0m\u001b[0;34m\u001b[0m\u001b[0;34m\u001b[0m\u001b[0m\n\u001b[0;32m--> 288\u001b[0;31m         \u001b[0mself\u001b[0m\u001b[0;34m.\u001b[0m\u001b[0m_make_plot\u001b[0m\u001b[0;34m(\u001b[0m\u001b[0;34m)\u001b[0m\u001b[0;34m\u001b[0m\u001b[0;34m\u001b[0m\u001b[0m\n\u001b[0m\u001b[1;32m    289\u001b[0m         \u001b[0mself\u001b[0m\u001b[0;34m.\u001b[0m\u001b[0m_add_table\u001b[0m\u001b[0;34m(\u001b[0m\u001b[0;34m)\u001b[0m\u001b[0;34m\u001b[0m\u001b[0;34m\u001b[0m\u001b[0m\n\u001b[1;32m    290\u001b[0m         \u001b[0mself\u001b[0m\u001b[0;34m.\u001b[0m\u001b[0m_make_legend\u001b[0m\u001b[0;34m(\u001b[0m\u001b[0;34m)\u001b[0m\u001b[0;34m\u001b[0m\u001b[0;34m\u001b[0m\u001b[0m\n",
            "\u001b[0;32m/usr/local/lib/python3.7/dist-packages/pandas/plotting/_matplotlib/hist.py\u001b[0m in \u001b[0;36m_make_plot\u001b[0;34m(self)\u001b[0m\n\u001b[1;32m    106\u001b[0m                 \u001b[0mkwds\u001b[0m\u001b[0;34m[\u001b[0m\u001b[0;34m\"weights\"\u001b[0m\u001b[0;34m]\u001b[0m \u001b[0;34m=\u001b[0m \u001b[0mweights\u001b[0m\u001b[0;34m[\u001b[0m\u001b[0;34m:\u001b[0m\u001b[0;34m,\u001b[0m \u001b[0mi\u001b[0m\u001b[0;34m]\u001b[0m\u001b[0;34m\u001b[0m\u001b[0;34m\u001b[0m\u001b[0m\n\u001b[1;32m    107\u001b[0m \u001b[0;34m\u001b[0m\u001b[0m\n\u001b[0;32m--> 108\u001b[0;31m             \u001b[0martists\u001b[0m \u001b[0;34m=\u001b[0m \u001b[0mself\u001b[0m\u001b[0;34m.\u001b[0m\u001b[0m_plot\u001b[0m\u001b[0;34m(\u001b[0m\u001b[0max\u001b[0m\u001b[0;34m,\u001b[0m \u001b[0my\u001b[0m\u001b[0;34m,\u001b[0m \u001b[0mcolumn_num\u001b[0m\u001b[0;34m=\u001b[0m\u001b[0mi\u001b[0m\u001b[0;34m,\u001b[0m \u001b[0mstacking_id\u001b[0m\u001b[0;34m=\u001b[0m\u001b[0mstacking_id\u001b[0m\u001b[0;34m,\u001b[0m \u001b[0;34m**\u001b[0m\u001b[0mkwds\u001b[0m\u001b[0;34m)\u001b[0m\u001b[0;34m\u001b[0m\u001b[0;34m\u001b[0m\u001b[0m\n\u001b[0m\u001b[1;32m    109\u001b[0m             \u001b[0mself\u001b[0m\u001b[0;34m.\u001b[0m\u001b[0m_append_legend_handles_labels\u001b[0m\u001b[0;34m(\u001b[0m\u001b[0martists\u001b[0m\u001b[0;34m[\u001b[0m\u001b[0;36m0\u001b[0m\u001b[0;34m]\u001b[0m\u001b[0;34m,\u001b[0m \u001b[0mlabel\u001b[0m\u001b[0;34m)\u001b[0m\u001b[0;34m\u001b[0m\u001b[0;34m\u001b[0m\u001b[0m\n\u001b[1;32m    110\u001b[0m \u001b[0;34m\u001b[0m\u001b[0m\n",
            "\u001b[0;32m/usr/local/lib/python3.7/dist-packages/pandas/plotting/_matplotlib/hist.py\u001b[0m in \u001b[0;36m_plot\u001b[0;34m(cls, ax, y, style, bw_method, ind, column_num, stacking_id, **kwds)\u001b[0m\n\u001b[1;32m    177\u001b[0m \u001b[0;34m\u001b[0m\u001b[0m\n\u001b[1;32m    178\u001b[0m         \u001b[0my\u001b[0m \u001b[0;34m=\u001b[0m \u001b[0mremove_na_arraylike\u001b[0m\u001b[0;34m(\u001b[0m\u001b[0my\u001b[0m\u001b[0;34m)\u001b[0m\u001b[0;34m\u001b[0m\u001b[0;34m\u001b[0m\u001b[0m\n\u001b[0;32m--> 179\u001b[0;31m         \u001b[0mgkde\u001b[0m \u001b[0;34m=\u001b[0m \u001b[0mgaussian_kde\u001b[0m\u001b[0;34m(\u001b[0m\u001b[0my\u001b[0m\u001b[0;34m,\u001b[0m \u001b[0mbw_method\u001b[0m\u001b[0;34m=\u001b[0m\u001b[0mbw_method\u001b[0m\u001b[0;34m)\u001b[0m\u001b[0;34m\u001b[0m\u001b[0;34m\u001b[0m\u001b[0m\n\u001b[0m\u001b[1;32m    180\u001b[0m \u001b[0;34m\u001b[0m\u001b[0m\n\u001b[1;32m    181\u001b[0m         \u001b[0my\u001b[0m \u001b[0;34m=\u001b[0m \u001b[0mgkde\u001b[0m\u001b[0;34m.\u001b[0m\u001b[0mevaluate\u001b[0m\u001b[0;34m(\u001b[0m\u001b[0mind\u001b[0m\u001b[0;34m)\u001b[0m\u001b[0;34m\u001b[0m\u001b[0;34m\u001b[0m\u001b[0m\n",
            "\u001b[0;32m/usr/local/lib/python3.7/dist-packages/scipy/stats/kde.py\u001b[0m in \u001b[0;36m__init__\u001b[0;34m(self, dataset, bw_method, weights)\u001b[0m\n\u001b[1;32m    191\u001b[0m         \u001b[0mself\u001b[0m\u001b[0;34m.\u001b[0m\u001b[0mdataset\u001b[0m \u001b[0;34m=\u001b[0m \u001b[0matleast_2d\u001b[0m\u001b[0;34m(\u001b[0m\u001b[0masarray\u001b[0m\u001b[0;34m(\u001b[0m\u001b[0mdataset\u001b[0m\u001b[0;34m)\u001b[0m\u001b[0;34m)\u001b[0m\u001b[0;34m\u001b[0m\u001b[0;34m\u001b[0m\u001b[0m\n\u001b[1;32m    192\u001b[0m         \u001b[0;32mif\u001b[0m \u001b[0;32mnot\u001b[0m \u001b[0mself\u001b[0m\u001b[0;34m.\u001b[0m\u001b[0mdataset\u001b[0m\u001b[0;34m.\u001b[0m\u001b[0msize\u001b[0m \u001b[0;34m>\u001b[0m \u001b[0;36m1\u001b[0m\u001b[0;34m:\u001b[0m\u001b[0;34m\u001b[0m\u001b[0;34m\u001b[0m\u001b[0m\n\u001b[0;32m--> 193\u001b[0;31m             \u001b[0;32mraise\u001b[0m \u001b[0mValueError\u001b[0m\u001b[0;34m(\u001b[0m\u001b[0;34m\"`dataset` input should have multiple elements.\"\u001b[0m\u001b[0;34m)\u001b[0m\u001b[0;34m\u001b[0m\u001b[0;34m\u001b[0m\u001b[0m\n\u001b[0m\u001b[1;32m    194\u001b[0m \u001b[0;34m\u001b[0m\u001b[0m\n\u001b[1;32m    195\u001b[0m         \u001b[0mself\u001b[0m\u001b[0;34m.\u001b[0m\u001b[0md\u001b[0m\u001b[0;34m,\u001b[0m \u001b[0mself\u001b[0m\u001b[0;34m.\u001b[0m\u001b[0mn\u001b[0m \u001b[0;34m=\u001b[0m \u001b[0mself\u001b[0m\u001b[0;34m.\u001b[0m\u001b[0mdataset\u001b[0m\u001b[0;34m.\u001b[0m\u001b[0mshape\u001b[0m\u001b[0;34m\u001b[0m\u001b[0;34m\u001b[0m\u001b[0m\n",
            "\u001b[0;31mValueError\u001b[0m: `dataset` input should have multiple elements."
          ]
        },
        {
          "output_type": "display_data",
          "data": {
            "text/plain": [
              "<Figure size 1440x720 with 1 Axes>"
            ],
            "image/png": "[encoded data removed]"
          },
          "metadata": {
            "needs_background": "light"
          }
        }
      ]
    },
    {
      "cell_type": "code",
      "source": [
        "x = df5['people_fully_vaccinated']\n",
        "y = df5['total_vaccinations']"
      ],
      "metadata": {
        "id": "vsmIw9yod-XR"
      },
      "execution_count": null,
      "outputs": []
    },
    {
      "cell_type": "code",
      "source": [
        "x_matrix = x.values.reshape(-1,1)\n",
        "\n",
        "x_matrix.shape"
      ],
      "metadata": {
        "id": "JAl6EIsdePUA",
        "colab": {
          "base_uri": "https://localhost:8080/"
        },
        "outputId": "92ef5b53-8bdb-46a1-e807-34fef17be9b4"
      },
      "execution_count": null,
      "outputs": [
        {
          "output_type": "execute_result",
          "data": {
            "text/plain": [
              "(121085, 1)"
            ]
          },
          "metadata": {},
          "execution_count": 37
        }
      ]
    },
    {
      "cell_type": "code",
      "source": [
        "reg = LinearRegression()\n",
        "reg.fit(x_matrix, y)"
      ],
      "metadata": {
        "id": "bQZa9hfzeUI4",
        "colab": {
          "base_uri": "https://localhost:8080/"
        },
        "outputId": "9dac0c3a-a5a8-4c26-aaee-12e38f76ab55"
      },
      "execution_count": null,
      "outputs": [
        {
          "output_type": "execute_result",
          "data": {
            "text/plain": [
              "LinearRegression()"
            ]
          },
          "metadata": {},
          "execution_count": 38
        }
      ]
    },
    {
      "cell_type": "code",
      "source": [
        "data = pd.DataFrame(data=[12173026.0\t,12175457.0\t], columns=['total_vaccinations'])\n",
        "data"
      ],
      "metadata": {
        "id": "KL1UFxnTedE6",
        "colab": {
          "base_uri": "https://localhost:8080/",
          "height": 112
        },
        "outputId": "c4b5d2e2-e838-40db-8c9c-8ef8d363b299"
      },
      "execution_count": null,
      "outputs": [
        {
          "output_type": "execute_result",
          "data": {
            "text/plain": [
              "   total_vaccinations\n",
              "0          12173026.0\n",
              "1          12175457.0"
            ],
            "text/html": [
              "\n",
              "  <div id=\"df-8ccd87aa-6031-4c13-ac78-d6aa649d79ba\">\n",
              "    <div class=\"colab-df-container\">\n",
              "      <div>\n",
              "<style scoped>\n",
              "    .dataframe tbody tr th:only-of-type {\n",
              "        vertical-align: middle;\n",
              "    }\n",
              "\n",
              "    .dataframe tbody tr th {\n",
              "        vertical-align: top;\n",
              "    }\n",
              "\n",
              "    .dataframe thead th {\n",
              "        text-align: right;\n",
              "    }\n",
              "</style>\n",
              "<table border=\"1\" class=\"dataframe\">\n",
              "  <thead>\n",
              "    <tr style=\"text-align: right;\">\n",
              "      <th></th>\n",
              "      <th>total_vaccinations</th>\n",
              "    </tr>\n",
              "  </thead>\n",
              "  <tbody>\n",
              "    <tr>\n",
              "      <th>0</th>\n",
              "      <td>12173026.0</td>\n",
              "    </tr>\n",
              "    <tr>\n",
              "      <th>1</th>\n",
              "      <td>12175457.0</td>\n",
              "    </tr>\n",
              "  </tbody>\n",
              "</table>\n",
              "</div>\n",
              "      <button class=\"colab-df-convert\" onclick=\"convertToInteractive('df-8ccd87aa-6031-4c13-ac78-d6aa649d79ba')\"\n",
              "              title=\"Convert this dataframe to an interactive table.\"\n",
              "              style=\"display:none;\">\n",
              "        \n",
              "  <svg xmlns=\"http://www.w3.org/2000/svg\" height=\"24px\"viewBox=\"0 0 24 24\"\n",
              "       width=\"24px\">\n",
              "    <path d=\"M0 0h24v24H0V0z\" fill=\"none\"/>\n",
              "    <path d=\"M18.56 5.44l.94 2.06.94-2.06 2.06-.94-2.06-.94-.94-2.06-.94 2.06-2.06.94zm-11 1L8.5 8.5l.94-2.06 2.06-.94-2.06-.94L8.5 2.5l-.94 2.06-2.06.94zm10 10l.94 2.06.94-2.06 2.06-.94-2.06-.94-.94-2.06-.94 2.06-2.06.94z\"/><path d=\"M17.41 7.96l-1.37-1.37c-.4-.4-.92-.59-1.43-.59-.52 0-1.04.2-1.43.59L10.3 9.45l-7.72 7.72c-.78.78-.78 2.05 0 2.83L4 21.41c.39.39.9.59 1.41.59.51 0 1.02-.2 1.41-.59l7.78-7.78 2.81-2.81c.8-.78.8-2.07 0-2.86zM5.41 20L4 18.59l7.72-7.72 1.47 1.35L5.41 20z\"/>\n",
              "  </svg>\n",
              "      </button>\n",
              "      \n",
              "  <style>\n",
              "    .colab-df-container {\n",
              "      display:flex;\n",
              "      flex-wrap:wrap;\n",
              "      gap: 12px;\n",
              "    }\n",
              "\n",
              "    .colab-df-convert {\n",
              "      background-color: #E8F0FE;\n",
              "      border: none;\n",
              "      border-radius: 50%;\n",
              "      cursor: pointer;\n",
              "      display: none;\n",
              "      fill: #1967D2;\n",
              "      height: 32px;\n",
              "      padding: 0 0 0 0;\n",
              "      width: 32px;\n",
              "    }\n",
              "\n",
              "    .colab-df-convert:hover {\n",
              "      background-color: #E2EBFA;\n",
              "      box-shadow: 0px 1px 2px rgba(60, 64, 67, 0.3), 0px 1px 3px 1px rgba(60, 64, 67, 0.15);\n",
              "      fill: #174EA6;\n",
              "    }\n",
              "\n",
              "    [theme=dark] .colab-df-convert {\n",
              "      background-color: #3B4455;\n",
              "      fill: #D2E3FC;\n",
              "    }\n",
              "\n",
              "    [theme=dark] .colab-df-convert:hover {\n",
              "      background-color: #434B5C;\n",
              "      box-shadow: 0px 1px 3px 1px rgba(0, 0, 0, 0.15);\n",
              "      filter: drop-shadow(0px 1px 2px rgba(0, 0, 0, 0.3));\n",
              "      fill: #FFFFFF;\n",
              "    }\n",
              "  </style>\n",
              "\n",
              "      <script>\n",
              "        const buttonEl =\n",
              "          document.querySelector('#df-8ccd87aa-6031-4c13-ac78-d6aa649d79ba button.colab-df-convert');\n",
              "        buttonEl.style.display =\n",
              "          google.colab.kernel.accessAllowed ? 'block' : 'none';\n",
              "\n",
              "        async function convertToInteractive(key) {\n",
              "          const element = document.querySelector('#df-8ccd87aa-6031-4c13-ac78-d6aa649d79ba');\n",
              "          const dataTable =\n",
              "            await google.colab.kernel.invokeFunction('convertToInteractive',\n",
              "                                                     [key], {});\n",
              "          if (!dataTable) return;\n",
              "\n",
              "          const docLinkHtml = 'Like what you see? Visit the ' +\n",
              "            '<a target=\"_blank\" href=https://colab.research.google.com/notebooks/data_table.ipynb>data table notebook</a>'\n",
              "            + ' to learn more about interactive tables.';\n",
              "          element.innerHTML = '';\n",
              "          dataTable['output_type'] = 'display_data';\n",
              "          await google.colab.output.renderOutput(dataTable, element);\n",
              "          const docLink = document.createElement('div');\n",
              "          docLink.innerHTML = docLinkHtml;\n",
              "          element.appendChild(docLink);\n",
              "        }\n",
              "      </script>\n",
              "    </div>\n",
              "  </div>\n",
              "  "
            ]
          },
          "metadata": {},
          "execution_count": 66
        }
      ]
    },
    {
      "cell_type": "code",
      "source": [
        "reg.predict(data)"
      ],
      "metadata": {
        "id": "0-0cpjrBfKlD"
      },
      "execution_count": null,
      "outputs": []
    },
    {
      "cell_type": "code",
      "source": [
        "data['predicted_people_fully_vaccinated'] = reg.predict(data)\n",
        "data"
      ],
      "metadata": {
        "id": "o-HjRZ5ffhyp"
      },
      "execution_count": null,
      "outputs": []
    },
    {
      "cell_type": "code",
      "source": [
        "plt.scatter(x,y)\n",
        "yhat = reg.coef_ * x_matrix + reg.intercept_\n",
        "fig = plt.plot(x, yhat, lw=4, c='red')\n",
        "plt.xlabel('Fully Vaccinated')\n",
        "plt.ylabel('Total Vaccinated')\n",
        "plt.show()"
      ],
      "metadata": {
        "id": "AW3W0mc5htVv",
        "colab": {
          "base_uri": "https://localhost:8080/",
          "height": 650
        },
        "outputId": "f8742a83-37c2-4f5a-b88b-59867cf9680a"
      },
      "execution_count": null,
      "outputs": [
        {
          "output_type": "error",
          "ename": "ValueError",
          "evalue": "ignored",
          "traceback": [
            "\u001b[0;31m---------------------------------------------------------------------------\u001b[0m",
            "\u001b[0;31mValueError\u001b[0m                                Traceback (most recent call last)",
            "\u001b[0;32m<ipython-input-69-6979f6765d72>\u001b[0m in \u001b[0;36m<module>\u001b[0;34m\u001b[0m\n\u001b[0;32m----> 1\u001b[0;31m \u001b[0mplt\u001b[0m\u001b[0;34m.\u001b[0m\u001b[0mscatter\u001b[0m\u001b[0;34m(\u001b[0m\u001b[0mx\u001b[0m\u001b[0;34m,\u001b[0m\u001b[0my\u001b[0m\u001b[0;34m)\u001b[0m\u001b[0;34m\u001b[0m\u001b[0;34m\u001b[0m\u001b[0m\n\u001b[0m\u001b[1;32m      2\u001b[0m \u001b[0myhat\u001b[0m \u001b[0;34m=\u001b[0m \u001b[0mreg\u001b[0m\u001b[0;34m.\u001b[0m\u001b[0mcoef_\u001b[0m \u001b[0;34m*\u001b[0m \u001b[0mx_matrix\u001b[0m \u001b[0;34m+\u001b[0m \u001b[0mreg\u001b[0m\u001b[0;34m.\u001b[0m\u001b[0mintercept_\u001b[0m\u001b[0;34m\u001b[0m\u001b[0;34m\u001b[0m\u001b[0m\n\u001b[1;32m      3\u001b[0m \u001b[0mfig\u001b[0m \u001b[0;34m=\u001b[0m \u001b[0mplt\u001b[0m\u001b[0;34m.\u001b[0m\u001b[0mplot\u001b[0m\u001b[0;34m(\u001b[0m\u001b[0mx\u001b[0m\u001b[0;34m,\u001b[0m \u001b[0myhat\u001b[0m\u001b[0;34m,\u001b[0m \u001b[0mlw\u001b[0m\u001b[0;34m=\u001b[0m\u001b[0;36m4\u001b[0m\u001b[0;34m,\u001b[0m \u001b[0mc\u001b[0m\u001b[0;34m=\u001b[0m\u001b[0;34m'red'\u001b[0m\u001b[0;34m)\u001b[0m\u001b[0;34m\u001b[0m\u001b[0;34m\u001b[0m\u001b[0m\n\u001b[1;32m      4\u001b[0m \u001b[0mplt\u001b[0m\u001b[0;34m.\u001b[0m\u001b[0mxlabel\u001b[0m\u001b[0;34m(\u001b[0m\u001b[0;34m'Fully Vaccinated'\u001b[0m\u001b[0;34m)\u001b[0m\u001b[0;34m\u001b[0m\u001b[0;34m\u001b[0m\u001b[0m\n\u001b[1;32m      5\u001b[0m \u001b[0mplt\u001b[0m\u001b[0;34m.\u001b[0m\u001b[0mylabel\u001b[0m\u001b[0;34m(\u001b[0m\u001b[0;34m'Total Vaccinated'\u001b[0m\u001b[0;34m)\u001b[0m\u001b[0;34m\u001b[0m\u001b[0;34m\u001b[0m\u001b[0m\n",
            "\u001b[0;32m/usr/local/lib/python3.7/dist-packages/matplotlib/pyplot.py\u001b[0m in \u001b[0;36mscatter\u001b[0;34m(x, y, s, c, marker, cmap, norm, vmin, vmax, alpha, linewidths, verts, edgecolors, plotnonfinite, data, **kwargs)\u001b[0m\n\u001b[1;32m   2814\u001b[0m         \u001b[0mverts\u001b[0m\u001b[0;34m=\u001b[0m\u001b[0mverts\u001b[0m\u001b[0;34m,\u001b[0m \u001b[0medgecolors\u001b[0m\u001b[0;34m=\u001b[0m\u001b[0medgecolors\u001b[0m\u001b[0;34m,\u001b[0m\u001b[0;34m\u001b[0m\u001b[0;34m\u001b[0m\u001b[0m\n\u001b[1;32m   2815\u001b[0m         plotnonfinite=plotnonfinite, **({\"data\": data} if data is not\n\u001b[0;32m-> 2816\u001b[0;31m         None else {}), **kwargs)\n\u001b[0m\u001b[1;32m   2817\u001b[0m     \u001b[0msci\u001b[0m\u001b[0;34m(\u001b[0m\u001b[0m__ret\u001b[0m\u001b[0;34m)\u001b[0m\u001b[0;34m\u001b[0m\u001b[0;34m\u001b[0m\u001b[0m\n\u001b[1;32m   2818\u001b[0m     \u001b[0;32mreturn\u001b[0m \u001b[0m__ret\u001b[0m\u001b[0;34m\u001b[0m\u001b[0;34m\u001b[0m\u001b[0m\n",
            "\u001b[0;32m/usr/local/lib/python3.7/dist-packages/matplotlib/__init__.py\u001b[0m in \u001b[0;36minner\u001b[0;34m(ax, data, *args, **kwargs)\u001b[0m\n\u001b[1;32m   1563\u001b[0m     \u001b[0;32mdef\u001b[0m \u001b[0minner\u001b[0m\u001b[0;34m(\u001b[0m\u001b[0max\u001b[0m\u001b[0;34m,\u001b[0m \u001b[0;34m*\u001b[0m\u001b[0margs\u001b[0m\u001b[0;34m,\u001b[0m \u001b[0mdata\u001b[0m\u001b[0;34m=\u001b[0m\u001b[0;32mNone\u001b[0m\u001b[0;34m,\u001b[0m \u001b[0;34m**\u001b[0m\u001b[0mkwargs\u001b[0m\u001b[0;34m)\u001b[0m\u001b[0;34m:\u001b[0m\u001b[0;34m\u001b[0m\u001b[0;34m\u001b[0m\u001b[0m\n\u001b[1;32m   1564\u001b[0m         \u001b[0;32mif\u001b[0m \u001b[0mdata\u001b[0m \u001b[0;32mis\u001b[0m \u001b[0;32mNone\u001b[0m\u001b[0;34m:\u001b[0m\u001b[0;34m\u001b[0m\u001b[0;34m\u001b[0m\u001b[0m\n\u001b[0;32m-> 1565\u001b[0;31m             \u001b[0;32mreturn\u001b[0m \u001b[0mfunc\u001b[0m\u001b[0;34m(\u001b[0m\u001b[0max\u001b[0m\u001b[0;34m,\u001b[0m \u001b[0;34m*\u001b[0m\u001b[0mmap\u001b[0m\u001b[0;34m(\u001b[0m\u001b[0msanitize_sequence\u001b[0m\u001b[0;34m,\u001b[0m \u001b[0margs\u001b[0m\u001b[0;34m)\u001b[0m\u001b[0;34m,\u001b[0m \u001b[0;34m**\u001b[0m\u001b[0mkwargs\u001b[0m\u001b[0;34m)\u001b[0m\u001b[0;34m\u001b[0m\u001b[0;34m\u001b[0m\u001b[0m\n\u001b[0m\u001b[1;32m   1566\u001b[0m \u001b[0;34m\u001b[0m\u001b[0m\n\u001b[1;32m   1567\u001b[0m         \u001b[0mbound\u001b[0m \u001b[0;34m=\u001b[0m \u001b[0mnew_sig\u001b[0m\u001b[0;34m.\u001b[0m\u001b[0mbind\u001b[0m\u001b[0;34m(\u001b[0m\u001b[0max\u001b[0m\u001b[0;34m,\u001b[0m \u001b[0;34m*\u001b[0m\u001b[0margs\u001b[0m\u001b[0;34m,\u001b[0m \u001b[0;34m**\u001b[0m\u001b[0mkwargs\u001b[0m\u001b[0;34m)\u001b[0m\u001b[0;34m\u001b[0m\u001b[0;34m\u001b[0m\u001b[0m\n",
            "\u001b[0;32m/usr/local/lib/python3.7/dist-packages/matplotlib/cbook/deprecation.py\u001b[0m in \u001b[0;36mwrapper\u001b[0;34m(*args, **kwargs)\u001b[0m\n\u001b[1;32m    356\u001b[0m                 \u001b[0;34mf\"%(removal)s.  If any parameter follows {name!r}, they \"\u001b[0m\u001b[0;34m\u001b[0m\u001b[0;34m\u001b[0m\u001b[0m\n\u001b[1;32m    357\u001b[0m                 f\"should be pass as keyword, not positionally.\")\n\u001b[0;32m--> 358\u001b[0;31m         \u001b[0;32mreturn\u001b[0m \u001b[0mfunc\u001b[0m\u001b[0;34m(\u001b[0m\u001b[0;34m*\u001b[0m\u001b[0margs\u001b[0m\u001b[0;34m,\u001b[0m \u001b[0;34m**\u001b[0m\u001b[0mkwargs\u001b[0m\u001b[0;34m)\u001b[0m\u001b[0;34m\u001b[0m\u001b[0;34m\u001b[0m\u001b[0m\n\u001b[0m\u001b[1;32m    359\u001b[0m \u001b[0;34m\u001b[0m\u001b[0m\n\u001b[1;32m    360\u001b[0m     \u001b[0;32mreturn\u001b[0m \u001b[0mwrapper\u001b[0m\u001b[0;34m\u001b[0m\u001b[0;34m\u001b[0m\u001b[0m\n",
            "\u001b[0;32m/usr/local/lib/python3.7/dist-packages/matplotlib/axes/_axes.py\u001b[0m in \u001b[0;36mscatter\u001b[0;34m(self, x, y, s, c, marker, cmap, norm, vmin, vmax, alpha, linewidths, verts, edgecolors, plotnonfinite, **kwargs)\u001b[0m\n\u001b[1;32m   4389\u001b[0m         \u001b[0my\u001b[0m \u001b[0;34m=\u001b[0m \u001b[0mnp\u001b[0m\u001b[0;34m.\u001b[0m\u001b[0mma\u001b[0m\u001b[0;34m.\u001b[0m\u001b[0mravel\u001b[0m\u001b[0;34m(\u001b[0m\u001b[0my\u001b[0m\u001b[0;34m)\u001b[0m\u001b[0;34m\u001b[0m\u001b[0;34m\u001b[0m\u001b[0m\n\u001b[1;32m   4390\u001b[0m         \u001b[0;32mif\u001b[0m \u001b[0mx\u001b[0m\u001b[0;34m.\u001b[0m\u001b[0msize\u001b[0m \u001b[0;34m!=\u001b[0m \u001b[0my\u001b[0m\u001b[0;34m.\u001b[0m\u001b[0msize\u001b[0m\u001b[0;34m:\u001b[0m\u001b[0;34m\u001b[0m\u001b[0;34m\u001b[0m\u001b[0m\n\u001b[0;32m-> 4391\u001b[0;31m             \u001b[0;32mraise\u001b[0m \u001b[0mValueError\u001b[0m\u001b[0;34m(\u001b[0m\u001b[0;34m\"x and y must be the same size\"\u001b[0m\u001b[0;34m)\u001b[0m\u001b[0;34m\u001b[0m\u001b[0;34m\u001b[0m\u001b[0m\n\u001b[0m\u001b[1;32m   4392\u001b[0m \u001b[0;34m\u001b[0m\u001b[0m\n\u001b[1;32m   4393\u001b[0m         \u001b[0;32mif\u001b[0m \u001b[0ms\u001b[0m \u001b[0;32mis\u001b[0m \u001b[0;32mNone\u001b[0m\u001b[0;34m:\u001b[0m\u001b[0;34m\u001b[0m\u001b[0;34m\u001b[0m\u001b[0m\n",
            "\u001b[0;31mValueError\u001b[0m: x and y must be the same size"
          ]
        },
        {
          "output_type": "display_data",
          "data": {
            "text/plain": [
              "<Figure size 432x288 with 1 Axes>"
            ],
            "image/png": "[encoded data removed]"
          },
          "metadata": {
            "needs_background": "light"
          }
        }
      ]
    },
    {
      "cell_type": "code",
      "source": [
        "df7 = df\n",
        "df7 = df7.fillna(0)\n",
        "for i in ['location', 'iso_code' ]:\n",
        "\n",
        "  dummies = pd.get_dummies(df7[i], drop_first=False)\n",
        "  df7 = pd.concat([df7, dummies], axis=1)\n",
        "  df7 = df7.drop(i, axis = 1)\n",
        "  df7"
      ],
      "metadata": {
        "id": "ypaJ26kPj1oJ"
      },
      "execution_count": null,
      "outputs": []
    },
    {
      "cell_type": "code",
      "source": [
        "df7"
      ],
      "metadata": {
        "colab": {
          "base_uri": "https://localhost:8080/",
          "height": 661
        },
        "id": "6j_JjiKeV61N",
        "outputId": "b219cc23-54be-4aea-caff-d2b21c88138d"
      },
      "execution_count": null,
      "outputs": [
        {
          "output_type": "execute_result",
          "data": {
            "text/plain": [
              "              date  total_vaccinations  people_vaccinated  \\\n",
              "0       2021-02-22                 0.0                0.0   \n",
              "1       2021-02-23                 0.0                0.0   \n",
              "2       2021-02-24                 0.0                0.0   \n",
              "3       2021-02-25                 0.0                0.0   \n",
              "4       2021-02-26                 0.0                0.0   \n",
              "...            ...                 ...                ...   \n",
              "121080  2022-07-27          12168972.0          6370434.0   \n",
              "121081  2022-07-28          12173026.0          6371959.0   \n",
              "121082  2022-07-29          12175457.0          6372686.0   \n",
              "121083  2022-07-30          12180877.0          6375973.0   \n",
              "121084  2022-07-31          12182698.0          6376117.0   \n",
              "\n",
              "        people_fully_vaccinated  total_boosters  daily_vaccinations_raw  \\\n",
              "0                           0.0             0.0                     0.0   \n",
              "1                           0.0             0.0                     0.0   \n",
              "2                           0.0             0.0                     0.0   \n",
              "3                           0.0             0.0                     0.0   \n",
              "4                           0.0             0.0                     0.0   \n",
              "...                         ...             ...                     ...   \n",
              "121080                4688789.0       1109749.0                 11550.0   \n",
              "121081                4690254.0       1110813.0                  4054.0   \n",
              "121082                4691111.0       1111660.0                  2431.0   \n",
              "121083                4691667.0       1113237.0                  5420.0   \n",
              "121084                4692440.0       1114141.0                  1821.0   \n",
              "\n",
              "        daily_vaccinations  total_vaccinations_per_hundred  \\\n",
              "0                      0.0                            0.00   \n",
              "1                   1367.0                            0.00   \n",
              "2                   1367.0                            0.00   \n",
              "3                   1367.0                            0.00   \n",
              "4                   1367.0                            0.00   \n",
              "...                    ...                             ...   \n",
              "121080              9567.0                           76.09   \n",
              "121081              7150.0                           76.11   \n",
              "121082              5261.0                           76.13   \n",
              "121083              5603.0                           76.16   \n",
              "121084              4958.0                           76.17   \n",
              "\n",
              "        people_vaccinated_per_hundred  people_fully_vaccinated_per_hundred  \\\n",
              "0                                0.00                                 0.00   \n",
              "1                                0.00                                 0.00   \n",
              "2                                0.00                                 0.00   \n",
              "3                                0.00                                 0.00   \n",
              "4                                0.00                                 0.00   \n",
              "...                               ...                                  ...   \n",
              "121080                          39.83                                29.32   \n",
              "121081                          39.84                                29.33   \n",
              "121082                          39.85                                29.33   \n",
              "121083                          39.87                                29.33   \n",
              "121084                          39.87                                29.34   \n",
              "\n",
              "        ...  VEN  VGB  VNM  VUT  WLF  WSM  YEM  ZAF  ZMB  ZWE  \n",
              "0       ...    0    0    0    0    0    0    0    0    0    0  \n",
              "1       ...    0    0    0    0    0    0    0    0    0    0  \n",
              "2       ...    0    0    0    0    0    0    0    0    0    0  \n",
              "3       ...    0    0    0    0    0    0    0    0    0    0  \n",
              "4       ...    0    0    0    0    0    0    0    0    0    0  \n",
              "...     ...  ...  ...  ...  ...  ...  ...  ...  ...  ...  ...  \n",
              "121080  ...    0    0    0    0    0    0    0    0    0    1  \n",
              "121081  ...    0    0    0    0    0    0    0    0    0    1  \n",
              "121082  ...    0    0    0    0    0    0    0    0    0    1  \n",
              "121083  ...    0    0    0    0    0    0    0    0    0    1  \n",
              "121084  ...    0    0    0    0    0    0    0    0    0    1  \n",
              "\n",
              "[121085 rows x 484 columns]"
            ],
            "text/html": [
              "\n",
              "  <div id=\"df-dff6f968-f55b-482d-a303-00212f65d201\">\n",
              "    <div class=\"colab-df-container\">\n",
              "      <div>\n",
              "<style scoped>\n",
              "    .dataframe tbody tr th:only-of-type {\n",
              "        vertical-align: middle;\n",
              "    }\n",
              "\n",
              "    .dataframe tbody tr th {\n",
              "        vertical-align: top;\n",
              "    }\n",
              "\n",
              "    .dataframe thead th {\n",
              "        text-align: right;\n",
              "    }\n",
              "</style>\n",
              "<table border=\"1\" class=\"dataframe\">\n",
              "  <thead>\n",
              "    <tr style=\"text-align: right;\">\n",
              "      <th></th>\n",
              "      <th>date</th>\n",
              "      <th>total_vaccinations</th>\n",
              "      <th>people_vaccinated</th>\n",
              "      <th>people_fully_vaccinated</th>\n",
              "      <th>total_boosters</th>\n",
              "      <th>daily_vaccinations_raw</th>\n",
              "      <th>daily_vaccinations</th>\n",
              "      <th>total_vaccinations_per_hundred</th>\n",
              "      <th>people_vaccinated_per_hundred</th>\n",
              "      <th>people_fully_vaccinated_per_hundred</th>\n",
              "      <th>...</th>\n",
              "      <th>VEN</th>\n",
              "      <th>VGB</th>\n",
              "      <th>VNM</th>\n",
              "      <th>VUT</th>\n",
              "      <th>WLF</th>\n",
              "      <th>WSM</th>\n",
              "      <th>YEM</th>\n",
              "      <th>ZAF</th>\n",
              "      <th>ZMB</th>\n",
              "      <th>ZWE</th>\n",
              "    </tr>\n",
              "  </thead>\n",
              "  <tbody>\n",
              "    <tr>\n",
              "      <th>0</th>\n",
              "      <td>2021-02-22</td>\n",
              "      <td>0.0</td>\n",
              "      <td>0.0</td>\n",
              "      <td>0.0</td>\n",
              "      <td>0.0</td>\n",
              "      <td>0.0</td>\n",
              "      <td>0.0</td>\n",
              "      <td>0.00</td>\n",
              "      <td>0.00</td>\n",
              "      <td>0.00</td>\n",
              "      <td>...</td>\n",
              "      <td>0</td>\n",
              "      <td>0</td>\n",
              "      <td>0</td>\n",
              "      <td>0</td>\n",
              "      <td>0</td>\n",
              "      <td>0</td>\n",
              "      <td>0</td>\n",
              "      <td>0</td>\n",
              "      <td>0</td>\n",
              "      <td>0</td>\n",
              "    </tr>\n",
              "    <tr>\n",
              "      <th>1</th>\n",
              "      <td>2021-02-23</td>\n",
              "      <td>0.0</td>\n",
              "      <td>0.0</td>\n",
              "      <td>0.0</td>\n",
              "      <td>0.0</td>\n",
              "      <td>0.0</td>\n",
              "      <td>1367.0</td>\n",
              "      <td>0.00</td>\n",
              "      <td>0.00</td>\n",
              "      <td>0.00</td>\n",
              "      <td>...</td>\n",
              "      <td>0</td>\n",
              "      <td>0</td>\n",
              "      <td>0</td>\n",
              "      <td>0</td>\n",
              "      <td>0</td>\n",
              "      <td>0</td>\n",
              "      <td>0</td>\n",
              "      <td>0</td>\n",
              "      <td>0</td>\n",
              "      <td>0</td>\n",
              "    </tr>\n",
              "    <tr>\n",
              "      <th>2</th>\n",
              "      <td>2021-02-24</td>\n",
              "      <td>0.0</td>\n",
              "      <td>0.0</td>\n",
              "      <td>0.0</td>\n",
              "      <td>0.0</td>\n",
              "      <td>0.0</td>\n",
              "      <td>1367.0</td>\n",
              "      <td>0.00</td>\n",
              "      <td>0.00</td>\n",
              "      <td>0.00</td>\n",
              "      <td>...</td>\n",
              "      <td>0</td>\n",
              "      <td>0</td>\n",
              "      <td>0</td>\n",
              "      <td>0</td>\n",
              "      <td>0</td>\n",
              "      <td>0</td>\n",
              "      <td>0</td>\n",
              "      <td>0</td>\n",
              "      <td>0</td>\n",
              "      <td>0</td>\n",
              "    </tr>\n",
              "    <tr>\n",
              "      <th>3</th>\n",
              "      <td>2021-02-25</td>\n",
              "      <td>0.0</td>\n",
              "      <td>0.0</td>\n",
              "      <td>0.0</td>\n",
              "      <td>0.0</td>\n",
              "      <td>0.0</td>\n",
              "      <td>1367.0</td>\n",
              "      <td>0.00</td>\n",
              "      <td>0.00</td>\n",
              "      <td>0.00</td>\n",
              "      <td>...</td>\n",
              "      <td>0</td>\n",
              "      <td>0</td>\n",
              "      <td>0</td>\n",
              "      <td>0</td>\n",
              "      <td>0</td>\n",
              "      <td>0</td>\n",
              "      <td>0</td>\n",
              "      <td>0</td>\n",
              "      <td>0</td>\n",
              "      <td>0</td>\n",
              "    </tr>\n",
              "    <tr>\n",
              "      <th>4</th>\n",
              "      <td>2021-02-26</td>\n",
              "      <td>0.0</td>\n",
              "      <td>0.0</td>\n",
              "      <td>0.0</td>\n",
              "      <td>0.0</td>\n",
              "      <td>0.0</td>\n",
              "      <td>1367.0</td>\n",
              "      <td>0.00</td>\n",
              "      <td>0.00</td>\n",
              "      <td>0.00</td>\n",
              "      <td>...</td>\n",
              "      <td>0</td>\n",
              "      <td>0</td>\n",
              "      <td>0</td>\n",
              "      <td>0</td>\n",
              "      <td>0</td>\n",
              "      <td>0</td>\n",
              "      <td>0</td>\n",
              "      <td>0</td>\n",
              "      <td>0</td>\n",
              "      <td>0</td>\n",
              "    </tr>\n",
              "    <tr>\n",
              "      <th>...</th>\n",
              "      <td>...</td>\n",
              "      <td>...</td>\n",
              "      <td>...</td>\n",
              "      <td>...</td>\n",
              "      <td>...</td>\n",
              "      <td>...</td>\n",
              "      <td>...</td>\n",
              "      <td>...</td>\n",
              "      <td>...</td>\n",
              "      <td>...</td>\n",
              "      <td>...</td>\n",
              "      <td>...</td>\n",
              "      <td>...</td>\n",
              "      <td>...</td>\n",
              "      <td>...</td>\n",
              "      <td>...</td>\n",
              "      <td>...</td>\n",
              "      <td>...</td>\n",
              "      <td>...</td>\n",
              "      <td>...</td>\n",
              "      <td>...</td>\n",
              "    </tr>\n",
              "    <tr>\n",
              "      <th>121080</th>\n",
              "      <td>2022-07-27</td>\n",
              "      <td>12168972.0</td>\n",
              "      <td>6370434.0</td>\n",
              "      <td>4688789.0</td>\n",
              "      <td>1109749.0</td>\n",
              "      <td>11550.0</td>\n",
              "      <td>9567.0</td>\n",
              "      <td>76.09</td>\n",
              "      <td>39.83</td>\n",
              "      <td>29.32</td>\n",
              "      <td>...</td>\n",
              "      <td>0</td>\n",
              "      <td>0</td>\n",
              "      <td>0</td>\n",
              "      <td>0</td>\n",
              "      <td>0</td>\n",
              "      <td>0</td>\n",
              "      <td>0</td>\n",
              "      <td>0</td>\n",
              "      <td>0</td>\n",
              "      <td>1</td>\n",
              "    </tr>\n",
              "    <tr>\n",
              "      <th>121081</th>\n",
              "      <td>2022-07-28</td>\n",
              "      <td>12173026.0</td>\n",
              "      <td>6371959.0</td>\n",
              "      <td>4690254.0</td>\n",
              "      <td>1110813.0</td>\n",
              "      <td>4054.0</td>\n",
              "      <td>7150.0</td>\n",
              "      <td>76.11</td>\n",
              "      <td>39.84</td>\n",
              "      <td>29.33</td>\n",
              "      <td>...</td>\n",
              "      <td>0</td>\n",
              "      <td>0</td>\n",
              "      <td>0</td>\n",
              "      <td>0</td>\n",
              "      <td>0</td>\n",
              "      <td>0</td>\n",
              "      <td>0</td>\n",
              "      <td>0</td>\n",
              "      <td>0</td>\n",
              "      <td>1</td>\n",
              "    </tr>\n",
              "    <tr>\n",
              "      <th>121082</th>\n",
              "      <td>2022-07-29</td>\n",
              "      <td>12175457.0</td>\n",
              "      <td>6372686.0</td>\n",
              "      <td>4691111.0</td>\n",
              "      <td>1111660.0</td>\n",
              "      <td>2431.0</td>\n",
              "      <td>5261.0</td>\n",
              "      <td>76.13</td>\n",
              "      <td>39.85</td>\n",
              "      <td>29.33</td>\n",
              "      <td>...</td>\n",
              "      <td>0</td>\n",
              "      <td>0</td>\n",
              "      <td>0</td>\n",
              "      <td>0</td>\n",
              "      <td>0</td>\n",
              "      <td>0</td>\n",
              "      <td>0</td>\n",
              "      <td>0</td>\n",
              "      <td>0</td>\n",
              "      <td>1</td>\n",
              "    </tr>\n",
              "    <tr>\n",
              "      <th>121083</th>\n",
              "      <td>2022-07-30</td>\n",
              "      <td>12180877.0</td>\n",
              "      <td>6375973.0</td>\n",
              "      <td>4691667.0</td>\n",
              "      <td>1113237.0</td>\n",
              "      <td>5420.0</td>\n",
              "      <td>5603.0</td>\n",
              "      <td>76.16</td>\n",
              "      <td>39.87</td>\n",
              "      <td>29.33</td>\n",
              "      <td>...</td>\n",
              "      <td>0</td>\n",
              "      <td>0</td>\n",
              "      <td>0</td>\n",
              "      <td>0</td>\n",
              "      <td>0</td>\n",
              "      <td>0</td>\n",
              "      <td>0</td>\n",
              "      <td>0</td>\n",
              "      <td>0</td>\n",
              "      <td>1</td>\n",
              "    </tr>\n",
              "    <tr>\n",
              "      <th>121084</th>\n",
              "      <td>2022-07-31</td>\n",
              "      <td>12182698.0</td>\n",
              "      <td>6376117.0</td>\n",
              "      <td>4692440.0</td>\n",
              "      <td>1114141.0</td>\n",
              "      <td>1821.0</td>\n",
              "      <td>4958.0</td>\n",
              "      <td>76.17</td>\n",
              "      <td>39.87</td>\n",
              "      <td>29.34</td>\n",
              "      <td>...</td>\n",
              "      <td>0</td>\n",
              "      <td>0</td>\n",
              "      <td>0</td>\n",
              "      <td>0</td>\n",
              "      <td>0</td>\n",
              "      <td>0</td>\n",
              "      <td>0</td>\n",
              "      <td>0</td>\n",
              "      <td>0</td>\n",
              "      <td>1</td>\n",
              "    </tr>\n",
              "  </tbody>\n",
              "</table>\n",
              "<p>121085 rows × 484 columns</p>\n",
              "</div>\n",
              "      <button class=\"colab-df-convert\" onclick=\"convertToInteractive('df-dff6f968-f55b-482d-a303-00212f65d201')\"\n",
              "              title=\"Convert this dataframe to an interactive table.\"\n",
              "              style=\"display:none;\">\n",
              "        \n",
              "  <svg xmlns=\"http://www.w3.org/2000/svg\" height=\"24px\"viewBox=\"0 0 24 24\"\n",
              "       width=\"24px\">\n",
              "    <path d=\"M0 0h24v24H0V0z\" fill=\"none\"/>\n",
              "    <path d=\"M18.56 5.44l.94 2.06.94-2.06 2.06-.94-2.06-.94-.94-2.06-.94 2.06-2.06.94zm-11 1L8.5 8.5l.94-2.06 2.06-.94-2.06-.94L8.5 2.5l-.94 2.06-2.06.94zm10 10l.94 2.06.94-2.06 2.06-.94-2.06-.94-.94-2.06-.94 2.06-2.06.94z\"/><path d=\"M17.41 7.96l-1.37-1.37c-.4-.4-.92-.59-1.43-.59-.52 0-1.04.2-1.43.59L10.3 9.45l-7.72 7.72c-.78.78-.78 2.05 0 2.83L4 21.41c.39.39.9.59 1.41.59.51 0 1.02-.2 1.41-.59l7.78-7.78 2.81-2.81c.8-.78.8-2.07 0-2.86zM5.41 20L4 18.59l7.72-7.72 1.47 1.35L5.41 20z\"/>\n",
              "  </svg>\n",
              "      </button>\n",
              "      \n",
              "  <style>\n",
              "    .colab-df-container {\n",
              "      display:flex;\n",
              "      flex-wrap:wrap;\n",
              "      gap: 12px;\n",
              "    }\n",
              "\n",
              "    .colab-df-convert {\n",
              "      background-color: #E8F0FE;\n",
              "      border: none;\n",
              "      border-radius: 50%;\n",
              "      cursor: pointer;\n",
              "      display: none;\n",
              "      fill: #1967D2;\n",
              "      height: 32px;\n",
              "      padding: 0 0 0 0;\n",
              "      width: 32px;\n",
              "    }\n",
              "\n",
              "    .colab-df-convert:hover {\n",
              "      background-color: #E2EBFA;\n",
              "      box-shadow: 0px 1px 2px rgba(60, 64, 67, 0.3), 0px 1px 3px 1px rgba(60, 64, 67, 0.15);\n",
              "      fill: #174EA6;\n",
              "    }\n",
              "\n",
              "    [theme=dark] .colab-df-convert {\n",
              "      background-color: #3B4455;\n",
              "      fill: #D2E3FC;\n",
              "    }\n",
              "\n",
              "    [theme=dark] .colab-df-convert:hover {\n",
              "      background-color: #434B5C;\n",
              "      box-shadow: 0px 1px 3px 1px rgba(0, 0, 0, 0.15);\n",
              "      filter: drop-shadow(0px 1px 2px rgba(0, 0, 0, 0.3));\n",
              "      fill: #FFFFFF;\n",
              "    }\n",
              "  </style>\n",
              "\n",
              "      <script>\n",
              "        const buttonEl =\n",
              "          document.querySelector('#df-dff6f968-f55b-482d-a303-00212f65d201 button.colab-df-convert');\n",
              "        buttonEl.style.display =\n",
              "          google.colab.kernel.accessAllowed ? 'block' : 'none';\n",
              "\n",
              "        async function convertToInteractive(key) {\n",
              "          const element = document.querySelector('#df-dff6f968-f55b-482d-a303-00212f65d201');\n",
              "          const dataTable =\n",
              "            await google.colab.kernel.invokeFunction('convertToInteractive',\n",
              "                                                     [key], {});\n",
              "          if (!dataTable) return;\n",
              "\n",
              "          const docLinkHtml = 'Like what you see? Visit the ' +\n",
              "            '<a target=\"_blank\" href=https://colab.research.google.com/notebooks/data_table.ipynb>data table notebook</a>'\n",
              "            + ' to learn more about interactive tables.';\n",
              "          element.innerHTML = '';\n",
              "          dataTable['output_type'] = 'display_data';\n",
              "          await google.colab.output.renderOutput(dataTable, element);\n",
              "          const docLink = document.createElement('div');\n",
              "          docLink.innerHTML = docLinkHtml;\n",
              "          element.appendChild(docLink);\n",
              "        }\n",
              "      </script>\n",
              "    </div>\n",
              "  </div>\n",
              "  "
            ]
          },
          "metadata": {},
          "execution_count": 41
        }
      ]
    },
    {
      "cell_type": "code",
      "source": [
        "from sklearn.preprocessing import LabelEncoder\n",
        "label_incoder = LabelEncoder()\n",
        "\n",
        "df7.iloc[:, 0] = label_incoder.fit_transform(df7.iloc[:, 0])\n",
        "df7.iloc[:, 5] = label_incoder.fit_transform(df7.iloc[:, 5])\n",
        "df7"
      ],
      "metadata": {
        "id": "PlkTvAUMkdWm"
      },
      "execution_count": null,
      "outputs": []
    },
    {
      "cell_type": "code",
      "source": [
        "from sklearn import preprocessing"
      ],
      "metadata": {
        "id": "QQLp_l70ko7a"
      },
      "execution_count": null,
      "outputs": []
    },
    {
      "cell_type": "code",
      "source": [
        "df7.iloc[:, :5] = preprocessing.scale(df7.iloc[:, :5])"
      ],
      "metadata": {
        "id": "cijy4XIZk-Je",
        "colab": {
          "base_uri": "https://localhost:8080/"
        },
        "outputId": "603cf5d5-3ef8-4853-fb59-26efef575261"
      },
      "execution_count": null,
      "outputs": [
        {
          "output_type": "stream",
          "name": "stderr",
          "text": [
            "/usr/local/lib/python3.7/dist-packages/sklearn/preprocessing/_data.py:236: UserWarning: Numerical issues were encountered when centering the data and might not be solved. Dataset may contain too large values. You may need to prescale your features.\n",
            "  \"Numerical issues were encountered \"\n"
          ]
        }
      ]
    },
    {
      "cell_type": "code",
      "source": [
        "df7"
      ],
      "metadata": {
        "id": "W8zmldO1lHAO",
        "colab": {
          "base_uri": "https://localhost:8080/",
          "height": 488
        },
        "outputId": "8efb01f8-31e1-4e74-eaf5-69132fa5a050"
      },
      "execution_count": null,
      "outputs": [
        {
          "output_type": "execute_result",
          "data": {
            "text/plain": [
              "            date  total_vaccinations  people_vaccinated  \\\n",
              "0      -1.623274           -0.164802          -0.161208   \n",
              "1      -1.616904           -0.164802          -0.161208   \n",
              "2      -1.610535           -0.164802          -0.161208   \n",
              "3      -1.604165           -0.164802          -0.161208   \n",
              "4      -1.597795           -0.164802          -0.161208   \n",
              "...          ...                 ...                ...   \n",
              "121080  1.688961           -0.149007          -0.143218   \n",
              "121081  1.695331           -0.149001          -0.143214   \n",
              "121082  1.701701           -0.148998          -0.143212   \n",
              "121083  1.708070           -0.148991          -0.143202   \n",
              "121084  1.714440           -0.148989          -0.143202   \n",
              "\n",
              "        people_fully_vaccinated  total_boosters  daily_vaccinations_raw  \\\n",
              "0                     -0.152470       -0.118414                       0   \n",
              "1                     -0.152470       -0.118414                       0   \n",
              "2                     -0.152470       -0.118414                       0   \n",
              "3                     -0.152470       -0.118414                       0   \n",
              "4                     -0.152470       -0.118414                       0   \n",
              "...                         ...             ...                     ...   \n",
              "121080                -0.137101       -0.107952                    7525   \n",
              "121081                -0.137096       -0.107942                    3507   \n",
              "121082                -0.137093       -0.107934                    2278   \n",
              "121083                -0.137091       -0.107919                    4408   \n",
              "121084                -0.137089       -0.107910                    1742   \n",
              "\n",
              "        daily_vaccinations  total_vaccinations_per_hundred  \\\n",
              "0                      0.0                            0.00   \n",
              "1                   1367.0                            0.00   \n",
              "2                   1367.0                            0.00   \n",
              "3                   1367.0                            0.00   \n",
              "4                   1367.0                            0.00   \n",
              "...                    ...                             ...   \n",
              "121080              9567.0                           76.09   \n",
              "121081              7150.0                           76.11   \n",
              "121082              5261.0                           76.13   \n",
              "121083              5603.0                           76.16   \n",
              "121084              4958.0                           76.17   \n",
              "\n",
              "        people_vaccinated_per_hundred  people_fully_vaccinated_per_hundred  \\\n",
              "0                                0.00                                 0.00   \n",
              "1                                0.00                                 0.00   \n",
              "2                                0.00                                 0.00   \n",
              "3                                0.00                                 0.00   \n",
              "4                                0.00                                 0.00   \n",
              "...                               ...                                  ...   \n",
              "121080                          39.83                                29.32   \n",
              "121081                          39.84                                29.33   \n",
              "121082                          39.85                                29.33   \n",
              "121083                          39.87                                29.33   \n",
              "121084                          39.87                                29.34   \n",
              "\n",
              "        ...  VEN  VGB  VNM  VUT  WLF  WSM  YEM  ZAF  ZMB  ZWE  \n",
              "0       ...    0    0    0    0    0    0    0    0    0    0  \n",
              "1       ...    0    0    0    0    0    0    0    0    0    0  \n",
              "2       ...    0    0    0    0    0    0    0    0    0    0  \n",
              "3       ...    0    0    0    0    0    0    0    0    0    0  \n",
              "4       ...    0    0    0    0    0    0    0    0    0    0  \n",
              "...     ...  ...  ...  ...  ...  ...  ...  ...  ...  ...  ...  \n",
              "121080  ...    0    0    0    0    0    0    0    0    0    1  \n",
              "121081  ...    0    0    0    0    0    0    0    0    0    1  \n",
              "121082  ...    0    0    0    0    0    0    0    0    0    1  \n",
              "121083  ...    0    0    0    0    0    0    0    0    0    1  \n",
              "121084  ...    0    0    0    0    0    0    0    0    0    1  \n",
              "\n",
              "[121085 rows x 484 columns]"
            ],
            "text/html": [
              "\n",
              "  <div id=\"df-9952481a-711f-4395-a121-090c5ed4a71a\">\n",
              "    <div class=\"colab-df-container\">\n",
              "      <div>\n",
              "<style scoped>\n",
              "    .dataframe tbody tr th:only-of-type {\n",
              "        vertical-align: middle;\n",
              "    }\n",
              "\n",
              "    .dataframe tbody tr th {\n",
              "        vertical-align: top;\n",
              "    }\n",
              "\n",
              "    .dataframe thead th {\n",
              "        text-align: right;\n",
              "    }\n",
              "</style>\n",
              "<table border=\"1\" class=\"dataframe\">\n",
              "  <thead>\n",
              "    <tr style=\"text-align: right;\">\n",
              "      <th></th>\n",
              "      <th>date</th>\n",
              "      <th>total_vaccinations</th>\n",
              "      <th>people_vaccinated</th>\n",
              "      <th>people_fully_vaccinated</th>\n",
              "      <th>total_boosters</th>\n",
              "      <th>daily_vaccinations_raw</th>\n",
              "      <th>daily_vaccinations</th>\n",
              "      <th>total_vaccinations_per_hundred</th>\n",
              "      <th>people_vaccinated_per_hundred</th>\n",
              "      <th>people_fully_vaccinated_per_hundred</th>\n",
              "      <th>...</th>\n",
              "      <th>VEN</th>\n",
              "      <th>VGB</th>\n",
              "      <th>VNM</th>\n",
              "      <th>VUT</th>\n",
              "      <th>WLF</th>\n",
              "      <th>WSM</th>\n",
              "      <th>YEM</th>\n",
              "      <th>ZAF</th>\n",
              "      <th>ZMB</th>\n",
              "      <th>ZWE</th>\n",
              "    </tr>\n",
              "  </thead>\n",
              "  <tbody>\n",
              "    <tr>\n",
              "      <th>0</th>\n",
              "      <td>-1.623274</td>\n",
              "      <td>-0.164802</td>\n",
              "      <td>-0.161208</td>\n",
              "      <td>-0.152470</td>\n",
              "      <td>-0.118414</td>\n",
              "      <td>0</td>\n",
              "      <td>0.0</td>\n",
              "      <td>0.00</td>\n",
              "      <td>0.00</td>\n",
              "      <td>0.00</td>\n",
              "      <td>...</td>\n",
              "      <td>0</td>\n",
              "      <td>0</td>\n",
              "      <td>0</td>\n",
              "      <td>0</td>\n",
              "      <td>0</td>\n",
              "      <td>0</td>\n",
              "      <td>0</td>\n",
              "      <td>0</td>\n",
              "      <td>0</td>\n",
              "      <td>0</td>\n",
              "    </tr>\n",
              "    <tr>\n",
              "      <th>1</th>\n",
              "      <td>-1.616904</td>\n",
              "      <td>-0.164802</td>\n",
              "      <td>-0.161208</td>\n",
              "      <td>-0.152470</td>\n",
              "      <td>-0.118414</td>\n",
              "      <td>0</td>\n",
              "      <td>1367.0</td>\n",
              "      <td>0.00</td>\n",
              "      <td>0.00</td>\n",
              "      <td>0.00</td>\n",
              "      <td>...</td>\n",
              "      <td>0</td>\n",
              "      <td>0</td>\n",
              "      <td>0</td>\n",
              "      <td>0</td>\n",
              "      <td>0</td>\n",
              "      <td>0</td>\n",
              "      <td>0</td>\n",
              "      <td>0</td>\n",
              "      <td>0</td>\n",
              "      <td>0</td>\n",
              "    </tr>\n",
              "    <tr>\n",
              "      <th>2</th>\n",
              "      <td>-1.610535</td>\n",
              "      <td>-0.164802</td>\n",
              "      <td>-0.161208</td>\n",
              "      <td>-0.152470</td>\n",
              "      <td>-0.118414</td>\n",
              "      <td>0</td>\n",
              "      <td>1367.0</td>\n",
              "      <td>0.00</td>\n",
              "      <td>0.00</td>\n",
              "      <td>0.00</td>\n",
              "      <td>...</td>\n",
              "      <td>0</td>\n",
              "      <td>0</td>\n",
              "      <td>0</td>\n",
              "      <td>0</td>\n",
              "      <td>0</td>\n",
              "      <td>0</td>\n",
              "      <td>0</td>\n",
              "      <td>0</td>\n",
              "      <td>0</td>\n",
              "      <td>0</td>\n",
              "    </tr>\n",
              "    <tr>\n",
              "      <th>3</th>\n",
              "      <td>-1.604165</td>\n",
              "      <td>-0.164802</td>\n",
              "      <td>-0.161208</td>\n",
              "      <td>-0.152470</td>\n",
              "      <td>-0.118414</td>\n",
              "      <td>0</td>\n",
              "      <td>1367.0</td>\n",
              "      <td>0.00</td>\n",
              "      <td>0.00</td>\n",
              "      <td>0.00</td>\n",
              "      <td>...</td>\n",
              "      <td>0</td>\n",
              "      <td>0</td>\n",
              "      <td>0</td>\n",
              "      <td>0</td>\n",
              "      <td>0</td>\n",
              "      <td>0</td>\n",
              "      <td>0</td>\n",
              "      <td>0</td>\n",
              "      <td>0</td>\n",
              "      <td>0</td>\n",
              "    </tr>\n",
              "    <tr>\n",
              "      <th>4</th>\n",
              "      <td>-1.597795</td>\n",
              "      <td>-0.164802</td>\n",
              "      <td>-0.161208</td>\n",
              "      <td>-0.152470</td>\n",
              "      <td>-0.118414</td>\n",
              "      <td>0</td>\n",
              "      <td>1367.0</td>\n",
              "      <td>0.00</td>\n",
              "      <td>0.00</td>\n",
              "      <td>0.00</td>\n",
              "      <td>...</td>\n",
              "      <td>0</td>\n",
              "      <td>0</td>\n",
              "      <td>0</td>\n",
              "      <td>0</td>\n",
              "      <td>0</td>\n",
              "      <td>0</td>\n",
              "      <td>0</td>\n",
              "      <td>0</td>\n",
              "      <td>0</td>\n",
              "      <td>0</td>\n",
              "    </tr>\n",
              "    <tr>\n",
              "      <th>...</th>\n",
              "      <td>...</td>\n",
              "      <td>...</td>\n",
              "      <td>...</td>\n",
              "      <td>...</td>\n",
              "      <td>...</td>\n",
              "      <td>...</td>\n",
              "      <td>...</td>\n",
              "      <td>...</td>\n",
              "      <td>...</td>\n",
              "      <td>...</td>\n",
              "      <td>...</td>\n",
              "      <td>...</td>\n",
              "      <td>...</td>\n",
              "      <td>...</td>\n",
              "      <td>...</td>\n",
              "      <td>...</td>\n",
              "      <td>...</td>\n",
              "      <td>...</td>\n",
              "      <td>...</td>\n",
              "      <td>...</td>\n",
              "      <td>...</td>\n",
              "    </tr>\n",
              "    <tr>\n",
              "      <th>121080</th>\n",
              "      <td>1.688961</td>\n",
              "      <td>-0.149007</td>\n",
              "      <td>-0.143218</td>\n",
              "      <td>-0.137101</td>\n",
              "      <td>-0.107952</td>\n",
              "      <td>7525</td>\n",
              "      <td>9567.0</td>\n",
              "      <td>76.09</td>\n",
              "      <td>39.83</td>\n",
              "      <td>29.32</td>\n",
              "      <td>...</td>\n",
              "      <td>0</td>\n",
              "      <td>0</td>\n",
              "      <td>0</td>\n",
              "      <td>0</td>\n",
              "      <td>0</td>\n",
              "      <td>0</td>\n",
              "      <td>0</td>\n",
              "      <td>0</td>\n",
              "      <td>0</td>\n",
              "      <td>1</td>\n",
              "    </tr>\n",
              "    <tr>\n",
              "      <th>121081</th>\n",
              "      <td>1.695331</td>\n",
              "      <td>-0.149001</td>\n",
              "      <td>-0.143214</td>\n",
              "      <td>-0.137096</td>\n",
              "      <td>-0.107942</td>\n",
              "      <td>3507</td>\n",
              "      <td>7150.0</td>\n",
              "      <td>76.11</td>\n",
              "      <td>39.84</td>\n",
              "      <td>29.33</td>\n",
              "      <td>...</td>\n",
              "      <td>0</td>\n",
              "      <td>0</td>\n",
              "      <td>0</td>\n",
              "      <td>0</td>\n",
              "      <td>0</td>\n",
              "      <td>0</td>\n",
              "      <td>0</td>\n",
              "      <td>0</td>\n",
              "      <td>0</td>\n",
              "      <td>1</td>\n",
              "    </tr>\n",
              "    <tr>\n",
              "      <th>121082</th>\n",
              "      <td>1.701701</td>\n",
              "      <td>-0.148998</td>\n",
              "      <td>-0.143212</td>\n",
              "      <td>-0.137093</td>\n",
              "      <td>-0.107934</td>\n",
              "      <td>2278</td>\n",
              "      <td>5261.0</td>\n",
              "      <td>76.13</td>\n",
              "      <td>39.85</td>\n",
              "      <td>29.33</td>\n",
              "      <td>...</td>\n",
              "      <td>0</td>\n",
              "      <td>0</td>\n",
              "      <td>0</td>\n",
              "      <td>0</td>\n",
              "      <td>0</td>\n",
              "      <td>0</td>\n",
              "      <td>0</td>\n",
              "      <td>0</td>\n",
              "      <td>0</td>\n",
              "      <td>1</td>\n",
              "    </tr>\n",
              "    <tr>\n",
              "      <th>121083</th>\n",
              "      <td>1.708070</td>\n",
              "      <td>-0.148991</td>\n",
              "      <td>-0.143202</td>\n",
              "      <td>-0.137091</td>\n",
              "      <td>-0.107919</td>\n",
              "      <td>4408</td>\n",
              "      <td>5603.0</td>\n",
              "      <td>76.16</td>\n",
              "      <td>39.87</td>\n",
              "      <td>29.33</td>\n",
              "      <td>...</td>\n",
              "      <td>0</td>\n",
              "      <td>0</td>\n",
              "      <td>0</td>\n",
              "      <td>0</td>\n",
              "      <td>0</td>\n",
              "      <td>0</td>\n",
              "      <td>0</td>\n",
              "      <td>0</td>\n",
              "      <td>0</td>\n",
              "      <td>1</td>\n",
              "    </tr>\n",
              "    <tr>\n",
              "      <th>121084</th>\n",
              "      <td>1.714440</td>\n",
              "      <td>-0.148989</td>\n",
              "      <td>-0.143202</td>\n",
              "      <td>-0.137089</td>\n",
              "      <td>-0.107910</td>\n",
              "      <td>1742</td>\n",
              "      <td>4958.0</td>\n",
              "      <td>76.17</td>\n",
              "      <td>39.87</td>\n",
              "      <td>29.34</td>\n",
              "      <td>...</td>\n",
              "      <td>0</td>\n",
              "      <td>0</td>\n",
              "      <td>0</td>\n",
              "      <td>0</td>\n",
              "      <td>0</td>\n",
              "      <td>0</td>\n",
              "      <td>0</td>\n",
              "      <td>0</td>\n",
              "      <td>0</td>\n",
              "      <td>1</td>\n",
              "    </tr>\n",
              "  </tbody>\n",
              "</table>\n",
              "<p>121085 rows × 484 columns</p>\n",
              "</div>\n",
              "      <button class=\"colab-df-convert\" onclick=\"convertToInteractive('df-9952481a-711f-4395-a121-090c5ed4a71a')\"\n",
              "              title=\"Convert this dataframe to an interactive table.\"\n",
              "              style=\"display:none;\">\n",
              "        \n",
              "  <svg xmlns=\"http://www.w3.org/2000/svg\" height=\"24px\"viewBox=\"0 0 24 24\"\n",
              "       width=\"24px\">\n",
              "    <path d=\"M0 0h24v24H0V0z\" fill=\"none\"/>\n",
              "    <path d=\"M18.56 5.44l.94 2.06.94-2.06 2.06-.94-2.06-.94-.94-2.06-.94 2.06-2.06.94zm-11 1L8.5 8.5l.94-2.06 2.06-.94-2.06-.94L8.5 2.5l-.94 2.06-2.06.94zm10 10l.94 2.06.94-2.06 2.06-.94-2.06-.94-.94-2.06-.94 2.06-2.06.94z\"/><path d=\"M17.41 7.96l-1.37-1.37c-.4-.4-.92-.59-1.43-.59-.52 0-1.04.2-1.43.59L10.3 9.45l-7.72 7.72c-.78.78-.78 2.05 0 2.83L4 21.41c.39.39.9.59 1.41.59.51 0 1.02-.2 1.41-.59l7.78-7.78 2.81-2.81c.8-.78.8-2.07 0-2.86zM5.41 20L4 18.59l7.72-7.72 1.47 1.35L5.41 20z\"/>\n",
              "  </svg>\n",
              "      </button>\n",
              "      \n",
              "  <style>\n",
              "    .colab-df-container {\n",
              "      display:flex;\n",
              "      flex-wrap:wrap;\n",
              "      gap: 12px;\n",
              "    }\n",
              "\n",
              "    .colab-df-convert {\n",
              "      background-color: #E8F0FE;\n",
              "      border: none;\n",
              "      border-radius: 50%;\n",
              "      cursor: pointer;\n",
              "      display: none;\n",
              "      fill: #1967D2;\n",
              "      height: 32px;\n",
              "      padding: 0 0 0 0;\n",
              "      width: 32px;\n",
              "    }\n",
              "\n",
              "    .colab-df-convert:hover {\n",
              "      background-color: #E2EBFA;\n",
              "      box-shadow: 0px 1px 2px rgba(60, 64, 67, 0.3), 0px 1px 3px 1px rgba(60, 64, 67, 0.15);\n",
              "      fill: #174EA6;\n",
              "    }\n",
              "\n",
              "    [theme=dark] .colab-df-convert {\n",
              "      background-color: #3B4455;\n",
              "      fill: #D2E3FC;\n",
              "    }\n",
              "\n",
              "    [theme=dark] .colab-df-convert:hover {\n",
              "      background-color: #434B5C;\n",
              "      box-shadow: 0px 1px 3px 1px rgba(0, 0, 0, 0.15);\n",
              "      filter: drop-shadow(0px 1px 2px rgba(0, 0, 0, 0.3));\n",
              "      fill: #FFFFFF;\n",
              "    }\n",
              "  </style>\n",
              "\n",
              "      <script>\n",
              "        const buttonEl =\n",
              "          document.querySelector('#df-9952481a-711f-4395-a121-090c5ed4a71a button.colab-df-convert');\n",
              "        buttonEl.style.display =\n",
              "          google.colab.kernel.accessAllowed ? 'block' : 'none';\n",
              "\n",
              "        async function convertToInteractive(key) {\n",
              "          const element = document.querySelector('#df-9952481a-711f-4395-a121-090c5ed4a71a');\n",
              "          const dataTable =\n",
              "            await google.colab.kernel.invokeFunction('convertToInteractive',\n",
              "                                                     [key], {});\n",
              "          if (!dataTable) return;\n",
              "\n",
              "          const docLinkHtml = 'Like what you see? Visit the ' +\n",
              "            '<a target=\"_blank\" href=https://colab.research.google.com/notebooks/data_table.ipynb>data table notebook</a>'\n",
              "            + ' to learn more about interactive tables.';\n",
              "          element.innerHTML = '';\n",
              "          dataTable['output_type'] = 'display_data';\n",
              "          await google.colab.output.renderOutput(dataTable, element);\n",
              "          const docLink = document.createElement('div');\n",
              "          docLink.innerHTML = docLinkHtml;\n",
              "          element.appendChild(docLink);\n",
              "        }\n",
              "      </script>\n",
              "    </div>\n",
              "  </div>\n",
              "  "
            ]
          },
          "metadata": {},
          "execution_count": 45
        }
      ]
    },
    {
      "cell_type": "code",
      "source": [
        "from sklearn.model_selection import train_test_split"
      ],
      "metadata": {
        "id": "ZIlav5KwlNo2"
      },
      "execution_count": null,
      "outputs": []
    },
    {
      "cell_type": "code",
      "source": [
        "x = df7.iloc[121070 : , :5 ]\n",
        "x"
      ],
      "metadata": {
        "id": "7blH8DjXmNX_",
        "colab": {
          "base_uri": "https://localhost:8080/",
          "height": 520
        },
        "outputId": "e9f988c8-7c15-475b-85f1-48cb35f3eef6"
      },
      "execution_count": null,
      "outputs": [
        {
          "output_type": "execute_result",
          "data": {
            "text/plain": [
              "            date  total_vaccinations  people_vaccinated  \\\n",
              "121070  1.625264           -0.164802          -0.161208   \n",
              "121071  1.631634           -0.149118          -0.143290   \n",
              "121072  1.638004           -0.149112          -0.143282   \n",
              "121073  1.644373           -0.149094          -0.143272   \n",
              "121074  1.650743           -0.149066          -0.143256   \n",
              "121075  1.657113           -0.149046          -0.143250   \n",
              "121076  1.663483           -0.149042          -0.143244   \n",
              "121077  1.669852           -0.149034          -0.143241   \n",
              "121078  1.676222           -0.149027          -0.143236   \n",
              "121079  1.682592           -0.149022          -0.143231   \n",
              "121080  1.688961           -0.149007          -0.143218   \n",
              "121081  1.695331           -0.149001          -0.143214   \n",
              "121082  1.701701           -0.148998          -0.143212   \n",
              "121083  1.708070           -0.148991          -0.143202   \n",
              "121084  1.714440           -0.148989          -0.143202   \n",
              "\n",
              "        people_fully_vaccinated  total_boosters  \n",
              "121070                -0.152470       -0.118414  \n",
              "121071                -0.137221       -0.108176  \n",
              "121072                -0.137217       -0.108165  \n",
              "121073                -0.137200       -0.108120  \n",
              "121074                -0.137168       -0.108066  \n",
              "121075                -0.137130       -0.108046  \n",
              "121076                -0.137128       -0.108044  \n",
              "121077                -0.137122       -0.108013  \n",
              "121078                -0.137116       -0.107998  \n",
              "121079                -0.137113       -0.107983  \n",
              "121080                -0.137101       -0.107952  \n",
              "121081                -0.137096       -0.107942  \n",
              "121082                -0.137093       -0.107934  \n",
              "121083                -0.137091       -0.107919  \n",
              "121084                -0.137089       -0.107910  "
            ],
            "text/html": [
              "\n",
              "  <div id=\"df-da7523ec-2f40-45c7-99b9-02678250e290\">\n",
              "    <div class=\"colab-df-container\">\n",
              "      <div>\n",
              "<style scoped>\n",
              "    .dataframe tbody tr th:only-of-type {\n",
              "        vertical-align: middle;\n",
              "    }\n",
              "\n",
              "    .dataframe tbody tr th {\n",
              "        vertical-align: top;\n",
              "    }\n",
              "\n",
              "    .dataframe thead th {\n",
              "        text-align: right;\n",
              "    }\n",
              "</style>\n",
              "<table border=\"1\" class=\"dataframe\">\n",
              "  <thead>\n",
              "    <tr style=\"text-align: right;\">\n",
              "      <th></th>\n",
              "      <th>date</th>\n",
              "      <th>total_vaccinations</th>\n",
              "      <th>people_vaccinated</th>\n",
              "      <th>people_fully_vaccinated</th>\n",
              "      <th>total_boosters</th>\n",
              "    </tr>\n",
              "  </thead>\n",
              "  <tbody>\n",
              "    <tr>\n",
              "      <th>121070</th>\n",
              "      <td>1.625264</td>\n",
              "      <td>-0.164802</td>\n",
              "      <td>-0.161208</td>\n",
              "      <td>-0.152470</td>\n",
              "      <td>-0.118414</td>\n",
              "    </tr>\n",
              "    <tr>\n",
              "      <th>121071</th>\n",
              "      <td>1.631634</td>\n",
              "      <td>-0.149118</td>\n",
              "      <td>-0.143290</td>\n",
              "      <td>-0.137221</td>\n",
              "      <td>-0.108176</td>\n",
              "    </tr>\n",
              "    <tr>\n",
              "      <th>121072</th>\n",
              "      <td>1.638004</td>\n",
              "      <td>-0.149112</td>\n",
              "      <td>-0.143282</td>\n",
              "      <td>-0.137217</td>\n",
              "      <td>-0.108165</td>\n",
              "    </tr>\n",
              "    <tr>\n",
              "      <th>121073</th>\n",
              "      <td>1.644373</td>\n",
              "      <td>-0.149094</td>\n",
              "      <td>-0.143272</td>\n",
              "      <td>-0.137200</td>\n",
              "      <td>-0.108120</td>\n",
              "    </tr>\n",
              "    <tr>\n",
              "      <th>121074</th>\n",
              "      <td>1.650743</td>\n",
              "      <td>-0.149066</td>\n",
              "      <td>-0.143256</td>\n",
              "      <td>-0.137168</td>\n",
              "      <td>-0.108066</td>\n",
              "    </tr>\n",
              "    <tr>\n",
              "      <th>121075</th>\n",
              "      <td>1.657113</td>\n",
              "      <td>-0.149046</td>\n",
              "      <td>-0.143250</td>\n",
              "      <td>-0.137130</td>\n",
              "      <td>-0.108046</td>\n",
              "    </tr>\n",
              "    <tr>\n",
              "      <th>121076</th>\n",
              "      <td>1.663483</td>\n",
              "      <td>-0.149042</td>\n",
              "      <td>-0.143244</td>\n",
              "      <td>-0.137128</td>\n",
              "      <td>-0.108044</td>\n",
              "    </tr>\n",
              "    <tr>\n",
              "      <th>121077</th>\n",
              "      <td>1.669852</td>\n",
              "      <td>-0.149034</td>\n",
              "      <td>-0.143241</td>\n",
              "      <td>-0.137122</td>\n",
              "      <td>-0.108013</td>\n",
              "    </tr>\n",
              "    <tr>\n",
              "      <th>121078</th>\n",
              "      <td>1.676222</td>\n",
              "      <td>-0.149027</td>\n",
              "      <td>-0.143236</td>\n",
              "      <td>-0.137116</td>\n",
              "      <td>-0.107998</td>\n",
              "    </tr>\n",
              "    <tr>\n",
              "      <th>121079</th>\n",
              "      <td>1.682592</td>\n",
              "      <td>-0.149022</td>\n",
              "      <td>-0.143231</td>\n",
              "      <td>-0.137113</td>\n",
              "      <td>-0.107983</td>\n",
              "    </tr>\n",
              "    <tr>\n",
              "      <th>121080</th>\n",
              "      <td>1.688961</td>\n",
              "      <td>-0.149007</td>\n",
              "      <td>-0.143218</td>\n",
              "      <td>-0.137101</td>\n",
              "      <td>-0.107952</td>\n",
              "    </tr>\n",
              "    <tr>\n",
              "      <th>121081</th>\n",
              "      <td>1.695331</td>\n",
              "      <td>-0.149001</td>\n",
              "      <td>-0.143214</td>\n",
              "      <td>-0.137096</td>\n",
              "      <td>-0.107942</td>\n",
              "    </tr>\n",
              "    <tr>\n",
              "      <th>121082</th>\n",
              "      <td>1.701701</td>\n",
              "      <td>-0.148998</td>\n",
              "      <td>-0.143212</td>\n",
              "      <td>-0.137093</td>\n",
              "      <td>-0.107934</td>\n",
              "    </tr>\n",
              "    <tr>\n",
              "      <th>121083</th>\n",
              "      <td>1.708070</td>\n",
              "      <td>-0.148991</td>\n",
              "      <td>-0.143202</td>\n",
              "      <td>-0.137091</td>\n",
              "      <td>-0.107919</td>\n",
              "    </tr>\n",
              "    <tr>\n",
              "      <th>121084</th>\n",
              "      <td>1.714440</td>\n",
              "      <td>-0.148989</td>\n",
              "      <td>-0.143202</td>\n",
              "      <td>-0.137089</td>\n",
              "      <td>-0.107910</td>\n",
              "    </tr>\n",
              "  </tbody>\n",
              "</table>\n",
              "</div>\n",
              "      <button class=\"colab-df-convert\" onclick=\"convertToInteractive('df-da7523ec-2f40-45c7-99b9-02678250e290')\"\n",
              "              title=\"Convert this dataframe to an interactive table.\"\n",
              "              style=\"display:none;\">\n",
              "        \n",
              "  <svg xmlns=\"http://www.w3.org/2000/svg\" height=\"24px\"viewBox=\"0 0 24 24\"\n",
              "       width=\"24px\">\n",
              "    <path d=\"M0 0h24v24H0V0z\" fill=\"none\"/>\n",
              "    <path d=\"M18.56 5.44l.94 2.06.94-2.06 2.06-.94-2.06-.94-.94-2.06-.94 2.06-2.06.94zm-11 1L8.5 8.5l.94-2.06 2.06-.94-2.06-.94L8.5 2.5l-.94 2.06-2.06.94zm10 10l.94 2.06.94-2.06 2.06-.94-2.06-.94-.94-2.06-.94 2.06-2.06.94z\"/><path d=\"M17.41 7.96l-1.37-1.37c-.4-.4-.92-.59-1.43-.59-.52 0-1.04.2-1.43.59L10.3 9.45l-7.72 7.72c-.78.78-.78 2.05 0 2.83L4 21.41c.39.39.9.59 1.41.59.51 0 1.02-.2 1.41-.59l7.78-7.78 2.81-2.81c.8-.78.8-2.07 0-2.86zM5.41 20L4 18.59l7.72-7.72 1.47 1.35L5.41 20z\"/>\n",
              "  </svg>\n",
              "      </button>\n",
              "      \n",
              "  <style>\n",
              "    .colab-df-container {\n",
              "      display:flex;\n",
              "      flex-wrap:wrap;\n",
              "      gap: 12px;\n",
              "    }\n",
              "\n",
              "    .colab-df-convert {\n",
              "      background-color: #E8F0FE;\n",
              "      border: none;\n",
              "      border-radius: 50%;\n",
              "      cursor: pointer;\n",
              "      display: none;\n",
              "      fill: #1967D2;\n",
              "      height: 32px;\n",
              "      padding: 0 0 0 0;\n",
              "      width: 32px;\n",
              "    }\n",
              "\n",
              "    .colab-df-convert:hover {\n",
              "      background-color: #E2EBFA;\n",
              "      box-shadow: 0px 1px 2px rgba(60, 64, 67, 0.3), 0px 1px 3px 1px rgba(60, 64, 67, 0.15);\n",
              "      fill: #174EA6;\n",
              "    }\n",
              "\n",
              "    [theme=dark] .colab-df-convert {\n",
              "      background-color: #3B4455;\n",
              "      fill: #D2E3FC;\n",
              "    }\n",
              "\n",
              "    [theme=dark] .colab-df-convert:hover {\n",
              "      background-color: #434B5C;\n",
              "      box-shadow: 0px 1px 3px 1px rgba(0, 0, 0, 0.15);\n",
              "      filter: drop-shadow(0px 1px 2px rgba(0, 0, 0, 0.3));\n",
              "      fill: #FFFFFF;\n",
              "    }\n",
              "  </style>\n",
              "\n",
              "      <script>\n",
              "        const buttonEl =\n",
              "          document.querySelector('#df-da7523ec-2f40-45c7-99b9-02678250e290 button.colab-df-convert');\n",
              "        buttonEl.style.display =\n",
              "          google.colab.kernel.accessAllowed ? 'block' : 'none';\n",
              "\n",
              "        async function convertToInteractive(key) {\n",
              "          const element = document.querySelector('#df-da7523ec-2f40-45c7-99b9-02678250e290');\n",
              "          const dataTable =\n",
              "            await google.colab.kernel.invokeFunction('convertToInteractive',\n",
              "                                                     [key], {});\n",
              "          if (!dataTable) return;\n",
              "\n",
              "          const docLinkHtml = 'Like what you see? Visit the ' +\n",
              "            '<a target=\"_blank\" href=https://colab.research.google.com/notebooks/data_table.ipynb>data table notebook</a>'\n",
              "            + ' to learn more about interactive tables.';\n",
              "          element.innerHTML = '';\n",
              "          dataTable['output_type'] = 'display_data';\n",
              "          await google.colab.output.renderOutput(dataTable, element);\n",
              "          const docLink = document.createElement('div');\n",
              "          docLink.innerHTML = docLinkHtml;\n",
              "          element.appendChild(docLink);\n",
              "        }\n",
              "      </script>\n",
              "    </div>\n",
              "  </div>\n",
              "  "
            ]
          },
          "metadata": {},
          "execution_count": 47
        }
      ]
    },
    {
      "cell_type": "code",
      "source": [
        "y = df7.iloc[121070 : , 5 ]\n",
        "y"
      ],
      "metadata": {
        "id": "o3AEtg3ln9_a"
      },
      "execution_count": null,
      "outputs": []
    },
    {
      "cell_type": "code",
      "source": [
        "x_train, x_test, y_train, y_test = train_test_split(x ,y , test_size=0.2, random_state=0)"
      ],
      "metadata": {
        "id": "OHLnbX2Vn_p9"
      },
      "execution_count": null,
      "outputs": []
    },
    {
      "cell_type": "code",
      "source": [
        "x_train"
      ],
      "metadata": {
        "id": "C7R1u8TToFTy",
        "colab": {
          "base_uri": "https://localhost:8080/",
          "height": 426
        },
        "outputId": "19d18d5d-898c-4223-afda-712be38ec66b"
      },
      "execution_count": null,
      "outputs": [
        {
          "output_type": "execute_result",
          "data": {
            "text/plain": [
              "            date  total_vaccinations  people_vaccinated  \\\n",
              "121079  1.682592           -0.149022          -0.143231   \n",
              "121084  1.714440           -0.148989          -0.143202   \n",
              "121074  1.650743           -0.149066          -0.143256   \n",
              "121072  1.638004           -0.149112          -0.143282   \n",
              "121083  1.708070           -0.148991          -0.143202   \n",
              "121080  1.688961           -0.149007          -0.143218   \n",
              "121077  1.669852           -0.149034          -0.143241   \n",
              "121081  1.695331           -0.149001          -0.143214   \n",
              "121073  1.644373           -0.149094          -0.143272   \n",
              "121070  1.625264           -0.164802          -0.161208   \n",
              "121075  1.657113           -0.149046          -0.143250   \n",
              "121082  1.701701           -0.148998          -0.143212   \n",
              "\n",
              "        people_fully_vaccinated  total_boosters  \n",
              "121079                -0.137113       -0.107983  \n",
              "121084                -0.137089       -0.107910  \n",
              "121074                -0.137168       -0.108066  \n",
              "121072                -0.137217       -0.108165  \n",
              "121083                -0.137091       -0.107919  \n",
              "121080                -0.137101       -0.107952  \n",
              "121077                -0.137122       -0.108013  \n",
              "121081                -0.137096       -0.107942  \n",
              "121073                -0.137200       -0.108120  \n",
              "121070                -0.152470       -0.118414  \n",
              "121075                -0.137130       -0.108046  \n",
              "121082                -0.137093       -0.107934  "
            ],
            "text/html": [
              "\n",
              "  <div id=\"df-8b30bed4-1c23-4532-8337-7f32c25087c3\">\n",
              "    <div class=\"colab-df-container\">\n",
              "      <div>\n",
              "<style scoped>\n",
              "    .dataframe tbody tr th:only-of-type {\n",
              "        vertical-align: middle;\n",
              "    }\n",
              "\n",
              "    .dataframe tbody tr th {\n",
              "        vertical-align: top;\n",
              "    }\n",
              "\n",
              "    .dataframe thead th {\n",
              "        text-align: right;\n",
              "    }\n",
              "</style>\n",
              "<table border=\"1\" class=\"dataframe\">\n",
              "  <thead>\n",
              "    <tr style=\"text-align: right;\">\n",
              "      <th></th>\n",
              "      <th>date</th>\n",
              "      <th>total_vaccinations</th>\n",
              "      <th>people_vaccinated</th>\n",
              "      <th>people_fully_vaccinated</th>\n",
              "      <th>total_boosters</th>\n",
              "    </tr>\n",
              "  </thead>\n",
              "  <tbody>\n",
              "    <tr>\n",
              "      <th>121079</th>\n",
              "      <td>1.682592</td>\n",
              "      <td>-0.149022</td>\n",
              "      <td>-0.143231</td>\n",
              "      <td>-0.137113</td>\n",
              "      <td>-0.107983</td>\n",
              "    </tr>\n",
              "    <tr>\n",
              "      <th>121084</th>\n",
              "      <td>1.714440</td>\n",
              "      <td>-0.148989</td>\n",
              "      <td>-0.143202</td>\n",
              "      <td>-0.137089</td>\n",
              "      <td>-0.107910</td>\n",
              "    </tr>\n",
              "    <tr>\n",
              "      <th>121074</th>\n",
              "      <td>1.650743</td>\n",
              "      <td>-0.149066</td>\n",
              "      <td>-0.143256</td>\n",
              "      <td>-0.137168</td>\n",
              "      <td>-0.108066</td>\n",
              "    </tr>\n",
              "    <tr>\n",
              "      <th>121072</th>\n",
              "      <td>1.638004</td>\n",
              "      <td>-0.149112</td>\n",
              "      <td>-0.143282</td>\n",
              "      <td>-0.137217</td>\n",
              "      <td>-0.108165</td>\n",
              "    </tr>\n",
              "    <tr>\n",
              "      <th>121083</th>\n",
              "      <td>1.708070</td>\n",
              "      <td>-0.148991</td>\n",
              "      <td>-0.143202</td>\n",
              "      <td>-0.137091</td>\n",
              "      <td>-0.107919</td>\n",
              "    </tr>\n",
              "    <tr>\n",
              "      <th>121080</th>\n",
              "      <td>1.688961</td>\n",
              "      <td>-0.149007</td>\n",
              "      <td>-0.143218</td>\n",
              "      <td>-0.137101</td>\n",
              "      <td>-0.107952</td>\n",
              "    </tr>\n",
              "    <tr>\n",
              "      <th>121077</th>\n",
              "      <td>1.669852</td>\n",
              "      <td>-0.149034</td>\n",
              "      <td>-0.143241</td>\n",
              "      <td>-0.137122</td>\n",
              "      <td>-0.108013</td>\n",
              "    </tr>\n",
              "    <tr>\n",
              "      <th>121081</th>\n",
              "      <td>1.695331</td>\n",
              "      <td>-0.149001</td>\n",
              "      <td>-0.143214</td>\n",
              "      <td>-0.137096</td>\n",
              "      <td>-0.107942</td>\n",
              "    </tr>\n",
              "    <tr>\n",
              "      <th>121073</th>\n",
              "      <td>1.644373</td>\n",
              "      <td>-0.149094</td>\n",
              "      <td>-0.143272</td>\n",
              "      <td>-0.137200</td>\n",
              "      <td>-0.108120</td>\n",
              "    </tr>\n",
              "    <tr>\n",
              "      <th>121070</th>\n",
              "      <td>1.625264</td>\n",
              "      <td>-0.164802</td>\n",
              "      <td>-0.161208</td>\n",
              "      <td>-0.152470</td>\n",
              "      <td>-0.118414</td>\n",
              "    </tr>\n",
              "    <tr>\n",
              "      <th>121075</th>\n",
              "      <td>1.657113</td>\n",
              "      <td>-0.149046</td>\n",
              "      <td>-0.143250</td>\n",
              "      <td>-0.137130</td>\n",
              "      <td>-0.108046</td>\n",
              "    </tr>\n",
              "    <tr>\n",
              "      <th>121082</th>\n",
              "      <td>1.701701</td>\n",
              "      <td>-0.148998</td>\n",
              "      <td>-0.143212</td>\n",
              "      <td>-0.137093</td>\n",
              "      <td>-0.107934</td>\n",
              "    </tr>\n",
              "  </tbody>\n",
              "</table>\n",
              "</div>\n",
              "      <button class=\"colab-df-convert\" onclick=\"convertToInteractive('df-8b30bed4-1c23-4532-8337-7f32c25087c3')\"\n",
              "              title=\"Convert this dataframe to an interactive table.\"\n",
              "              style=\"display:none;\">\n",
              "        \n",
              "  <svg xmlns=\"http://www.w3.org/2000/svg\" height=\"24px\"viewBox=\"0 0 24 24\"\n",
              "       width=\"24px\">\n",
              "    <path d=\"M0 0h24v24H0V0z\" fill=\"none\"/>\n",
              "    <path d=\"M18.56 5.44l.94 2.06.94-2.06 2.06-.94-2.06-.94-.94-2.06-.94 2.06-2.06.94zm-11 1L8.5 8.5l.94-2.06 2.06-.94-2.06-.94L8.5 2.5l-.94 2.06-2.06.94zm10 10l.94 2.06.94-2.06 2.06-.94-2.06-.94-.94-2.06-.94 2.06-2.06.94z\"/><path d=\"M17.41 7.96l-1.37-1.37c-.4-.4-.92-.59-1.43-.59-.52 0-1.04.2-1.43.59L10.3 9.45l-7.72 7.72c-.78.78-.78 2.05 0 2.83L4 21.41c.39.39.9.59 1.41.59.51 0 1.02-.2 1.41-.59l7.78-7.78 2.81-2.81c.8-.78.8-2.07 0-2.86zM5.41 20L4 18.59l7.72-7.72 1.47 1.35L5.41 20z\"/>\n",
              "  </svg>\n",
              "      </button>\n",
              "      \n",
              "  <style>\n",
              "    .colab-df-container {\n",
              "      display:flex;\n",
              "      flex-wrap:wrap;\n",
              "      gap: 12px;\n",
              "    }\n",
              "\n",
              "    .colab-df-convert {\n",
              "      background-color: #E8F0FE;\n",
              "      border: none;\n",
              "      border-radius: 50%;\n",
              "      cursor: pointer;\n",
              "      display: none;\n",
              "      fill: #1967D2;\n",
              "      height: 32px;\n",
              "      padding: 0 0 0 0;\n",
              "      width: 32px;\n",
              "    }\n",
              "\n",
              "    .colab-df-convert:hover {\n",
              "      background-color: #E2EBFA;\n",
              "      box-shadow: 0px 1px 2px rgba(60, 64, 67, 0.3), 0px 1px 3px 1px rgba(60, 64, 67, 0.15);\n",
              "      fill: #174EA6;\n",
              "    }\n",
              "\n",
              "    [theme=dark] .colab-df-convert {\n",
              "      background-color: #3B4455;\n",
              "      fill: #D2E3FC;\n",
              "    }\n",
              "\n",
              "    [theme=dark] .colab-df-convert:hover {\n",
              "      background-color: #434B5C;\n",
              "      box-shadow: 0px 1px 3px 1px rgba(0, 0, 0, 0.15);\n",
              "      filter: drop-shadow(0px 1px 2px rgba(0, 0, 0, 0.3));\n",
              "      fill: #FFFFFF;\n",
              "    }\n",
              "  </style>\n",
              "\n",
              "      <script>\n",
              "        const buttonEl =\n",
              "          document.querySelector('#df-8b30bed4-1c23-4532-8337-7f32c25087c3 button.colab-df-convert');\n",
              "        buttonEl.style.display =\n",
              "          google.colab.kernel.accessAllowed ? 'block' : 'none';\n",
              "\n",
              "        async function convertToInteractive(key) {\n",
              "          const element = document.querySelector('#df-8b30bed4-1c23-4532-8337-7f32c25087c3');\n",
              "          const dataTable =\n",
              "            await google.colab.kernel.invokeFunction('convertToInteractive',\n",
              "                                                     [key], {});\n",
              "          if (!dataTable) return;\n",
              "\n",
              "          const docLinkHtml = 'Like what you see? Visit the ' +\n",
              "            '<a target=\"_blank\" href=https://colab.research.google.com/notebooks/data_table.ipynb>data table notebook</a>'\n",
              "            + ' to learn more about interactive tables.';\n",
              "          element.innerHTML = '';\n",
              "          dataTable['output_type'] = 'display_data';\n",
              "          await google.colab.output.renderOutput(dataTable, element);\n",
              "          const docLink = document.createElement('div');\n",
              "          docLink.innerHTML = docLinkHtml;\n",
              "          element.appendChild(docLink);\n",
              "        }\n",
              "      </script>\n",
              "    </div>\n",
              "  </div>\n",
              "  "
            ]
          },
          "metadata": {},
          "execution_count": 52
        }
      ]
    },
    {
      "cell_type": "code",
      "source": [
        "y_train"
      ],
      "metadata": {
        "id": "ymP3QUcwoHvT",
        "colab": {
          "base_uri": "https://localhost:8080/"
        },
        "outputId": "ba1bb7cc-614d-4e86-c564-44c382edddf1"
      },
      "execution_count": null,
      "outputs": [
        {
          "output_type": "execute_result",
          "data": {
            "text/plain": [
              "121079     3787\n",
              "121084     1742\n",
              "121074    10829\n",
              "121072     4291\n",
              "121083     4408\n",
              "121080     7525\n",
              "121077     4979\n",
              "121081     3507\n",
              "121073     8448\n",
              "121070        0\n",
              "121075     9114\n",
              "121082     2278\n",
              "Name: daily_vaccinations_raw, dtype: int64"
            ]
          },
          "metadata": {},
          "execution_count": 53
        }
      ]
    },
    {
      "cell_type": "code",
      "source": [
        "x_test"
      ],
      "metadata": {
        "id": "m4uhMsWQoJ59"
      },
      "execution_count": null,
      "outputs": []
    },
    {
      "cell_type": "code",
      "source": [
        "y_test"
      ],
      "metadata": {
        "id": "AV3T0oWXoLJE"
      },
      "execution_count": null,
      "outputs": []
    },
    {
      "cell_type": "code",
      "source": [
        "from sklearn import svm\n",
        "\n",
        "\n",
        "SVM_classifier = svm.SVC(kernel='linear') \n",
        "\n",
        "\n",
        "SVM_classifier.fit(x_train, y_train)\n"
      ],
      "metadata": {
        "colab": {
          "base_uri": "https://localhost:8080/"
        },
        "id": "YsNSpVeloNiC",
        "outputId": "42e06806-897c-446e-f65f-e49aea0b71ac"
      },
      "execution_count": null,
      "outputs": [
        {
          "output_type": "execute_result",
          "data": {
            "text/plain": [
              "SVC(kernel='linear')"
            ]
          },
          "metadata": {},
          "execution_count": 56
        }
      ]
    },
    {
      "cell_type": "code",
      "source": [
        "y_pred = SVM_classifier.predict(x_test)"
      ],
      "metadata": {
        "id": "nmkdtrhZv3dW"
      },
      "execution_count": null,
      "outputs": []
    },
    {
      "cell_type": "code",
      "source": [
        "y_test"
      ],
      "metadata": {
        "colab": {
          "base_uri": "https://localhost:8080/"
        },
        "id": "xxw3V9Inv-na",
        "outputId": "3714848a-93ba-4f58-edce-983f10400fec"
      },
      "execution_count": null,
      "outputs": [
        {
          "output_type": "execute_result",
          "data": {
            "text/plain": [
              "121071       0\n",
              "121076    2745\n",
              "121078    4128\n",
              "Name: daily_vaccinations_raw, dtype: int64"
            ]
          },
          "metadata": {},
          "execution_count": 58
        }
      ]
    },
    {
      "cell_type": "code",
      "source": [
        "y_pred"
      ],
      "metadata": {
        "colab": {
          "base_uri": "https://localhost:8080/"
        },
        "id": "EvoB8C4cwFRN",
        "outputId": "178e4241-f60b-4a28-e8cc-7071b7165e89"
      },
      "execution_count": null,
      "outputs": [
        {
          "output_type": "execute_result",
          "data": {
            "text/plain": [
              "array([4291, 4979, 3787])"
            ]
          },
          "metadata": {},
          "execution_count": 59
        }
      ]
    },
    {
      "cell_type": "code",
      "source": [
        "from sklearn import metrics\n",
        "print(\"The accuracy:\",metrics.accuracy_score(y_test, y_pred))"
      ],
      "metadata": {
        "colab": {
          "base_uri": "https://localhost:8080/"
        },
        "id": "mtqqPSwN4v71",
        "outputId": "1b1a1d18-951d-4eba-ea61-c54584ef28be"
      },
      "execution_count": null,
      "outputs": [
        {
          "output_type": "stream",
          "name": "stdout",
          "text": [
            "The accuracy: 0.0\n"
          ]
        }
      ]
    },
    {
      "cell_type": "code",
      "source": [
        "print(\"The precision:\",metrics.precision_score(y_test, y_pred, average='weighted'))"
      ],
      "metadata": {
        "colab": {
          "base_uri": "https://localhost:8080/"
        },
        "id": "0aNlPezH4zO3",
        "outputId": "fbcaba38-adc9-4db6-a380-45c0b292a2cf"
      },
      "execution_count": null,
      "outputs": [
        {
          "output_type": "stream",
          "name": "stdout",
          "text": [
            "The precision: 0.0\n"
          ]
        },
        {
          "output_type": "stream",
          "name": "stderr",
          "text": [
            "/usr/local/lib/python3.7/dist-packages/sklearn/metrics/_classification.py:1318: UndefinedMetricWarning: Precision is ill-defined and being set to 0.0 in labels with no predicted samples. Use `zero_division` parameter to control this behavior.\n",
            "  _warn_prf(average, modifier, msg_start, len(result))\n"
          ]
        }
      ]
    },
    {
      "cell_type": "code",
      "source": [
        "print(\"Recall:\",metrics.recall_score(y_test, y_pred, average='weighted'))"
      ],
      "metadata": {
        "colab": {
          "base_uri": "https://localhost:8080/"
        },
        "id": "jj5UW9v_48Lu",
        "outputId": "c05eadbf-25d4-4475-c297-62603eebf353"
      },
      "execution_count": null,
      "outputs": [
        {
          "output_type": "stream",
          "name": "stdout",
          "text": [
            "Recall: 0.0\n"
          ]
        },
        {
          "output_type": "stream",
          "name": "stderr",
          "text": [
            "/usr/local/lib/python3.7/dist-packages/sklearn/metrics/_classification.py:1318: UndefinedMetricWarning: Recall is ill-defined and being set to 0.0 in labels with no true samples. Use `zero_division` parameter to control this behavior.\n",
            "  _warn_prf(average, modifier, msg_start, len(result))\n"
          ]
        }
      ]
    },
    {
      "cell_type": "code",
      "source": [
        "from sklearn.metrics import classification_report\n",
        "print(classification_report(y_test , y_pred))"
      ],
      "metadata": {
        "id": "fbj-A5Rq5BPC",
        "colab": {
          "base_uri": "https://localhost:8080/"
        },
        "outputId": "df6a69c2-9e92-4ac0-927d-dc05ca697836"
      },
      "execution_count": null,
      "outputs": [
        {
          "output_type": "stream",
          "name": "stdout",
          "text": [
            "              precision    recall  f1-score   support\n",
            "\n",
            "           0       0.00      0.00      0.00       1.0\n",
            "        2745       0.00      0.00      0.00       1.0\n",
            "        3787       0.00      0.00      0.00       0.0\n",
            "        4128       0.00      0.00      0.00       1.0\n",
            "        4291       0.00      0.00      0.00       0.0\n",
            "        4979       0.00      0.00      0.00       0.0\n",
            "\n",
            "    accuracy                           0.00       3.0\n",
            "   macro avg       0.00      0.00      0.00       3.0\n",
            "weighted avg       0.00      0.00      0.00       3.0\n",
            "\n"
          ]
        },
        {
          "output_type": "stream",
          "name": "stderr",
          "text": [
            "/usr/local/lib/python3.7/dist-packages/sklearn/metrics/_classification.py:1318: UndefinedMetricWarning: Precision and F-score are ill-defined and being set to 0.0 in labels with no predicted samples. Use `zero_division` parameter to control this behavior.\n",
            "  _warn_prf(average, modifier, msg_start, len(result))\n",
            "/usr/local/lib/python3.7/dist-packages/sklearn/metrics/_classification.py:1318: UndefinedMetricWarning: Recall and F-score are ill-defined and being set to 0.0 in labels with no true samples. Use `zero_division` parameter to control this behavior.\n",
            "  _warn_prf(average, modifier, msg_start, len(result))\n",
            "/usr/local/lib/python3.7/dist-packages/sklearn/metrics/_classification.py:1318: UndefinedMetricWarning: Precision and F-score are ill-defined and being set to 0.0 in labels with no predicted samples. Use `zero_division` parameter to control this behavior.\n",
            "  _warn_prf(average, modifier, msg_start, len(result))\n",
            "/usr/local/lib/python3.7/dist-packages/sklearn/metrics/_classification.py:1318: UndefinedMetricWarning: Recall and F-score are ill-defined and being set to 0.0 in labels with no true samples. Use `zero_division` parameter to control this behavior.\n",
            "  _warn_prf(average, modifier, msg_start, len(result))\n",
            "/usr/local/lib/python3.7/dist-packages/sklearn/metrics/_classification.py:1318: UndefinedMetricWarning: Precision and F-score are ill-defined and being set to 0.0 in labels with no predicted samples. Use `zero_division` parameter to control this behavior.\n",
            "  _warn_prf(average, modifier, msg_start, len(result))\n",
            "/usr/local/lib/python3.7/dist-packages/sklearn/metrics/_classification.py:1318: UndefinedMetricWarning: Recall and F-score are ill-defined and being set to 0.0 in labels with no true samples. Use `zero_division` parameter to control this behavior.\n",
            "  _warn_prf(average, modifier, msg_start, len(result))\n"
          ]
        }
      ]
    },
    {
      "cell_type": "code",
      "source": [
        "from sklearn.naive_bayes import GaussianNB"
      ],
      "metadata": {
        "id": "Kk43GfFM5GR5"
      },
      "execution_count": null,
      "outputs": []
    },
    {
      "cell_type": "code",
      "source": [
        "NB_classifier = GaussianNB()\n",
        "y_pred = NB_classifier.fit(x_train, y_train).predict(x_test)"
      ],
      "metadata": {
        "id": "UVQ8vVvY5Lmx"
      },
      "execution_count": null,
      "outputs": []
    },
    {
      "cell_type": "code",
      "source": [
        "print(classification_report(y_test , y_pred))"
      ],
      "metadata": {
        "id": "SkWUJHmL5M2C",
        "colab": {
          "base_uri": "https://localhost:8080/"
        },
        "outputId": "4b4c0cc0-666a-40ff-ecff-19a8c0a5ebb5"
      },
      "execution_count": null,
      "outputs": [
        {
          "output_type": "stream",
          "name": "stdout",
          "text": [
            "              precision    recall  f1-score   support\n",
            "\n",
            "           0       0.00      0.00      0.00       1.0\n",
            "        2745       0.00      0.00      0.00       1.0\n",
            "        3787       0.00      0.00      0.00       0.0\n",
            "        4128       0.00      0.00      0.00       1.0\n",
            "        4291       0.00      0.00      0.00       0.0\n",
            "        9114       0.00      0.00      0.00       0.0\n",
            "\n",
            "    accuracy                           0.00       3.0\n",
            "   macro avg       0.00      0.00      0.00       3.0\n",
            "weighted avg       0.00      0.00      0.00       3.0\n",
            "\n"
          ]
        },
        {
          "output_type": "stream",
          "name": "stderr",
          "text": [
            "/usr/local/lib/python3.7/dist-packages/sklearn/metrics/_classification.py:1318: UndefinedMetricWarning: Precision and F-score are ill-defined and being set to 0.0 in labels with no predicted samples. Use `zero_division` parameter to control this behavior.\n",
            "  _warn_prf(average, modifier, msg_start, len(result))\n",
            "/usr/local/lib/python3.7/dist-packages/sklearn/metrics/_classification.py:1318: UndefinedMetricWarning: Recall and F-score are ill-defined and being set to 0.0 in labels with no true samples. Use `zero_division` parameter to control this behavior.\n",
            "  _warn_prf(average, modifier, msg_start, len(result))\n",
            "/usr/local/lib/python3.7/dist-packages/sklearn/metrics/_classification.py:1318: UndefinedMetricWarning: Precision and F-score are ill-defined and being set to 0.0 in labels with no predicted samples. Use `zero_division` parameter to control this behavior.\n",
            "  _warn_prf(average, modifier, msg_start, len(result))\n",
            "/usr/local/lib/python3.7/dist-packages/sklearn/metrics/_classification.py:1318: UndefinedMetricWarning: Recall and F-score are ill-defined and being set to 0.0 in labels with no true samples. Use `zero_division` parameter to control this behavior.\n",
            "  _warn_prf(average, modifier, msg_start, len(result))\n",
            "/usr/local/lib/python3.7/dist-packages/sklearn/metrics/_classification.py:1318: UndefinedMetricWarning: Precision and F-score are ill-defined and being set to 0.0 in labels with no predicted samples. Use `zero_division` parameter to control this behavior.\n",
            "  _warn_prf(average, modifier, msg_start, len(result))\n",
            "/usr/local/lib/python3.7/dist-packages/sklearn/metrics/_classification.py:1318: UndefinedMetricWarning: Recall and F-score are ill-defined and being set to 0.0 in labels with no true samples. Use `zero_division` parameter to control this behavior.\n",
            "  _warn_prf(average, modifier, msg_start, len(result))\n"
          ]
        }
      ]
    },
    {
      "cell_type": "code",
      "source": [
        "from sklearn.ensemble import RandomForestClassifier\n",
        "\n",
        "RFC =RandomForestClassifier(n_estimators=100)\n",
        "y_pred = RFC.fit(x_train, y_train).predict(x_test)\n"
      ],
      "metadata": {
        "id": "lUWT-sQA5QGK"
      },
      "execution_count": null,
      "outputs": []
    },
    {
      "cell_type": "code",
      "source": [
        "print(classification_report(y_test , y_pred))"
      ],
      "metadata": {
        "id": "vg35Rf5f5Xax",
        "colab": {
          "base_uri": "https://localhost:8080/"
        },
        "outputId": "c94ed3be-8bc7-4e0d-a238-2af5c221307d"
      },
      "execution_count": null,
      "outputs": [
        {
          "output_type": "stream",
          "name": "stdout",
          "text": [
            "              precision    recall  f1-score   support\n",
            "\n",
            "           0       0.00      0.00      0.00       1.0\n",
            "        2745       0.00      0.00      0.00       1.0\n",
            "        4128       0.00      0.00      0.00       1.0\n",
            "        4291       0.00      0.00      0.00       0.0\n",
            "        4979       0.00      0.00      0.00       0.0\n",
            "        9114       0.00      0.00      0.00       0.0\n",
            "\n",
            "    accuracy                           0.00       3.0\n",
            "   macro avg       0.00      0.00      0.00       3.0\n",
            "weighted avg       0.00      0.00      0.00       3.0\n",
            "\n"
          ]
        },
        {
          "output_type": "stream",
          "name": "stderr",
          "text": [
            "/usr/local/lib/python3.7/dist-packages/sklearn/metrics/_classification.py:1318: UndefinedMetricWarning: Precision and F-score are ill-defined and being set to 0.0 in labels with no predicted samples. Use `zero_division` parameter to control this behavior.\n",
            "  _warn_prf(average, modifier, msg_start, len(result))\n",
            "/usr/local/lib/python3.7/dist-packages/sklearn/metrics/_classification.py:1318: UndefinedMetricWarning: Recall and F-score are ill-defined and being set to 0.0 in labels with no true samples. Use `zero_division` parameter to control this behavior.\n",
            "  _warn_prf(average, modifier, msg_start, len(result))\n",
            "/usr/local/lib/python3.7/dist-packages/sklearn/metrics/_classification.py:1318: UndefinedMetricWarning: Precision and F-score are ill-defined and being set to 0.0 in labels with no predicted samples. Use `zero_division` parameter to control this behavior.\n",
            "  _warn_prf(average, modifier, msg_start, len(result))\n",
            "/usr/local/lib/python3.7/dist-packages/sklearn/metrics/_classification.py:1318: UndefinedMetricWarning: Recall and F-score are ill-defined and being set to 0.0 in labels with no true samples. Use `zero_division` parameter to control this behavior.\n",
            "  _warn_prf(average, modifier, msg_start, len(result))\n",
            "/usr/local/lib/python3.7/dist-packages/sklearn/metrics/_classification.py:1318: UndefinedMetricWarning: Precision and F-score are ill-defined and being set to 0.0 in labels with no predicted samples. Use `zero_division` parameter to control this behavior.\n",
            "  _warn_prf(average, modifier, msg_start, len(result))\n",
            "/usr/local/lib/python3.7/dist-packages/sklearn/metrics/_classification.py:1318: UndefinedMetricWarning: Recall and F-score are ill-defined and being set to 0.0 in labels with no true samples. Use `zero_division` parameter to control this behavior.\n",
            "  _warn_prf(average, modifier, msg_start, len(result))\n"
          ]
        }
      ]
    },
    {
      "cell_type": "code",
      "source": [
        "uploaded = files.upload()"
      ],
      "metadata": {
        "colab": {
          "resources": {
            "http://localhost:8080/nbextensions/google.colab/files.js": {
              "data": "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",
              "ok": true,
              "headers": [
                [
                  "content-type",
                  "application/javascript"
                ]
              ],
              "status": 200,
              "status_text": ""
            }
          },
          "base_uri": "https://localhost:8080/",
          "height": 177
        },
        "id": "DWz5va4y5huY",
        "outputId": "c64d9499-f70e-4d35-ab1e-026bd78353ec"
      },
      "execution_count": null,
      "outputs": [
        {
          "output_type": "display_data",
          "data": {
            "text/plain": [
              "<IPython.core.display.HTML object>"
            ],
            "text/html": [
              "\n",
              "     <input type=\"file\" id=\"files-d2dda7c7-b56b-4b9a-9fac-5101e1323f4f\" name=\"files[]\" multiple disabled\n",
              "        style=\"border:none\" />\n",
              "     <output id=\"result-d2dda7c7-b56b-4b9a-9fac-5101e1323f4f\">\n",
              "      Upload widget is only available when the cell has been executed in the\n",
              "      current browser session. Please rerun this cell to enable.\n",
              "      </output>\n",
              "      <script src=\"/nbextensions/google.colab/files.js\"></script> "
            ]
          },
          "metadata": {}
        },
        {
          "output_type": "stream",
          "name": "stdout",
          "text": [
            "Saving projectimg1.png to projectimg1 (1).png\n",
            "Saving projectimg2.png to projectimg2 (1).png\n",
            "Saving projectimg3.png to projectimg3 (1).png\n",
            "Saving projectimg4.png to projectimg4 (1).png\n"
          ]
        }
      ]
    },
    {
      "cell_type": "code",
      "source": [
        "urls = [\"projectimg1.png\",\"projectimg2.png\",\"projectimg3.png\",\"projectimg4.png\"]  \n",
        "\n",
        "for url in urls:\n",
        "  image = io.imread(url) \n",
        "  \n",
        "  \n",
        "  cv2_imshow(image)\n",
        "  print('\\n')"
      ],
      "metadata": {
        "colab": {
          "base_uri": "https://localhost:8080/",
          "height": 1000
        },
        "id": "kWGwch0X5puh",
        "outputId": "d86d847a-c9f1-448f-b18e-8e60820d2d7e"
      },
      "execution_count": null,
      "outputs": [
        {
          "output_type": "display_data",
          "data": {
            "text/plain": [
              "<PIL.Image.Image image mode=RGBA size=624x713 at 0x7F31BB045D10>"
            ],
            "image/png": "[encoded data removed]"
          },
          "metadata": {}
        },
        {
          "output_type": "stream",
          "name": "stdout",
          "text": [
            "\n",
            "\n"
          ]
        },
        {
          "output_type": "display_data",
          "data": {
            "text/plain": [
              "<PIL.Image.Image image mode=RGBA size=605x713 at 0x7F31BB040910>"
            ],
            "image/png": "[encoded data removed]"
          },
          "metadata": {}
        },
        {
          "output_type": "stream",
          "name": "stdout",
          "text": [
            "\n",
            "\n"
          ]
        },
        {
          "output_type": "display_data",
          "data": {
            "text/plain": [
              "<PIL.Image.Image image mode=RGBA size=751x286 at 0x7F31BB80AD10>"
            ],
            "image/png": "[encoded data removed]"
          },
          "metadata": {}
        },
        {
          "output_type": "stream",
          "name": "stdout",
          "text": [
            "\n",
            "\n"
          ]
        },
        {
          "output_type": "display_data",
          "data": {
            "text/plain": [
              "<PIL.Image.Image image mode=RGBA size=387x248 at 0x7F31BB0C0CD0>"
            ],
            "image/png": "[encoded data removed]"
          },
          "metadata": {}
        },
        {
          "output_type": "stream",
          "name": "stdout",
          "text": [
            "\n",
            "\n"
          ]
        }
      ]
    }
  ]
}