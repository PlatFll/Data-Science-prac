{
  "nbformat": 4,
  "nbformat_minor": 0,
  "metadata": {
    "colab": {
      "provenance": [],
      "collapsed_sections": []
    },
    "kernelspec": {
      "name": "python3",
      "display_name": "Python 3"
    },
    "language_info": {
      "name": "python"
    }
  },
  "cells": [
    {
      "cell_type": "code",
      "execution_count": null,
      "metadata": {
        "id": "do49C_S7kBFZ"
      },
      "outputs": [],
      "source": [
        "import pandas as pd"
      ]
    },
    {
      "cell_type": "code",
      "source": [
        "music_data = pd.read_csv('/content/music.csv')"
      ],
      "metadata": {
        "id": "XzFqp-5FmycZ"
      },
      "execution_count": null,
      "outputs": []
    },
    {
      "cell_type": "code",
      "source": [
        "music_data"
      ],
      "metadata": {
        "id": "FWxd8kD4m_XA"
      },
      "execution_count": null,
      "outputs": []
    },
    {
      "cell_type": "code",
      "source": [
        "X = music_data.drop(columns = ['genre'])"
      ],
      "metadata": {
        "id": "hyFmgK-hnPy_"
      },
      "execution_count": null,
      "outputs": []
    },
    {
      "cell_type": "code",
      "source": [
        "y = music_data['genre']"
      ],
      "metadata": {
        "id": "xOpT74bvoCtR"
      },
      "execution_count": null,
      "outputs": []
    },
    {
      "cell_type": "code",
      "source": [
        "from sklearn.tree import DecisionTreeClassifier\n",
        "from sklearn.model_selection import train_test_split\n",
        "from sklearn.metrics import accuracy_score"
      ],
      "metadata": {
        "id": "Y9Iobrx9n9CQ"
      },
      "execution_count": null,
      "outputs": []
    },
    {
      "cell_type": "code",
      "source": [
        "X_train, X_test, y_train , y_test = train_test_split(X, y, test_size= 0.2)"
      ],
      "metadata": {
        "id": "FrIjZ8uDJnWu"
      },
      "execution_count": null,
      "outputs": []
    },
    {
      "cell_type": "code",
      "source": [
        "model = DecisionTreeClassifier()\n",
        "model.fit(X_train, y_train)\n",
        "predictions = model.predict(X_test)\n",
        "score = accuracy_score(y_test, predictions)\n",
        "score"
      ],
      "metadata": {
        "id": "9WlHSKHppW2T"
      },
      "execution_count": null,
      "outputs": []
    },
    {
      "cell_type": "code",
      "source": [
        "import joblib"
      ],
      "metadata": {
        "id": "R6T-Qh1XLZDP"
      },
      "execution_count": null,
      "outputs": []
    },
    {
      "cell_type": "code",
      "source": [
        "joblib.dump(model, 'music-recommender.joblib')\n"
      ],
      "metadata": {
        "id": "CdrHip4QL14X"
      },
      "execution_count": null,
      "outputs": []
    },
    {
      "cell_type": "code",
      "source": [
        "model = joblib.load('music-recommender.joblib')\n",
        "predictions = model.predict([[21 , 1]])\n",
        "predictions"
      ],
      "metadata": {
        "id": "3rmeHJXtMm6D"
      },
      "execution_count": null,
      "outputs": []
    },
    {
      "cell_type": "code",
      "source": [
        "##from sklearn import tree\n",
        "##tree.export_graphviz(model, out_file='music-recommender.dot', feature_names = ['age', 'gender'], class_names = sorted(y.unique()),label = 'all', rounded = True, filled = True)"
      ],
      "metadata": {
        "id": "0yySECR6NDvw"
      },
      "execution_count": null,
      "outputs": []
    },
    {
      "cell_type": "code",
      "source": [
        "import matplotlib.pyplot as plt\n"
      ],
      "metadata": {
        "id": "GzPmawQNOMxi"
      },
      "execution_count": null,
      "outputs": []
    },
    {
      "cell_type": "code",
      "source": [
        "plt.plot(x, y)\n",
        "plt.title('Random BS')\n",
        "plt.xlabel('age')\n",
        "plt.ylabel('genre')\n",
        "plt.show()\n"
      ],
      "metadata": {
        "id": "X6jH3AtZOQ-5"
      },
      "execution_count": null,
      "outputs": []
    }
  ]
}